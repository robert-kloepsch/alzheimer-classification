{
 "cells": [
  {
   "cell_type": "code",
   "execution_count": 1,
   "metadata": {},
   "outputs": [],
   "source": [
    "#load all packages\n",
    "import tensorflow as tf\n",
    "from tensorflow.keras import layers, models\n",
    "import keras\n",
    "import pandas as pd\n",
    "import numpy as np\n",
    "import matplotlib.pyplot as plt\n",
    "import os\n",
    "import re\n",
    "from sklearn.model_selection import train_test_split\n",
    "from sklearn.utils import shuffle\n",
    "from sklearn.metrics import recall_score, precision_score, confusion_matrix, roc_curve, auc, precision_recall_curve\n",
    "from keras import metrics\n",
    "# import keras.backend as K\n",
    "# from keras.preprocessing.image import ImageDataGenerator\n",
    "from keras.utils import to_categorical, image_dataset_from_directory\n",
    "import cv2\n",
    "import glob\n",
    "# from tensorflow.python.client import device_lib\n",
    "# from sklearn.multiclass import OneVsRestClassifier\n",
    "from roc_multiclass import roc_multiclass\n",
    "from precision_recall_multiclass import precision_recall_multiclass\n",
    "from DataGenerator import DataGenerator\n",
    "\n",
    "keras.backend.clear_session()\n",
    "\n"
   ]
  },
  {
   "cell_type": "markdown",
   "metadata": {},
   "source": [
    "### Load Train Set\n",
    "<i>-deconstruct the set-<i>"
   ]
  },
  {
   "cell_type": "code",
   "execution_count": 2,
   "metadata": {},
   "outputs": [
    {
     "name": "stdout",
     "output_type": "stream",
     "text": [
      "Found 3071 files belonging to 4 classes.\n"
     ]
    }
   ],
   "source": [
    "# load dataset from drive\n",
    "PATH = \"F:\\\\MRI_class\\\\data\\\\Alzheimer_s Dataset\\\\train\"\n",
    "IMAGE_SIZE = (208, 176)\n",
    "train_ds = image_dataset_from_directory(\n",
    "                                        PATH, \n",
    "                                        seed=10, \n",
    "                                        shuffle=False,              #<---\n",
    "                                        image_size=IMAGE_SIZE, \n",
    "                                        batch_size=32\n",
    "                                        )\n",
    "                                        \n"
   ]
  },
  {
   "cell_type": "code",
   "execution_count": 3,
   "metadata": {},
   "outputs": [],
   "source": [
    "# seperation of training target and label\n",
    "# !!! these sets are not shuffled !!!\n",
    "\n",
    "X1_train_ds = []\n",
    "y1_train_ds = []\n",
    "X2_train_ds = []\n",
    "y2_train_ds = []\n",
    "\n",
    "\n",
    "for img, label in train_ds.unbatch():\n",
    "    if label.numpy() == 0:\n",
    "        X1_train_ds.append(img.numpy())\n",
    "        y1_train_ds.append([0])\n",
    "\n",
    "    if label.numpy() == 1:\n",
    "        X2_train_ds.append(img.numpy())\n",
    "        y2_train_ds.append([1])\n",
    "\n"
   ]
  },
  {
   "cell_type": "code",
   "execution_count": 4,
   "metadata": {},
   "outputs": [],
   "source": [
    "# create dataset for class 1 -NO oversampling- (healthy)\n",
    "X1_train_ds = np.array(X1_train_ds)\n",
    "y1_train_ds = np.array(y1_train_ds)\n"
   ]
  },
  {
   "cell_type": "code",
   "execution_count": 5,
   "metadata": {},
   "outputs": [],
   "source": [
    "# oversampling for class 2 (very mild)\n",
    "# np.random.choice(len(X2_train_ds))\n",
    "# randomPicksIdx = [np.random.choice(len(X2_train_ds)) for i in range(len(X1_train_ds) - len(X2_train_ds))]\n",
    "\n",
    "# for i in randomPicksIdx:\n",
    "#     X2_train_ds.append(X2_train_ds[i])\n",
    "#     y2_train_ds.append(y2_train_ds[i])\n",
    "\n",
    "X2_train_ds = np.array(X2_train_ds)\n",
    "y2_train_ds = np.array(y2_train_ds)\n",
    "\n"
   ]
  },
  {
   "cell_type": "code",
   "execution_count": 6,
   "metadata": {},
   "outputs": [],
   "source": [
    "# combine all data sets\n",
    "X_train_fullset = np.concatenate((X1_train_ds,X2_train_ds), axis=0)\n",
    "y_train_fullset = np.concatenate((y1_train_ds,y2_train_ds), axis=0)"
   ]
  },
  {
   "cell_type": "code",
   "execution_count": 7,
   "metadata": {},
   "outputs": [],
   "source": [
    "# shuffle the whole set\n",
    "X_train_temp, y_train_temp = shuffle(X_train_fullset, y_train_fullset, random_state=10)"
   ]
  },
  {
   "cell_type": "code",
   "execution_count": 8,
   "metadata": {},
   "outputs": [],
   "source": [
    "# finally create tensor dataset\n",
    "data_generator = DataGenerator(X_train_temp, y_train_temp, batch_size = 32)\n",
    "\n",
    "train_fullTensor = tf.data.Dataset.from_generator(\n",
    "                                            data_generator,\n",
    "                                            output_signature=(tf.TensorSpec(shape=(None, 208, 176, 3), dtype=tf.float32), tf.TensorSpec(shape=(None, 1), dtype=tf.float32))\n",
    "                                            )"
   ]
  },
  {
   "cell_type": "markdown",
   "metadata": {},
   "source": [
    "### Load Validation Sets"
   ]
  },
  {
   "cell_type": "code",
   "execution_count": 9,
   "metadata": {},
   "outputs": [
    {
     "name": "stdout",
     "output_type": "stream",
     "text": [
      "Found 2050 files belonging to 4 classes.\n"
     ]
    }
   ],
   "source": [
    "# load validation dataset from drive\n",
    "# set for training\n",
    "PATH = \"F:\\\\MRI_class\\\\data\\\\Alzheimer_s Dataset\\\\validation\"\n",
    "IMAGE_SIZE = (208, 176)\n",
    "val_ds = image_dataset_from_directory(\n",
    "                                        PATH, \n",
    "                                        seed=10, \n",
    "                                        shuffle=False, \n",
    "                                        image_size=IMAGE_SIZE, \n",
    "                                        batch_size=32\n",
    "                                        )\n"
   ]
  },
  {
   "cell_type": "code",
   "execution_count": 10,
   "metadata": {},
   "outputs": [],
   "source": [
    "# seperation of validation target and label\n",
    "# !!! these sets are not shuffled !!!\n",
    "\n",
    "X1_val = []\n",
    "y1_val = []\n",
    "X2_val = []\n",
    "y2_val = []\n",
    "\n",
    "for img, label in val_ds.unbatch():\n",
    "    if label.numpy() == 0:\n",
    "        X1_val.append(img.numpy())\n",
    "        y1_val.append([0])\n",
    "\n",
    "    if label.numpy() == 1:\n",
    "        X2_val.append(img.numpy())\n",
    "        y2_val.append([1])\n",
    "\n"
   ]
  },
  {
   "cell_type": "code",
   "execution_count": 11,
   "metadata": {},
   "outputs": [],
   "source": [
    "# combine all data sets\n",
    "X_val_fullset = np.concatenate((X1_val,X2_val), axis=0)\n",
    "y_val_fullset = np.concatenate((y1_val,y2_val), axis=0)"
   ]
  },
  {
   "cell_type": "code",
   "execution_count": 12,
   "metadata": {},
   "outputs": [],
   "source": [
    "# shuffle the whole set\n",
    "X_val_temp, y_val_temp = shuffle(X_val_fullset, y_val_fullset, random_state=10)"
   ]
  },
  {
   "cell_type": "code",
   "execution_count": 13,
   "metadata": {},
   "outputs": [],
   "source": [
    "# finally create tensor dataset\n",
    "data_generator = DataGenerator(X_val_temp, y_val_temp, batch_size = 32)\n",
    "\n",
    "val_fullTensor = tf.data.Dataset.from_generator(\n",
    "                                            data_generator,\n",
    "                                            output_signature=(tf.TensorSpec(shape=(None, 208, 176, 3), dtype=tf.float32), tf.TensorSpec(shape=(None, 1), dtype=tf.float32))\n",
    "                                            )\n",
    "\n",
    "# keep seperate val set for later validation\n",
    "X_val_eval = X_val_temp\n",
    "y_val_eval = y_val_temp"
   ]
  },
  {
   "cell_type": "markdown",
   "metadata": {},
   "source": [
    "### Visualize Example Brains"
   ]
  },
  {
   "cell_type": "code",
   "execution_count": 14,
   "metadata": {},
   "outputs": [
    {
     "data": {
      "image/png": "[encoded data removed]",
      "text/plain": [
       "<Figure size 720x720 with 3 Axes>"
      ]
     },
     "metadata": {
      "needs_background": "light"
     },
     "output_type": "display_data"
    }
   ],
   "source": [
    "# # plot some example images from loaded set\n",
    "plt.figure(figsize=(10, 10))\n",
    "for images, labels in train_ds.take(1):\n",
    "  for i in range(3):\n",
    "    ax = plt.subplot(1, 3, i + 1)\n",
    "    plt.imshow(images[i].numpy().astype(\"uint8\"))\n",
    "    plt.title([labels[i].numpy()][0])\n",
    "    plt.axis(\"off\")"
   ]
  },
  {
   "cell_type": "markdown",
   "metadata": {},
   "source": [
    "### Build CNN Architecture and Model Fitting"
   ]
  },
  {
   "cell_type": "code",
   "execution_count": 15,
   "metadata": {},
   "outputs": [],
   "source": [
    "#iniziating model architecture\n",
    "model = models.Sequential()\n",
    "#model.add(layers.Rescaling(1./255, input_shape=(208, 176, 3)))\n",
    "model.add(layers.Conv2D(50, (3, 3), padding='same', activation='relu'))\n",
    "model.add(layers.Conv2D(50, (3, 3), padding='same', activation='relu'))\n",
    "model.add(layers.MaxPooling2D((2, 2)))\n",
    "model.add(layers.Conv2D(50, (3, 3), activation='relu'))\n",
    "model.add(layers.Conv2D(50, (3, 3), activation='relu'))\n",
    "model.add(layers.MaxPooling2D((2, 2)))\n",
    "model.add(layers.Conv2D(50, (3, 3), activation='relu'))\n",
    "model.add(layers.MaxPooling2D((2, 2)))"
   ]
  },
  {
   "cell_type": "code",
   "execution_count": 16,
   "metadata": {},
   "outputs": [],
   "source": [
    "#add dense layes to conv layers\n",
    "model.add(layers.Flatten())\n",
    "model.add(layers.Dense(50, activation='relu'))\n",
    "model.add(layers.Dropout(rate=0.3))\n",
    "model.add(layers.Dense(20, activation='relu'))\n",
    "model.add(layers.Dense(1, activation=\"sigmoid\"))\n"
   ]
  },
  {
   "cell_type": "code",
   "execution_count": 17,
   "metadata": {},
   "outputs": [],
   "source": [
    "lr_schedule = tf.keras.optimizers.schedules.InverseTimeDecay(\n",
    "    0.0001,\n",
    "    decay_steps=train_ds.cardinality().numpy()*100,\n",
    "    decay_rate=1,\n",
    "    staircase=False)\n",
    "\n",
    "optimizer = tf.keras.optimizers.Adam(learning_rate=lr_schedule, name='Adam')\n"
   ]
  },
  {
   "cell_type": "code",
   "execution_count": 18,
   "metadata": {},
   "outputs": [
    {
     "name": "stdout",
     "output_type": "stream",
     "text": [
      "Epoch 1/50\n",
      "82/82 [==============================] - 11s 71ms/step - loss: 0.8973 - precision: 0.4528 - recall: 0.2679 - auc: 0.5367 - val_loss: 0.6378 - val_precision: 0.6556 - val_recall: 0.1381 - val_auc: 0.7195\n",
      "Epoch 2/50\n",
      "82/82 [==============================] - 4s 54ms/step - loss: 0.6428 - precision: 0.5264 - recall: 0.3805 - auc: 0.6442 - val_loss: 0.6028 - val_precision: 0.5982 - val_recall: 0.8285 - val_auc: 0.7806\n",
      "Epoch 3/50\n",
      "82/82 [==============================] - 4s 54ms/step - loss: 0.6183 - precision: 0.5688 - recall: 0.4884 - auc: 0.6857 - val_loss: 0.5684 - val_precision: 0.6835 - val_recall: 0.5481 - val_auc: 0.7959\n",
      "Epoch 4/50\n",
      "82/82 [==============================] - 4s 54ms/step - loss: 0.5720 - precision: 0.6168 - recall: 0.5526 - auc: 0.7508 - val_loss: 0.5360 - val_precision: 0.6772 - val_recall: 0.5969 - val_auc: 0.7971\n",
      "Epoch 5/50\n",
      "82/82 [==============================] - 5s 56ms/step - loss: 0.5520 - precision: 0.6449 - recall: 0.5340 - auc: 0.7736 - val_loss: 0.5208 - val_precision: 0.7185 - val_recall: 0.6123 - val_auc: 0.8362\n",
      "Epoch 6/50\n",
      "82/82 [==============================] - 5s 58ms/step - loss: 0.5173 - precision: 0.6720 - recall: 0.5507 - auc: 0.8099 - val_loss: 0.4776 - val_precision: 0.7240 - val_recall: 0.7755 - val_auc: 0.8638\n",
      "Epoch 7/50\n",
      "82/82 [==============================] - 5s 59ms/step - loss: 0.4833 - precision: 0.6286 - recall: 0.7684 - auc: 0.8323 - val_loss: 0.4482 - val_precision: 0.7704 - val_recall: 0.7113 - val_auc: 0.8967\n",
      "Epoch 8/50\n",
      "82/82 [==============================] - 5s 57ms/step - loss: 0.4535 - precision: 0.6370 - recall: 0.7935 - auc: 0.8486 - val_loss: 0.4249 - val_precision: 0.7170 - val_recall: 0.9079 - val_auc: 0.9190\n",
      "Epoch 9/50\n",
      "82/82 [==============================] - 4s 54ms/step - loss: 0.4230 - precision: 0.7495 - recall: 0.6651 - auc: 0.8732 - val_loss: 0.3616 - val_precision: 0.8192 - val_recall: 0.7964 - val_auc: 0.9352\n",
      "Epoch 10/50\n",
      "82/82 [==============================] - 4s 54ms/step - loss: 0.3730 - precision: 0.8038 - recall: 0.6633 - auc: 0.8971 - val_loss: 0.3282 - val_precision: 0.8813 - val_recall: 0.7559 - val_auc: 0.9480\n",
      "Epoch 11/50\n",
      "82/82 [==============================] - 4s 54ms/step - loss: 0.3541 - precision: 0.8179 - recall: 0.6391 - auc: 0.8995 - val_loss: 0.2870 - val_precision: 0.8692 - val_recall: 0.8340 - val_auc: 0.9607\n",
      "Epoch 12/50\n",
      "82/82 [==============================] - 4s 54ms/step - loss: 0.3348 - precision: 0.8580 - recall: 0.6409 - auc: 0.9111 - val_loss: 0.3142 - val_precision: 0.9523 - val_recall: 0.7238 - val_auc: 0.9599\n",
      "Epoch 13/50\n",
      "82/82 [==============================] - 4s 54ms/step - loss: 0.3227 - precision: 0.8645 - recall: 0.6530 - auc: 0.9155 - val_loss: 0.2616 - val_precision: 0.8976 - val_recall: 0.8312 - val_auc: 0.9666\n",
      "Epoch 14/50\n",
      "82/82 [==============================] - 4s 54ms/step - loss: 0.3001 - precision: 0.8870 - recall: 0.6428 - auc: 0.9219 - val_loss: 0.4206 - val_precision: 0.9915 - val_recall: 0.4895 - val_auc: 0.9567\n",
      "Epoch 15/50\n",
      "82/82 [==============================] - 4s 54ms/step - loss: 0.2933 - precision: 0.9118 - recall: 0.6540 - auc: 0.9285 - val_loss: 0.2404 - val_precision: 0.9487 - val_recall: 0.7741 - val_auc: 0.9751\n",
      "Epoch 16/50\n",
      "82/82 [==============================] - 4s 54ms/step - loss: 0.2617 - precision: 0.9443 - recall: 0.6781 - auc: 0.9374 - val_loss: 0.1987 - val_precision: 0.9271 - val_recall: 0.8689 - val_auc: 0.9778\n",
      "Epoch 17/50\n",
      "82/82 [==============================] - 4s 54ms/step - loss: 0.2621 - precision: 0.9595 - recall: 0.6605 - auc: 0.9373 - val_loss: 0.1922 - val_precision: 0.9596 - val_recall: 0.8285 - val_auc: 0.9819\n",
      "Epoch 18/50\n",
      "82/82 [==============================] - 4s 55ms/step - loss: 0.2571 - precision: 0.9673 - recall: 0.6595 - auc: 0.9407 - val_loss: 0.1787 - val_precision: 0.9231 - val_recall: 0.8870 - val_auc: 0.9797\n",
      "Epoch 19/50\n",
      "82/82 [==============================] - 4s 54ms/step - loss: 0.2480 - precision: 0.9569 - recall: 0.6605 - auc: 0.9485 - val_loss: 0.2151 - val_precision: 0.9779 - val_recall: 0.8033 - val_auc: 0.9799\n",
      "Epoch 20/50\n",
      "82/82 [==============================] - 4s 54ms/step - loss: 0.2381 - precision: 0.9619 - recall: 0.6809 - auc: 0.9559 - val_loss: 0.1712 - val_precision: 0.9525 - val_recall: 0.8940 - val_auc: 0.9822\n",
      "Epoch 21/50\n",
      "82/82 [==============================] - 4s 54ms/step - loss: 0.2227 - precision: 0.9734 - recall: 0.6809 - auc: 0.9620 - val_loss: 0.1881 - val_precision: 0.9541 - val_recall: 0.8689 - val_auc: 0.9795\n",
      "Epoch 22/50\n",
      "82/82 [==============================] - 4s 54ms/step - loss: 0.2195 - precision: 0.9747 - recall: 0.6819 - auc: 0.9619 - val_loss: 0.1644 - val_precision: 0.9262 - val_recall: 0.9107 - val_auc: 0.9817\n",
      "Epoch 23/50\n",
      "82/82 [==============================] - 4s 54ms/step - loss: 0.2336 - precision: 0.9472 - recall: 0.6847 - auc: 0.9584 - val_loss: 0.1564 - val_precision: 0.9122 - val_recall: 0.9275 - val_auc: 0.9854\n",
      "Epoch 24/50\n",
      "82/82 [==============================] - 4s 54ms/step - loss: 0.2020 - precision: 0.9851 - recall: 0.6744 - auc: 0.9691 - val_loss: 0.1610 - val_precision: 0.9342 - val_recall: 0.9107 - val_auc: 0.9835\n",
      "Epoch 25/50\n",
      "82/82 [==============================] - 4s 54ms/step - loss: 0.1954 - precision: 0.9850 - recall: 0.6716 - auc: 0.9711 - val_loss: 0.1515 - val_precision: 0.9382 - val_recall: 0.9107 - val_auc: 0.9846\n",
      "Epoch 26/50\n",
      "82/82 [==============================] - 4s 54ms/step - loss: 0.1813 - precision: 0.9866 - recall: 0.6856 - auc: 0.9755 - val_loss: 0.1736 - val_precision: 0.9719 - val_recall: 0.8675 - val_auc: 0.9845\n",
      "Epoch 27/50\n",
      "82/82 [==============================] - 4s 54ms/step - loss: 0.1819 - precision: 0.9871 - recall: 0.7107 - auc: 0.9717 - val_loss: 0.1731 - val_precision: 0.9607 - val_recall: 0.8856 - val_auc: 0.9818\n",
      "Epoch 28/50\n",
      "82/82 [==============================] - 4s 54ms/step - loss: 0.1795 - precision: 0.9201 - recall: 0.7609 - auc: 0.9742 - val_loss: 0.1538 - val_precision: 0.9625 - val_recall: 0.8940 - val_auc: 0.9851\n",
      "Epoch 29/50\n",
      "82/82 [==============================] - 5s 55ms/step - loss: 0.1901 - precision: 0.8507 - recall: 0.9330 - auc: 0.9718 - val_loss: 0.1814 - val_precision: 0.9338 - val_recall: 0.9052 - val_auc: 0.9808\n",
      "Epoch 30/50\n",
      "82/82 [==============================] - 5s 55ms/step - loss: 0.1644 - precision: 0.8597 - recall: 0.9516 - auc: 0.9778 - val_loss: 0.1541 - val_precision: 0.9008 - val_recall: 0.9623 - val_auc: 0.9848\n",
      "Epoch 31/50\n",
      "82/82 [==============================] - 4s 54ms/step - loss: 0.1630 - precision: 0.8587 - recall: 0.9442 - auc: 0.9785 - val_loss: 0.1468 - val_precision: 0.9217 - val_recall: 0.9358 - val_auc: 0.9870\n",
      "Epoch 32/50\n",
      "82/82 [==============================] - 5s 56ms/step - loss: 0.1682 - precision: 0.8588 - recall: 0.9451 - auc: 0.9767 - val_loss: 0.1501 - val_precision: 0.8948 - val_recall: 0.9609 - val_auc: 0.9870\n",
      "Epoch 33/50\n",
      "82/82 [==============================] - 5s 56ms/step - loss: 0.1485 - precision: 0.8693 - recall: 0.9656 - auc: 0.9815 - val_loss: 0.1565 - val_precision: 0.9012 - val_recall: 0.9665 - val_auc: 0.9863\n",
      "Epoch 34/50\n",
      "82/82 [==============================] - 5s 56ms/step - loss: 0.1434 - precision: 0.8739 - recall: 0.9674 - auc: 0.9827 - val_loss: 0.1819 - val_precision: 0.8833 - val_recall: 0.9609 - val_auc: 0.9858\n",
      "Epoch 35/50\n",
      "82/82 [==============================] - 5s 56ms/step - loss: 0.1581 - precision: 0.8520 - recall: 0.9637 - auc: 0.9782 - val_loss: 0.1361 - val_precision: 0.9306 - val_recall: 0.9540 - val_auc: 0.9883\n",
      "Epoch 36/50\n",
      "82/82 [==============================] - 4s 55ms/step - loss: 0.1374 - precision: 0.8807 - recall: 0.9749 - auc: 0.9844 - val_loss: 0.1271 - val_precision: 0.9431 - val_recall: 0.9484 - val_auc: 0.9893\n",
      "Epoch 37/50\n",
      "82/82 [==============================] - 4s 55ms/step - loss: 0.1417 - precision: 0.8754 - recall: 0.9740 - auc: 0.9831 - val_loss: 0.1902 - val_precision: 0.8945 - val_recall: 0.9693 - val_auc: 0.9856\n",
      "Epoch 38/50\n",
      "82/82 [==============================] - 4s 54ms/step - loss: 0.1482 - precision: 0.8595 - recall: 0.9730 - auc: 0.9807 - val_loss: 0.1480 - val_precision: 0.9299 - val_recall: 0.9623 - val_auc: 0.9856\n",
      "Epoch 39/50\n",
      "82/82 [==============================] - 4s 54ms/step - loss: 0.1414 - precision: 0.8750 - recall: 0.9767 - auc: 0.9821 - val_loss: 0.1632 - val_precision: 0.9697 - val_recall: 0.8912 - val_auc: 0.9872\n",
      "Epoch 40/50\n",
      "82/82 [==============================] - 4s 54ms/step - loss: 0.1368 - precision: 0.8701 - recall: 0.9786 - auc: 0.9833 - val_loss: 0.1422 - val_precision: 0.9524 - val_recall: 0.9498 - val_auc: 0.9874\n",
      "Epoch 41/50\n",
      "82/82 [==============================] - 4s 54ms/step - loss: 0.1451 - precision: 0.8615 - recall: 0.9777 - auc: 0.9803 - val_loss: 0.1670 - val_precision: 0.9169 - val_recall: 0.9540 - val_auc: 0.9842\n",
      "Epoch 42/50\n",
      "82/82 [==============================] - 4s 54ms/step - loss: 0.1376 - precision: 0.8787 - recall: 0.9767 - auc: 0.9835 - val_loss: 0.1572 - val_precision: 0.9083 - val_recall: 0.9665 - val_auc: 0.9864\n",
      "Epoch 43/50\n",
      "82/82 [==============================] - 4s 54ms/step - loss: 0.1454 - precision: 0.8685 - recall: 0.9767 - auc: 0.9824 - val_loss: 0.1797 - val_precision: 0.9646 - val_recall: 0.9121 - val_auc: 0.9826\n",
      "Epoch 44/50\n",
      "82/82 [==============================] - 4s 55ms/step - loss: 0.1376 - precision: 0.8752 - recall: 0.9786 - auc: 0.9827 - val_loss: 0.1510 - val_precision: 0.9461 - val_recall: 0.9303 - val_auc: 0.9859\n",
      "Epoch 45/50\n",
      "82/82 [==============================] - 4s 54ms/step - loss: 0.1406 - precision: 0.8757 - recall: 0.9833 - auc: 0.9826 - val_loss: 0.1654 - val_precision: 0.9230 - val_recall: 0.9526 - val_auc: 0.9849\n",
      "Epoch 46/50\n",
      "82/82 [==============================] - 4s 55ms/step - loss: 0.1366 - precision: 0.8685 - recall: 0.9833 - auc: 0.9821 - val_loss: 0.1279 - val_precision: 0.9524 - val_recall: 0.9498 - val_auc: 0.9879\n",
      "Epoch 47/50\n",
      "82/82 [==============================] - 4s 55ms/step - loss: 0.1361 - precision: 0.8758 - recall: 0.9842 - auc: 0.9825 - val_loss: 0.1745 - val_precision: 0.9426 - val_recall: 0.9386 - val_auc: 0.9830\n",
      "Epoch 48/50\n",
      "82/82 [==============================] - 4s 55ms/step - loss: 0.1279 - precision: 0.8832 - recall: 0.9851 - auc: 0.9855 - val_loss: 0.1659 - val_precision: 0.9426 - val_recall: 0.9386 - val_auc: 0.9850\n",
      "Epoch 49/50\n",
      "82/82 [==============================] - 4s 55ms/step - loss: 0.1322 - precision: 0.8730 - recall: 0.9907 - auc: 0.9832 - val_loss: 0.2193 - val_precision: 0.8415 - val_recall: 0.9777 - val_auc: 0.9836\n",
      "Epoch 50/50\n",
      "82/82 [==============================] - 5s 55ms/step - loss: 0.1352 - precision: 0.8719 - recall: 0.9879 - auc: 0.9828 - val_loss: 0.1745 - val_precision: 0.9129 - val_recall: 0.9651 - val_auc: 0.9852\n"
     ]
    }
   ],
   "source": [
    "#compiling the model architecture and start fit\n",
    "keras.backend.clear_session()\n",
    "model.compile(optimizer=optimizer,\n",
    "              loss=\"BinaryCrossentropy\",\n",
    "              metrics=[metrics.Precision(), metrics.Recall(), metrics.AUC()])\n",
    "\n",
    "\n",
    "with tf.device(\"/gpu:0\"):\n",
    "    history = model.fit(x=train_fullTensor,\n",
    "                        validation_data=val_fullTensor,\n",
    "                        epochs=50, \n",
    "                        shuffle=True,               #not sure if used with batched tf dataset\n",
    "                        )\n",
    "                        \n",
    "                    "
   ]
  },
  {
   "cell_type": "markdown",
   "metadata": {},
   "source": [
    "### Model Evaluation"
   ]
  },
  {
   "cell_type": "code",
   "execution_count": 19,
   "metadata": {},
   "outputs": [
    {
     "data": {
      "image/png": "[encoded data removed]",
      "text/plain": [
       "<Figure size 432x288 with 1 Axes>"
      ]
     },
     "metadata": {
      "needs_background": "light"
     },
     "output_type": "display_data"
    }
   ],
   "source": [
    "#print val vs accuracy\n",
    "\n",
    "keras.backend.clear_session()\n",
    "plt.plot(history.history['recall'], label='recall')\n",
    "plt.plot(history.history['val_recall'], label = 'val_recall')\n",
    "plt.xlabel('Epoch')\n",
    "plt.ylabel('recall')\n",
    "plt.ylim([0, 1])\n",
    "plt.legend(loc='lower right')\n",
    "plt.show()\n"
   ]
  },
  {
   "cell_type": "code",
   "execution_count": 20,
   "metadata": {},
   "outputs": [
    {
     "name": "stdout",
     "output_type": "stream",
     "text": [
      "1742/1742 [==============================] - 2s 1ms/step\n",
      "55/55 - 1s - loss: 0.1745 - precision: 0.9129 - recall: 0.9651 - auc: 0.9852 - 1s/epoch - 21ms/step\n"
     ]
    }
   ],
   "source": [
    "y_pred = model.predict(X_val_eval, batch_size=1, verbose=1)\n",
    "\n",
    "for idx, label in enumerate(y_pred):\n",
    "    if label > 0.5:\n",
    "        y_pred[idx] = 1\n",
    "    if label <= 0.5:\n",
    "        y_pred[idx] = 0\n",
    "\n",
    "test_loss, test_prec, test_rec, test_auc  = model.evaluate(val_fullTensor, verbose=2)"
   ]
  },
  {
   "cell_type": "code",
   "execution_count": 21,
   "metadata": {},
   "outputs": [
    {
     "data": {
      "text/plain": [
       "0.9651324965132496"
      ]
     },
     "execution_count": 21,
     "metadata": {},
     "output_type": "execute_result"
    }
   ],
   "source": [
    "recall_score(y_val_eval,y_pred)"
   ]
  },
  {
   "cell_type": "code",
   "execution_count": 22,
   "metadata": {},
   "outputs": [
    {
     "data": {
      "text/plain": [
       "array([[959,  66],\n",
       "       [ 25, 692]], dtype=int64)"
      ]
     },
     "execution_count": 22,
     "metadata": {},
     "output_type": "execute_result"
    }
   ],
   "source": [
    "confusion_matrix(y_val_eval,y_pred)"
   ]
  },
  {
   "cell_type": "markdown",
   "metadata": {},
   "source": [
    "### Load seperate test set (OASIS cross sections)"
   ]
  },
  {
   "cell_type": "code",
   "execution_count": 23,
   "metadata": {},
   "outputs": [
    {
     "name": "stderr",
     "output_type": "stream",
     "text": [
      "C:\\Users\\wolle\\AppData\\Local\\Temp\\ipykernel_17340\\3706787863.py:24: SettingWithCopyWarning: \n",
      "A value is trying to be set on a copy of a slice from a DataFrame\n",
      "\n",
      "See the caveats in the documentation: https://pandas.pydata.org/pandas-docs/stable/user_guide/indexing.html#returning-a-view-versus-a-copy\n",
      "  metaData.CDR[metaData[\"CDR\"] == 0.5] =  1\n"
     ]
    }
   ],
   "source": [
    "metaData = pd.read_csv(\"F:\\MRI_class\\data\\oasis_cross_sectional.csv\")\n",
    "metaData = metaData[metaData.Age >= 50]\n",
    "metaData = metaData[[\"ID\",\"CDR\"]]\n",
    "\n",
    "# imputing missing 0\n",
    "metaData.CDR[metaData.CDR.isna() == True] = 0\n",
    "metaData = metaData.drop(metaData.CDR[metaData.CDR > 1].index)\n",
    "\n",
    "#get file names\n",
    "path = \"F:\\MRI_class\\data\\horizontal_masked\"\n",
    "#path = \"/Users/stephanbremser/neuefische/alzheimer-classification/data/horizontal_masked\"#\"~/neuefische/alzheimer-classification/data/horizontal_masked\"\n",
    "path_list = os.listdir(path)\n",
    "\n",
    "#create file list matching the path_list\n",
    "t = pd.DataFrame(path_list)\n",
    "\n",
    "#merge metadata dataframe with file list on ID\n",
    "f = lambda x: x[0:13] #merge on first 13 letters (eg \"OAS1_0001_MR1\")\n",
    "t[\"ID\"]=t[0].apply(f)\n",
    "\n",
    "metaData = pd.merge(metaData, t,on=\"ID\", how=\"left\")\n",
    "metaData = metaData.rename(columns={0:\"file\"})\n",
    "\n",
    "metaData.CDR[metaData[\"CDR\"] == 0.5] =  1\n",
    "\n"
   ]
  },
  {
   "cell_type": "code",
   "execution_count": 24,
   "metadata": {},
   "outputs": [],
   "source": [
    "images_class0 = []\n",
    "images_class1 = []\n",
    "label_class0 = []\n",
    "label_class1 = []\n",
    "\n",
    "\n",
    "for t, i in enumerate(metaData.file):\n",
    "    temp_path = path+\"\\\\\"+i\n",
    "    if metaData.CDR[t] == 0:\n",
    "    \n",
    "        image1 = tf.keras.preprocessing.image.load_img(temp_path)\n",
    "        image1 = tf.keras.preprocessing.image.img_to_array(image1)\n",
    "        images_class0.append(image1)\n",
    "        label_class0.append(metaData.CDR[t])\n",
    "        \n",
    "    if metaData.CDR[t] == 1:\n",
    "        \n",
    "        \n",
    "        image1 = tf.keras.preprocessing.image.load_img(temp_path)\n",
    "        image1 = tf.keras.preprocessing.image.img_to_array(image1)\n",
    "        images_class1.append(image1)\n",
    "        label_class1.append(metaData.CDR[t])\n",
    "\n",
    "images_class0 = np.array(images_class0)    \n",
    "images_class1 = np.array(images_class1)\n",
    "label_class0 = np.array(label_class0)\n",
    "label_class1 = np.array(label_class1)\n",
    "\n"
   ]
  },
  {
   "cell_type": "code",
   "execution_count": 25,
   "metadata": {},
   "outputs": [],
   "source": [
    "oasis_test_images = np.concatenate((images_class0,images_class1))\n",
    "oasis_test_labels = np.concatenate((label_class0,label_class1))\n",
    "X_test_oasis, y_test_oasis = shuffle(oasis_test_images, oasis_test_labels, random_state=10)"
   ]
  },
  {
   "cell_type": "code",
   "execution_count": 26,
   "metadata": {},
   "outputs": [
    {
     "name": "stdout",
     "output_type": "stream",
     "text": [
      "229/229 [==============================] - 0s 2ms/step\n"
     ]
    }
   ],
   "source": [
    "oasis_pred = model.predict(X_test_oasis, batch_size=1, verbose=1)"
   ]
  },
  {
   "cell_type": "code",
   "execution_count": 27,
   "metadata": {},
   "outputs": [],
   "source": [
    "for idx, label in enumerate(oasis_pred):\n",
    "    if label > 0.5:\n",
    "        oasis_pred[idx] = 1\n",
    "    if label <= 0.5:\n",
    "        oasis_pred[idx] = 0"
   ]
  },
  {
   "cell_type": "code",
   "execution_count": 32,
   "metadata": {},
   "outputs": [
    {
     "name": "stdout",
     "output_type": "stream",
     "text": [
      "recall score: 0.9693877551020408\n",
      "precision score: 0.4460093896713615\n"
     ]
    }
   ],
   "source": [
    "print(\"recall score:\", recall_score(y_test_oasis,oasis_pred))\n",
    "print(\"precision score:\", precision_score(y_test_oasis,oasis_pred))"
   ]
  },
  {
   "cell_type": "code",
   "execution_count": 29,
   "metadata": {},
   "outputs": [
    {
     "data": {
      "text/plain": [
       "array([[ 13, 118],\n",
       "       [  3,  95]], dtype=int64)"
      ]
     },
     "execution_count": 29,
     "metadata": {},
     "output_type": "execute_result"
    }
   ],
   "source": [
    "confusion_matrix(y_test_oasis,oasis_pred)"
   ]
  },
  {
   "cell_type": "code",
   "execution_count": 33,
   "metadata": {},
   "outputs": [
    {
     "name": "stderr",
     "output_type": "stream",
     "text": [
      "Ein Unterverzeichnis oder eine Datei mit dem Namen \"-p\" existiert bereits.\n",
      "Folgender Fehler trat auf: -p.\n",
      "WARNING:absl:Found untraced functions such as _jit_compiled_convolution_op, _jit_compiled_convolution_op, _jit_compiled_convolution_op, _jit_compiled_convolution_op, _jit_compiled_convolution_op while saving (showing 5 of 5). These functions will not be directly callable after loading.\n"
     ]
    },
    {
     "name": "stdout",
     "output_type": "stream",
     "text": [
      "INFO:tensorflow:Assets written to: F:\\MRI_class\\data\\model_binary\\assets\n"
     ]
    },
    {
     "name": "stderr",
     "output_type": "stream",
     "text": [
      "INFO:tensorflow:Assets written to: F:\\MRI_class\\data\\model_binary\\assets\n"
     ]
    }
   ],
   "source": [
    "#!mkdir -p saved_model2\n",
    "model.save(\"F:\\\\MRI_class\\\\data\\\\model_binary\")"
   ]
  }
 ],
 "metadata": {
  "interpreter": {
   "hash": "d7f5635c6a78fe169b005751f9439463f9d3eaf59538022d184c29a838a0707b"
  },
  "kernelspec": {
   "display_name": "Python 3.10.4 64-bit (system)",
   "language": "python",
   "name": "python3"
  },
  "language_info": {
   "codemirror_mode": {
    "name": "ipython",
    "version": 3
   },
   "file_extension": ".py",
   "mimetype": "text/x-python",
   "name": "python",
   "nbconvert_exporter": "python",
   "pygments_lexer": "ipython3",
   "version": "3.9.8"
  },
  "orig_nbformat": 4
 },
 "nbformat": 4,
 "nbformat_minor": 2
}
