{
 "cells": [
  {
   "cell_type": "code",
   "execution_count": 29,
   "metadata": {},
   "outputs": [],
   "source": [
    "# Import packages and libraries \n",
    "import pandas as pd\n",
    "import numpy as np\n",
    "import seaborn as sns\n",
    "import matplotlib.pyplot as plt\n",
    "\n",
    "from roc_multiclass import roc_multiclass\n",
    "from xgboost import XGBClassifier\n",
    "from sklearn.model_selection import train_test_split, cross_val_score\n",
    "from sklearn.metrics import mean_absolute_error, mean_squared_error, r2_score, roc_auc_score, classification_report, accuracy_score, confusion_matrix\n",
    "from sklearn.ensemble import RandomForestClassifier\n",
    "from imblearn.over_sampling import RandomOverSampler\n",
    "from sklearn.preprocessing import StandardScaler\n",
    "from sklearn.neighbors import KNeighborsClassifier\n",
    "\n",
    "from sklearn.metrics import confusion_matrix, accuracy_score, f1_score, precision_score, roc_curve"
   ]
  },
  {
   "cell_type": "code",
   "execution_count": null,
   "metadata": {},
   "outputs": [],
   "source": [
    "# Load data\n",
    "df = pd.read_csv(\"../data/OASIS/oasis_cross-sectional.csv\")"
   ]
  },
  {
   "cell_type": "code",
   "execution_count": null,
   "metadata": {},
   "outputs": [],
   "source": [
    "# Define a list for all people under 50\n",
    "df_below_50 = df.query(\"Age < 50\")\n",
    "\n",
    "# Drop delay and id\n",
    "df = df.drop(\"Delay\", axis=1)\n",
    "df = df.drop(\"ID\", axis=1)\n",
    "\n",
    "# Fill CDR with 0 and all other missing values with averages from people under 50 (idea trough EDA)\n",
    "df[\"CDR\"] = df[\"CDR\"].fillna(0)\n",
    "df[\"MMSE\"] = df[\"MMSE\"].fillna(df_below_50[\"MMSE\"].mean())\n",
    "df[\"SES\"] = df[\"SES\"].fillna(df_below_50[\"SES\"].mean())\n",
    "df[\"Educ\"] = df[\"Educ\"].fillna(df_below_50[\"Educ\"].mean())"
   ]
  },
  {
   "cell_type": "code",
   "execution_count": null,
   "metadata": {},
   "outputs": [],
   "source": [
    "# Change value of target variable to be usable for the model\n",
    "df[\"CDR\"] = df[\"CDR\"].replace(2, 3)\n",
    "df[\"CDR\"] = df[\"CDR\"].replace(1, 2)\n",
    "df[\"CDR\"] = df[\"CDR\"].replace(0.5, 1)"
   ]
  },
  {
   "cell_type": "code",
   "execution_count": null,
   "metadata": {},
   "outputs": [],
   "source": [
    "# Create dummies for gender and hand\n",
    "gender_dummies = pd.get_dummies(df[\"M/F\"])\n",
    "hand_dummies = pd.get_dummies(df[\"Hand\"])\n",
    "\n",
    "# Concat dummies with df and create final df\n",
    "df_final = pd.concat([df.drop([\"M/F\", \"Hand\"], axis=1), gender_dummies, hand_dummies], axis=1)"
   ]
  },
  {
   "cell_type": "code",
   "execution_count": null,
   "metadata": {},
   "outputs": [],
   "source": [
    "# Define features and target variable\n",
    "X = df_final.drop(\"CDR\", axis=1)\n",
    "y = df_final[\"CDR\"]\n",
    "\n",
    "# Scale the date\n",
    "scaler = StandardScaler()\n",
    "X_scaled = scaler.fit_transform(X)\n",
    "\n",
    "# Split into train and test set\n",
    "X_train, X_test, y_train, y_test = train_test_split(X_scaled, y, stratify=y, random_state=1)\n",
    "\n",
    "# Oversample only on the train set\n",
    "oversample = RandomOverSampler(sampling_strategy='all', random_state=1)\n",
    "X_over, y_over = oversample.fit_resample(X_train, y_train)"
   ]
  },
  {
   "cell_type": "code",
   "execution_count": null,
   "metadata": {},
   "outputs": [],
   "source": [
    "# Initiate model and fit training data\n",
    "rfc_model = RandomForestClassifier(max_depth=10, n_estimators=100, random_state=1, max_features=\"sqrt\")\n",
    "rfc_model.fit(X_over, y_over)\n",
    "\n",
    "# Make predictions on test and train set\n",
    "y_pred_test = rfc_model.predict(X_test)\n",
    "y_pred_train = rfc_model.predict(X_over)\n",
    "\n",
    "y_pred_test_prob = rfc_model.predict_proba(X_test)"
   ]
  },
  {
   "cell_type": "code",
   "execution_count": 23,
   "metadata": {},
   "outputs": [
    {
     "name": "stdout",
     "output_type": "stream",
     "text": [
      "              precision    recall  f1-score   support\n",
      "\n",
      "         0.0       0.95      0.88      0.91        84\n",
      "         1.0       0.48      0.71      0.57        17\n",
      "         2.0       0.67      0.57      0.62         7\n",
      "         3.0       0.00      0.00      0.00         1\n",
      "\n",
      "    accuracy                           0.83       109\n",
      "   macro avg       0.52      0.54      0.53       109\n",
      "weighted avg       0.85      0.83      0.83       109\n",
      "\n"
     ]
    }
   ],
   "source": [
    "# Print classification report for test set\n",
    "print(classification_report(y_test, y_pred_test, zero_division=False))"
   ]
  },
  {
   "cell_type": "code",
   "execution_count": 24,
   "metadata": {},
   "outputs": [
    {
     "name": "stdout",
     "output_type": "stream",
     "text": [
      "              precision    recall  f1-score   support\n",
      "\n",
      "         0.0       1.00      1.00      1.00       252\n",
      "         1.0       1.00      1.00      1.00       252\n",
      "         2.0       1.00      1.00      1.00       252\n",
      "         3.0       1.00      1.00      1.00       252\n",
      "\n",
      "    accuracy                           1.00      1008\n",
      "   macro avg       1.00      1.00      1.00      1008\n",
      "weighted avg       1.00      1.00      1.00      1008\n",
      "\n"
     ]
    }
   ],
   "source": [
    "# Print classification report for train set\n",
    "print(classification_report(y_over, y_pred_train))"
   ]
  },
  {
   "cell_type": "code",
   "execution_count": 78,
   "metadata": {},
   "outputs": [
    {
     "data": {
      "text/plain": [
       "Text(3.1, 4.3, 'Moderate demented')"
      ]
     },
     "execution_count": 78,
     "metadata": {},
     "output_type": "execute_result"
    },
    {
     "data": {
      "image/png": "[encoded data removed]",
      "text/plain": [
       "<Figure size 720x504 with 2 Axes>"
      ]
     },
     "metadata": {
      "needs_background": "light"
     },
     "output_type": "display_data"
    }
   ],
   "source": [
    "# Evaluate the model with a confusion matrix\n",
    "cm = confusion_matrix(y_test, y_pred_test)\n",
    "plt.figure(figsize = (10, 7))\n",
    "fig1 = sns.heatmap(cm, cmap='YlGnBu', annot=True, fmt='d', linewidths=.5)\n",
    "fig1.set_xticks([0, 1, 2, 3])\n",
    "fig1.text(0.15, 4.3,\"Not demented\", size=8, alpha=0.7, weight=\"bold\")\n",
    "fig1.text(1.05, 4.3,\"Very mild demented\", size=8, alpha=0.7, weight=\"bold\")\n",
    "fig1.text(2.15, 4.3,\"Mild demented\", size=8, alpha=0.7, weight=\"bold\")\n",
    "fig1.text(3.1, 4.3,\"Moderate demented\", size=8, alpha=0.7, weight=\"bold\")"
   ]
  },
  {
   "cell_type": "code",
   "execution_count": null,
   "metadata": {},
   "outputs": [],
   "source": [
    "# onehotencode \n",
    "\n",
    "type(y_test)"
   ]
  },
  {
   "cell_type": "code",
   "execution_count": null,
   "metadata": {},
   "outputs": [],
   "source": [
    "y_pred_test_prob.shape"
   ]
  },
  {
   "cell_type": "code",
   "execution_count": null,
   "metadata": {},
   "outputs": [],
   "source": [
    "roc_multiclass(y_pred_test_prob, y_test, [\"not_demented\", \"very_mild\", \"mild\", \"moderate\"], \"macro\")"
   ]
  }
 ],
 "metadata": {
  "interpreter": {
   "hash": "c0a7c4be7d5f35ba7dc331a03646857100d1eff3303bad679d3ef877b2ac2a7a"
  },
  "kernelspec": {
   "display_name": "Python 3.9.8 64-bit ('3.9.8')",
   "language": "python",
   "name": "python3"
  },
  "language_info": {
   "codemirror_mode": {
    "name": "ipython",
    "version": 3
   },
   "file_extension": ".py",
   "mimetype": "text/x-python",
   "name": "python",
   "nbconvert_exporter": "python",
   "pygments_lexer": "ipython3",
   "version": "3.9.8"
  },
  "orig_nbformat": 4
 },
 "nbformat": 4,
 "nbformat_minor": 2
}
