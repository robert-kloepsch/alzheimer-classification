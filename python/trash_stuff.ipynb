{
 "cells": [
  {
   "cell_type": "code",
   "execution_count": null,
   "metadata": {},
   "outputs": [],
   "source": [
    "import matplotlib.pyplot as plt \n",
    "from sklearn.preprocessing import LabelBinarizer\n",
    "from sklearn.metrics import roc_curve, auc, roc_auc_score\n",
    "\n",
    "# flatten CNN output in such way that we change the probability columns (each only containing probas)\n",
    "# to one column labeling classes as continues numbers. e.g. 1,2,3,4 (etc)\n",
    "y_pred = np.argmax(y_pred,axis=-1)\n",
    "y_val2 = y_val.copy()\n",
    "y_val2 = np.argmax(y_val2, axis=-1)\n",
    "\n",
    "# we have to define the targets\n",
    "target= ['Ill', 'VMIll', 'MIll', 'MoIll']\n",
    "\n",
    "# set plot figure size\n",
    "fig, c_ax = plt.subplots(1,1, figsize = (12, 8))\n",
    "\n",
    "# core function: here the roc score is calculated. The estimator results are calculated for all\n",
    "# thresholds. Macro sets the evaluation to \"one vs all\".\n",
    "def multiclass_roc_auc_score(y_val2, y_pred, average=\"macro\"):\n",
    "    lb = LabelBinarizer()\n",
    "    lb.fit(y_val2)\n",
    "    y_val2 = lb.transform(y_val2)\n",
    "    y_pred = lb.transform(y_pred)\n",
    "\n",
    "    for (idx, c_label) in enumerate(target):\n",
    "        fpr, tpr, thresholds = roc_curve(y_val2[:,idx].astype(int), y_pred[:,idx])\n",
    "        c_ax.plot(fpr, tpr, label = '%s (AUC:%0.2f)'  % (c_label, auc(fpr, tpr)))\n",
    "    c_ax.plot(fpr, fpr, 'b-', label = 'Random Guessing')\n",
    "    return roc_auc_score(y_val2, y_pred, average=average)\n",
    "\n",
    "multiclass_roc_auc_score(y_val2, y_pred)\n",
    "print('ROC AUC score:', multiclass_roc_auc_score(y_val2, y_pred))\n",
    "\n",
    "c_ax.legend()\n",
    "c_ax.set_xlabel('False Positive Rate')\n",
    "c_ax.set_ylabel('True Positive Rate')\n",
    "plt.show()"
   ]
  }
 ],
 "metadata": {
  "interpreter": {
   "hash": "d7f5635c6a78fe169b005751f9439463f9d3eaf59538022d184c29a838a0707b"
  },
  "kernelspec": {
   "display_name": "Python 3.9.8 64-bit (system)",
   "language": "python",
   "name": "python3"
  },
  "language_info": {
   "codemirror_mode": {
    "name": "ipython",
    "version": 3
   },
   "file_extension": ".py",
   "mimetype": "text/x-python",
   "name": "python",
   "nbconvert_exporter": "python",
   "pygments_lexer": "ipython3",
   "version": "3.9.8"
  },
  "orig_nbformat": 4
 },
 "nbformat": 4,
 "nbformat_minor": 2
}
