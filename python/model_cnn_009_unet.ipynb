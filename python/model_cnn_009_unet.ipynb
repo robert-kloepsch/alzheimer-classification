{
 "cells": [
  {
   "cell_type": "code",
   "execution_count": 1,
   "metadata": {},
   "outputs": [],
   "source": [
    "#load all packages\n",
    "import tensorflow as tf\n",
    "from tensorflow.keras import layers, models\n",
    "import keras\n",
    "import pandas as pd\n",
    "import numpy as np\n",
    "import matplotlib.pyplot as plt\n",
    "import os\n",
    "import re\n",
    "from sklearn.model_selection import train_test_split\n",
    "from sklearn.utils import shuffle\n",
    "from sklearn.metrics import recall_score, precision_score, confusion_matrix, roc_curve, auc, precision_recall_curve\n",
    "from keras import metrics\n",
    "# import keras.backend as K\n",
    "# from keras.preprocessing.image import ImageDataGenerator\n",
    "from keras.utils import to_categorical, image_dataset_from_directory\n",
    "import cv2\n",
    "import glob\n",
    "# from tensorflow.python.client import device_lib\n",
    "# from sklearn.multiclass import OneVsRestClassifier\n",
    "from roc_multiclass import roc_multiclass\n",
    "from precision_recall_multiclass import precision_recall_multiclass\n",
    "from DataGenerator import DataGenerator\n",
    "\n",
    "keras.backend.clear_session()\n",
    "\n"
   ]
  },
  {
   "cell_type": "markdown",
   "metadata": {},
   "source": [
    "### Load Train Set\n",
    "<i>-deconstruct the set-<i>"
   ]
  },
  {
   "cell_type": "code",
   "execution_count": 59,
   "metadata": {},
   "outputs": [
    {
     "name": "stdout",
     "output_type": "stream",
     "text": [
      "Found 3071 files belonging to 4 classes.\n"
     ]
    }
   ],
   "source": [
    "# load dataset from drive\n",
    "PATH = \"F:\\\\MRI_class\\\\data\\\\Alzheimer_s Dataset\\\\train\"\n",
    "IMAGE_SIZE = (208, 176)\n",
    "train_ds = image_dataset_from_directory(\n",
    "                                        PATH, \n",
    "                                        seed=10, \n",
    "                                        shuffle=False,              #<---\n",
    "                                        image_size=IMAGE_SIZE, \n",
    "                                        batch_size=32\n",
    "                                        )\n",
    "                                        \n"
   ]
  },
  {
   "cell_type": "code",
   "execution_count": 60,
   "metadata": {},
   "outputs": [],
   "source": [
    "# seperation of training target and label\n",
    "# !!! these sets are not shuffled !!!\n",
    "\n",
    "X1_train_ds = []\n",
    "y1_train_ds = []\n",
    "X2_train_ds = []\n",
    "y2_train_ds = []\n",
    "\n",
    "\n",
    "for img, label in train_ds.unbatch():\n",
    "    if label.numpy() == 0:\n",
    "        X1_train_ds.append(img.numpy()[:,:,0])\n",
    "        y1_train_ds.append([0])\n",
    "\n",
    "    if label.numpy() == 1:\n",
    "        X2_train_ds.append(img.numpy()[:,:,0])\n",
    "        y2_train_ds.append([1])\n",
    "\n"
   ]
  },
  {
   "cell_type": "code",
   "execution_count": 61,
   "metadata": {},
   "outputs": [],
   "source": [
    "# create dataset for class 1 -NO oversampling- (healthy)\n",
    "X1_train_ds = np.array(X1_train_ds)\n",
    "X1_train_mask = X1_train_ds.astype(\"uint8\")\n",
    "y1_train_ds = np.array(y1_train_ds)\n",
    "\n",
    "X2_train_ds = np.array(X2_train_ds)\n",
    "X2_train_mask = X2_train_ds.astype(\"uint8\")\n",
    "y2_train_ds = np.array(y2_train_ds)\n"
   ]
  },
  {
   "cell_type": "code",
   "execution_count": 62,
   "metadata": {},
   "outputs": [],
   "source": [
    "for t in range(0,len(X1_train_mask)):\n",
    "    \n",
    "    X1_train_mask[t] = (((X1_train_mask[t] - np.mean(X1_train_mask[t])) / np.std(X1_train_mask[t])))\n",
    "    X1_train_mask[t] = np.clip(X1_train_mask[t], -1,1)\n",
    "    X1_train_mask[t] = (X1_train_mask[t] + 1) / 2\n",
    "\n",
    "for t in range(0,len(X2_train_mask)):\n",
    "    \n",
    "    X2_train_mask[t] = (((X2_train_mask[t] - np.mean(X2_train_mask[t])) / np.std(X2_train_mask[t])))\n",
    "    X2_train_mask[t] = np.clip(X2_train_mask[t], -1,1)\n",
    "    X2_train_mask[t] = (X2_train_mask[t] + 1) / 2\n",
    "    "
   ]
  },
  {
   "cell_type": "code",
   "execution_count": 31,
   "metadata": {},
   "outputs": [
    {
     "data": {
      "text/plain": [
       "True"
      ]
     },
     "execution_count": 31,
     "metadata": {},
     "output_type": "execute_result"
    }
   ],
   "source": [
    "np.array_equal(X1_train_ds[1][:,:,0],X1_train_ds[1][:,:,1])"
   ]
  },
  {
   "cell_type": "code",
   "execution_count": 68,
   "metadata": {},
   "outputs": [
    {
     "data": {
      "text/plain": [
       "<matplotlib.image.AxesImage at 0x24991b55af0>"
      ]
     },
     "execution_count": 68,
     "metadata": {},
     "output_type": "execute_result"
    },
    {
     "data": {
      "image/png": "[encoded data removed]",
      "text/plain": [
       "<Figure size 432x288 with 1 Axes>"
      ]
     },
     "metadata": {
      "needs_background": "light"
     },
     "output_type": "display_data"
    }
   ],
   "source": [
    "#plt.imshow(X1_train_ds[0].astype('uint8'))\n",
    "plt.imshow(X2_train_mask[1],cmap=\"gray\")"
   ]
  },
  {
   "cell_type": "code",
   "execution_count": 13,
   "metadata": {},
   "outputs": [
    {
     "name": "stdout",
     "output_type": "stream",
     "text": [
      "min 0.048563153\n",
      "max 1.0\n",
      "std 0.41911516\n"
     ]
    }
   ],
   "source": [
    "print(\"min\",np.min(X1_train_ds[0]))\n",
    "print(\"max\",np.max(X1_train_ds[0]))\n",
    "print(\"std\",np.std(X1_train_ds[0]))\n",
    "\n",
    "\n"
   ]
  },
  {
   "cell_type": "code",
   "execution_count": 69,
   "metadata": {},
   "outputs": [],
   "source": [
    "# combine all data sets with mask\n",
    "X_train_fullset = np.concatenate((X1_train_ds,X2_train_ds), axis=0)\n",
    "y_train_fullset = np.concatenate((X1_train_mask,X2_train_mask), axis=0)"
   ]
  },
  {
   "cell_type": "code",
   "execution_count": 70,
   "metadata": {},
   "outputs": [],
   "source": [
    "# shuffle the whole set\n",
    "X_train_temp, y_train_temp = shuffle(X_train_fullset, y_train_fullset, random_state=10)"
   ]
  },
  {
   "cell_type": "code",
   "execution_count": 74,
   "metadata": {},
   "outputs": [],
   "source": [
    "# finally create tensor dataset\n",
    "data_generator = DataGenerator(X_train_temp, y_train_temp, batch_size = 32)\n",
    "\n",
    "train_fullTensor = tf.data.Dataset.from_generator(\n",
    "                                            data_generator,\n",
    "                                            output_signature=(tf.TensorSpec(shape=(None, 208, 176), dtype=tf.float32), tf.TensorSpec(shape=(None, 208, 176), dtype=tf.float32))\n",
    "                                            )"
   ]
  },
  {
   "cell_type": "markdown",
   "metadata": {},
   "source": [
    "### Load Validation Sets"
   ]
  },
  {
   "cell_type": "code",
   "execution_count": 78,
   "metadata": {},
   "outputs": [
    {
     "name": "stdout",
     "output_type": "stream",
     "text": [
      "Found 2050 files belonging to 4 classes.\n"
     ]
    }
   ],
   "source": [
    "# load validation dataset from drive\n",
    "# set for training\n",
    "PATH = \"F:\\\\MRI_class\\\\data\\\\Alzheimer_s Dataset\\\\validation\"\n",
    "IMAGE_SIZE = (208, 176)\n",
    "val_ds = image_dataset_from_directory(\n",
    "                                        PATH, \n",
    "                                        seed=10, \n",
    "                                        shuffle=False, \n",
    "                                        image_size=IMAGE_SIZE, \n",
    "                                        batch_size=32\n",
    "                                        )\n"
   ]
  },
  {
   "cell_type": "code",
   "execution_count": 79,
   "metadata": {},
   "outputs": [],
   "source": [
    "# seperation of validation target and label\n",
    "# !!! these sets are not shuffled !!!\n",
    "\n",
    "X1_val = []\n",
    "y1_val = []\n",
    "X2_val = []\n",
    "y2_val = []\n",
    "\n",
    "for img, label in val_ds.unbatch():\n",
    "    if label.numpy() == 0:\n",
    "        X1_val.append(img.numpy()[:,:,0])\n",
    "        y1_val.append([0])\n",
    "\n",
    "    if label.numpy() == 1:\n",
    "        X2_val.append(img.numpy()[:,:,0])\n",
    "        y2_val.append([1])\n",
    "\n"
   ]
  },
  {
   "cell_type": "code",
   "execution_count": 80,
   "metadata": {},
   "outputs": [],
   "source": [
    "# create dataset for class 1 -NO oversampling- (healthy)\n",
    "X1_val = np.array(X1_val)\n",
    "X1_val_mask = X1_val.astype(\"uint8\")\n",
    "y1_val = np.array(y1_val)\n",
    "\n",
    "X2_val = np.array(X2_val)\n",
    "X2_val_mask = X2_val.astype(\"uint8\")\n",
    "y2_val = np.array(y2_val)"
   ]
  },
  {
   "cell_type": "code",
   "execution_count": 81,
   "metadata": {},
   "outputs": [],
   "source": [
    "for t in range(0,len(X1_val_mask)):\n",
    "    \n",
    "    X1_val_mask[t] = (((X1_val_mask[t] - np.mean(X1_val_mask[t])) / np.std(X1_val_mask[t])))\n",
    "    X1_val_mask[t] = np.clip(X1_val_mask[t], -1,1)\n",
    "    X1_val_mask[t] = (X1_val_mask[t] + 1) / 2\n",
    "\n",
    "for t in range(0,len(X2_val_mask)):\n",
    "    \n",
    "    X2_val_mask[t] = (((X2_val_mask[t] - np.mean(X2_val_mask[t])) / np.std(X2_val_mask[t])))\n",
    "    X2_val_mask[t] = np.clip(X2_val_mask[t], -1,1)\n",
    "    X2_val_mask[t] = (X2_val_mask[t] + 1) / 2"
   ]
  },
  {
   "cell_type": "code",
   "execution_count": 106,
   "metadata": {},
   "outputs": [
    {
     "data": {
      "text/plain": [
       "<matplotlib.image.AxesImage at 0x24be627f3d0>"
      ]
     },
     "execution_count": 106,
     "metadata": {},
     "output_type": "execute_result"
    },
    {
     "data": {
      "image/png": "[encoded data removed]",
      "text/plain": [
       "<Figure size 432x288 with 1 Axes>"
      ]
     },
     "metadata": {
      "needs_background": "light"
     },
     "output_type": "display_data"
    }
   ],
   "source": [
    "plt.imshow(X_val_eval[0].astype(\"uint8\"),cmap=\"gray\")"
   ]
  },
  {
   "cell_type": "code",
   "execution_count": 87,
   "metadata": {},
   "outputs": [],
   "source": [
    "# combine all data sets\n",
    "X_val_fullset = np.concatenate((X1_val,X2_val), axis=0)\n",
    "y_val_fullset = np.concatenate((X1_val_mask,X2_val_mask), axis=0)"
   ]
  },
  {
   "cell_type": "code",
   "execution_count": 88,
   "metadata": {},
   "outputs": [],
   "source": [
    "# shuffle the whole set\n",
    "X_val_temp, y_val_temp = shuffle(X_val_fullset, y_val_fullset, random_state=10)"
   ]
  },
  {
   "cell_type": "code",
   "execution_count": 90,
   "metadata": {},
   "outputs": [],
   "source": [
    "# finally create tensor dataset\n",
    "data_generator = DataGenerator(X_val_temp, y_val_temp, batch_size = 32)\n",
    "\n",
    "val_fullTensor = tf.data.Dataset.from_generator(\n",
    "                                            data_generator,\n",
    "                                            output_signature=(tf.TensorSpec(shape=(None, 208, 176, 1), dtype=tf.float32), tf.TensorSpec(shape=(None, 208, 176, 1), dtype=tf.float32))\n",
    "                                            )\n",
    "\n",
    "# keep seperate val set for later validation\n",
    "X_val_eval = X_val_temp\n",
    "y_val_eval = y_val_temp"
   ]
  },
  {
   "cell_type": "code",
   "execution_count": 95,
   "metadata": {},
   "outputs": [
    {
     "data": {
      "text/plain": [
       "<FlatMapDataset element_spec=(TensorSpec(shape=(None, 208, 176), dtype=tf.float32, name=None), TensorSpec(shape=(None, 208, 176), dtype=tf.float32, name=None))>"
      ]
     },
     "execution_count": 95,
     "metadata": {},
     "output_type": "execute_result"
    }
   ],
   "source": [
    "val_fullTensor"
   ]
  },
  {
   "cell_type": "markdown",
   "metadata": {},
   "source": [
    "### Build CNN Architecture and Model Fitting"
   ]
  },
  {
   "cell_type": "code",
   "execution_count": 94,
   "metadata": {},
   "outputs": [],
   "source": [
    "from keras.models import Model, load_model\n",
    "from keras.layers import Input\n",
    "from keras.layers.core import Dropout, Lambda\n",
    "from keras.layers.convolutional import Conv2D, Conv2DTranspose\n",
    "from keras.layers.pooling import MaxPooling2D\n",
    "from keras.layers import concatenate\n",
    "from keras.callbacks import EarlyStopping, ModelCheckpoint\n",
    "from keras import backend as K\n",
    "\n",
    "import tensorflow as tf"
   ]
  },
  {
   "cell_type": "code",
   "execution_count": 100,
   "metadata": {},
   "outputs": [
    {
     "name": "stdout",
     "output_type": "stream",
     "text": [
      "Model: \"model_2\"\n",
      "__________________________________________________________________________________________________\n",
      " Layer (type)                   Output Shape         Param #     Connected to                     \n",
      "==================================================================================================\n",
      " input_4 (InputLayer)           [(None, 208, 176, 1  0           []                               \n",
      "                                )]                                                                \n",
      "                                                                                                  \n",
      " lambda_3 (Lambda)              (None, 208, 176, 1)  0           ['input_4[0][0]']                \n",
      "                                                                                                  \n",
      " conv2d_39 (Conv2D)             (None, 208, 176, 16  160         ['lambda_3[0][0]']               \n",
      "                                )                                                                 \n",
      "                                                                                                  \n",
      " dropout_18 (Dropout)           (None, 208, 176, 16  0           ['conv2d_39[0][0]']              \n",
      "                                )                                                                 \n",
      "                                                                                                  \n",
      " conv2d_40 (Conv2D)             (None, 208, 176, 16  2320        ['dropout_18[0][0]']             \n",
      "                                )                                                                 \n",
      "                                                                                                  \n",
      " max_pooling2d_8 (MaxPooling2D)  (None, 104, 88, 16)  0          ['conv2d_40[0][0]']              \n",
      "                                                                                                  \n",
      " conv2d_41 (Conv2D)             (None, 104, 88, 32)  4640        ['max_pooling2d_8[0][0]']        \n",
      "                                                                                                  \n",
      " dropout_19 (Dropout)           (None, 104, 88, 32)  0           ['conv2d_41[0][0]']              \n",
      "                                                                                                  \n",
      " conv2d_42 (Conv2D)             (None, 104, 88, 32)  9248        ['dropout_19[0][0]']             \n",
      "                                                                                                  \n",
      " max_pooling2d_9 (MaxPooling2D)  (None, 52, 44, 32)  0           ['conv2d_42[0][0]']              \n",
      "                                                                                                  \n",
      " conv2d_43 (Conv2D)             (None, 52, 44, 64)   18496       ['max_pooling2d_9[0][0]']        \n",
      "                                                                                                  \n",
      " dropout_20 (Dropout)           (None, 52, 44, 64)   0           ['conv2d_43[0][0]']              \n",
      "                                                                                                  \n",
      " conv2d_44 (Conv2D)             (None, 52, 44, 64)   36928       ['dropout_20[0][0]']             \n",
      "                                                                                                  \n",
      " max_pooling2d_10 (MaxPooling2D  (None, 26, 22, 64)  0           ['conv2d_44[0][0]']              \n",
      " )                                                                                                \n",
      "                                                                                                  \n",
      " conv2d_45 (Conv2D)             (None, 26, 22, 128)  73856       ['max_pooling2d_10[0][0]']       \n",
      "                                                                                                  \n",
      " dropout_21 (Dropout)           (None, 26, 22, 128)  0           ['conv2d_45[0][0]']              \n",
      "                                                                                                  \n",
      " conv2d_46 (Conv2D)             (None, 26, 22, 128)  147584      ['dropout_21[0][0]']             \n",
      "                                                                                                  \n",
      " max_pooling2d_11 (MaxPooling2D  (None, 13, 11, 128)  0          ['conv2d_46[0][0]']              \n",
      " )                                                                                                \n",
      "                                                                                                  \n",
      " conv2d_47 (Conv2D)             (None, 13, 11, 256)  295168      ['max_pooling2d_11[0][0]']       \n",
      "                                                                                                  \n",
      " dropout_22 (Dropout)           (None, 13, 11, 256)  0           ['conv2d_47[0][0]']              \n",
      "                                                                                                  \n",
      " conv2d_48 (Conv2D)             (None, 13, 11, 256)  590080      ['dropout_22[0][0]']             \n",
      "                                                                                                  \n",
      " conv2d_transpose_8 (Conv2DTran  (None, 26, 22, 128)  131200     ['conv2d_48[0][0]']              \n",
      " spose)                                                                                           \n",
      "                                                                                                  \n",
      " concatenate_8 (Concatenate)    (None, 26, 22, 256)  0           ['conv2d_transpose_8[0][0]',     \n",
      "                                                                  'conv2d_46[0][0]']              \n",
      "                                                                                                  \n",
      " conv2d_49 (Conv2D)             (None, 26, 22, 128)  295040      ['concatenate_8[0][0]']          \n",
      "                                                                                                  \n",
      " dropout_23 (Dropout)           (None, 26, 22, 128)  0           ['conv2d_49[0][0]']              \n",
      "                                                                                                  \n",
      " conv2d_50 (Conv2D)             (None, 26, 22, 128)  147584      ['dropout_23[0][0]']             \n",
      "                                                                                                  \n",
      " conv2d_transpose_9 (Conv2DTran  (None, 52, 44, 64)  32832       ['conv2d_50[0][0]']              \n",
      " spose)                                                                                           \n",
      "                                                                                                  \n",
      " concatenate_9 (Concatenate)    (None, 52, 44, 128)  0           ['conv2d_transpose_9[0][0]',     \n",
      "                                                                  'conv2d_44[0][0]']              \n",
      "                                                                                                  \n",
      " conv2d_51 (Conv2D)             (None, 52, 44, 64)   73792       ['concatenate_9[0][0]']          \n",
      "                                                                                                  \n",
      " dropout_24 (Dropout)           (None, 52, 44, 64)   0           ['conv2d_51[0][0]']              \n",
      "                                                                                                  \n",
      " conv2d_52 (Conv2D)             (None, 52, 44, 64)   36928       ['dropout_24[0][0]']             \n",
      "                                                                                                  \n",
      " conv2d_transpose_10 (Conv2DTra  (None, 104, 88, 32)  8224       ['conv2d_52[0][0]']              \n",
      " nspose)                                                                                          \n",
      "                                                                                                  \n",
      " concatenate_10 (Concatenate)   (None, 104, 88, 64)  0           ['conv2d_transpose_10[0][0]',    \n",
      "                                                                  'conv2d_42[0][0]']              \n",
      "                                                                                                  \n",
      " conv2d_53 (Conv2D)             (None, 104, 88, 32)  18464       ['concatenate_10[0][0]']         \n",
      "                                                                                                  \n",
      " dropout_25 (Dropout)           (None, 104, 88, 32)  0           ['conv2d_53[0][0]']              \n",
      "                                                                                                  \n",
      " conv2d_54 (Conv2D)             (None, 104, 88, 32)  9248        ['dropout_25[0][0]']             \n",
      "                                                                                                  \n",
      " conv2d_transpose_11 (Conv2DTra  (None, 208, 176, 16  2064       ['conv2d_54[0][0]']              \n",
      " nspose)                        )                                                                 \n",
      "                                                                                                  \n",
      " concatenate_11 (Concatenate)   (None, 208, 176, 32  0           ['conv2d_transpose_11[0][0]',    \n",
      "                                )                                 'conv2d_40[0][0]']              \n",
      "                                                                                                  \n",
      " conv2d_55 (Conv2D)             (None, 208, 176, 16  4624        ['concatenate_11[0][0]']         \n",
      "                                )                                                                 \n",
      "                                                                                                  \n",
      " dropout_26 (Dropout)           (None, 208, 176, 16  0           ['conv2d_55[0][0]']              \n",
      "                                )                                                                 \n",
      "                                                                                                  \n",
      " conv2d_56 (Conv2D)             (None, 208, 176, 16  2320        ['dropout_26[0][0]']             \n",
      "                                )                                                                 \n",
      "                                                                                                  \n",
      " conv2d_57 (Conv2D)             (None, 208, 176, 1)  17          ['conv2d_56[0][0]']              \n",
      "                                                                                                  \n",
      "==================================================================================================\n",
      "Total params: 1,940,817\n",
      "Trainable params: 1,940,817\n",
      "Non-trainable params: 0\n",
      "__________________________________________________________________________________________________\n"
     ]
    }
   ],
   "source": [
    "IMG_HEIGHT = 208\n",
    "IMG_WIDTH = 176\n",
    "CHANNELS = 1\n",
    "\n",
    "inputs = Input((IMG_HEIGHT, IMG_WIDTH, CHANNELS))\n",
    "\n",
    "s = Lambda(lambda x: x / 255) (inputs)\n",
    "\n",
    "c1 = Conv2D(16, (3, 3), activation='elu', kernel_initializer='he_normal', padding='same') (s)\n",
    "c1 = Dropout(0.1) (c1)\n",
    "c1 = Conv2D(16, (3, 3), activation='elu', kernel_initializer='he_normal', padding='same') (c1)\n",
    "p1 = MaxPooling2D((2, 2)) (c1)\n",
    "\n",
    "c2 = Conv2D(32, (3, 3), activation='elu', kernel_initializer='he_normal', padding='same') (p1)\n",
    "c2 = Dropout(0.1) (c2)\n",
    "c2 = Conv2D(32, (3, 3), activation='elu', kernel_initializer='he_normal', padding='same') (c2)\n",
    "p2 = MaxPooling2D((2, 2)) (c2)\n",
    "\n",
    "c3 = Conv2D(64, (3, 3), activation='elu', kernel_initializer='he_normal', padding='same') (p2)\n",
    "c3 = Dropout(0.2) (c3)\n",
    "c3 = Conv2D(64, (3, 3), activation='elu', kernel_initializer='he_normal', padding='same') (c3)\n",
    "p3 = MaxPooling2D((2, 2)) (c3)\n",
    "\n",
    "c4 = Conv2D(128, (3, 3), activation='elu', kernel_initializer='he_normal', padding='same') (p3)\n",
    "c4 = Dropout(0.2) (c4)\n",
    "c4 = Conv2D(128, (3, 3), activation='elu', kernel_initializer='he_normal', padding='same') (c4)\n",
    "p4 = MaxPooling2D(pool_size=(2, 2)) (c4)\n",
    "\n",
    "c5 = Conv2D(256, (3, 3), activation='elu', kernel_initializer='he_normal', padding='same') (p4)\n",
    "c5 = Dropout(0.3) (c5)\n",
    "c5 = Conv2D(256, (3, 3), activation='elu', kernel_initializer='he_normal', padding='same') (c5)\n",
    "\n",
    "u6 = Conv2DTranspose(128, (2, 2), strides=(2, 2), padding='same') (c5)\n",
    "u6 = concatenate([u6, c4])\n",
    "c6 = Conv2D(128, (3, 3), activation='elu', kernel_initializer='he_normal', padding='same') (u6)\n",
    "c6 = Dropout(0.2) (c6)\n",
    "c6 = Conv2D(128, (3, 3), activation='elu', kernel_initializer='he_normal', padding='same') (c6)\n",
    "\n",
    "u7 = Conv2DTranspose(64, (2, 2), strides=(2, 2), padding='same') (c6)\n",
    "u7 = concatenate([u7, c3])\n",
    "c7 = Conv2D(64, (3, 3), activation='elu', kernel_initializer='he_normal', padding='same') (u7)\n",
    "c7 = Dropout(0.2) (c7)\n",
    "c7 = Conv2D(64, (3, 3), activation='elu', kernel_initializer='he_normal', padding='same') (c7)\n",
    "\n",
    "u8 = Conv2DTranspose(32, (2, 2), strides=(2, 2), padding='same') (c7)\n",
    "u8 = concatenate([u8, c2])\n",
    "c8 = Conv2D(32, (3, 3), activation='elu', kernel_initializer='he_normal', padding='same') (u8)\n",
    "c8 = Dropout(0.1) (c8)\n",
    "c8 = Conv2D(32, (3, 3), activation='elu', kernel_initializer='he_normal', padding='same') (c8)\n",
    "\n",
    "u9 = Conv2DTranspose(16, (2, 2), strides=(2, 2), padding='same') (c8)\n",
    "u9 = concatenate([u9, c1], axis=3)\n",
    "c9 = Conv2D(16, (3, 3), activation='elu', kernel_initializer='he_normal', padding='same') (u9)\n",
    "c9 = Dropout(0.1) (c9)\n",
    "c9 = Conv2D(16, (3, 3), activation='elu', kernel_initializer='he_normal', padding='same') (c9)\n",
    "\n",
    "outputs = Conv2D(1, (1, 1), activation='sigmoid') (c9)\n",
    "\n",
    "model = Model(inputs=[inputs], outputs=[outputs])\n",
    "\n",
    "model.compile(optimizer='adam', loss='binary_crossentropy', metrics=[metrics.Precision(), metrics.Recall()])\n",
    "\n",
    "model.summary()"
   ]
  },
  {
   "cell_type": "code",
   "execution_count": 98,
   "metadata": {},
   "outputs": [],
   "source": [
    "lr_schedule = tf.keras.optimizers.schedules.InverseTimeDecay(\n",
    "    0.0001,\n",
    "    decay_steps=train_ds.cardinality().numpy()*100,\n",
    "    decay_rate=1,\n",
    "    staircase=False)\n",
    "\n",
    "optimizer = tf.keras.optimizers.Adam(learning_rate=lr_schedule, name='Adam')\n"
   ]
  },
  {
   "cell_type": "code",
   "execution_count": 101,
   "metadata": {},
   "outputs": [
    {
     "name": "stdout",
     "output_type": "stream",
     "text": [
      "Epoch 1/10\n",
      "82/82 [==============================] - 14s 94ms/step - loss: 0.1604 - precision: 0.8328 - recall: 0.8674 - val_loss: 0.0801 - val_precision: 0.9255 - val_recall: 0.9316\n",
      "Epoch 2/10\n",
      "82/82 [==============================] - 6s 76ms/step - loss: 0.0684 - precision: 0.9352 - recall: 0.9402 - val_loss: 0.0632 - val_precision: 0.9013 - val_recall: 0.9880\n",
      "Epoch 3/10\n",
      "82/82 [==============================] - 6s 76ms/step - loss: 0.0563 - precision: 0.9475 - recall: 0.9494 - val_loss: 0.0673 - val_precision: 0.8918 - val_recall: 0.9929\n",
      "Epoch 4/10\n",
      "82/82 [==============================] - 6s 76ms/step - loss: 0.0480 - precision: 0.9557 - recall: 0.9563 - val_loss: 0.0482 - val_precision: 0.9285 - val_recall: 0.9871\n",
      "Epoch 5/10\n",
      "82/82 [==============================] - 6s 76ms/step - loss: 0.0437 - precision: 0.9603 - recall: 0.9594 - val_loss: 0.0428 - val_precision: 0.9386 - val_recall: 0.9859\n",
      "Epoch 6/10\n",
      "82/82 [==============================] - 6s 76ms/step - loss: 0.0418 - precision: 0.9624 - recall: 0.9604 - val_loss: 0.0751 - val_precision: 0.8803 - val_recall: 0.9975\n",
      "Epoch 7/10\n",
      "82/82 [==============================] - 6s 76ms/step - loss: 0.0369 - precision: 0.9666 - recall: 0.9654 - val_loss: 0.0443 - val_precision: 0.9267 - val_recall: 0.9945\n",
      "Epoch 8/10\n",
      "82/82 [==============================] - 6s 76ms/step - loss: 0.0339 - precision: 0.9695 - recall: 0.9680 - val_loss: 0.0317 - val_precision: 0.9536 - val_recall: 0.9897\n",
      "Epoch 9/10\n",
      "82/82 [==============================] - 6s 76ms/step - loss: 0.0327 - precision: 0.9709 - recall: 0.9689 - val_loss: 0.0369 - val_precision: 0.9370 - val_recall: 0.9959\n",
      "Epoch 10/10\n",
      "82/82 [==============================] - 6s 76ms/step - loss: 0.0307 - precision: 0.9724 - recall: 0.9709 - val_loss: 0.0295 - val_precision: 0.9525 - val_recall: 0.9938\n"
     ]
    }
   ],
   "source": [
    "#compiling the model architecture and start fit\n",
    "keras.backend.clear_session()\n",
    "#model.compile(optimizer=optimizer,\n",
    "#              loss=\"BinaryCrossentropy\",\n",
    "#              metrics=[metrics.Precision(), metrics.Recall()])\n",
    "\n",
    "\n",
    "with tf.device(\"/gpu:0\"):\n",
    "    history = model.fit(x=train_fullTensor,\n",
    "                        validation_data=val_fullTensor,\n",
    "                        epochs=10, \n",
    "                        shuffle=True,               #not sure if used with batched tf dataset\n",
    "                        )\n",
    "                        \n",
    "                    "
   ]
  },
  {
   "cell_type": "markdown",
   "metadata": {},
   "source": [
    "### Model Evaluation"
   ]
  },
  {
   "cell_type": "code",
   "execution_count": 102,
   "metadata": {},
   "outputs": [
    {
     "data": {
      "image/png": "[encoded data removed]",
      "text/plain": [
       "<Figure size 432x288 with 1 Axes>"
      ]
     },
     "metadata": {
      "needs_background": "light"
     },
     "output_type": "display_data"
    }
   ],
   "source": [
    "#print val vs accuracy\n",
    "\n",
    "keras.backend.clear_session()\n",
    "plt.plot(history.history['recall'], label='recall')\n",
    "plt.plot(history.history['val_recall'], label = 'val_recall')\n",
    "plt.xlabel('Epoch')\n",
    "plt.ylabel('recall')\n",
    "plt.ylim([0, 1])\n",
    "plt.legend(loc='lower right')\n",
    "plt.show()\n"
   ]
  },
  {
   "cell_type": "code",
   "execution_count": 103,
   "metadata": {},
   "outputs": [
    {
     "name": "stdout",
     "output_type": "stream",
     "text": [
      "55/55 [==============================] - 2s 26ms/step\n"
     ]
    }
   ],
   "source": [
    "test_preds = model.predict(X_val_eval)"
   ]
  },
  {
   "cell_type": "code",
   "execution_count": 127,
   "metadata": {},
   "outputs": [
    {
     "data": {
      "text/plain": [
       "<matplotlib.image.AxesImage at 0x24bea0384c0>"
      ]
     },
     "execution_count": 127,
     "metadata": {},
     "output_type": "execute_result"
    },
    {
     "data": {
      "image/png": "[encoded data removed]",
      "text/plain": [
       "<Figure size 432x288 with 1 Axes>"
      ]
     },
     "metadata": {
      "needs_background": "light"
     },
     "output_type": "display_data"
    }
   ],
   "source": [
    "plt.imshow(test_preds[1], cmap='gray')"
   ]
  },
  {
   "cell_type": "code",
   "execution_count": 125,
   "metadata": {},
   "outputs": [
    {
     "data": {
      "text/plain": [
       "<matplotlib.image.AxesImage at 0x24be66700d0>"
      ]
     },
     "execution_count": 125,
     "metadata": {},
     "output_type": "execute_result"
    },
    {
     "data": {
      "image/png": "[encoded data removed]",
      "text/plain": [
       "<Figure size 432x288 with 1 Axes>"
      ]
     },
     "metadata": {
      "needs_background": "light"
     },
     "output_type": "display_data"
    }
   ],
   "source": [
    "plt.imshow(y_val_eval[1], cmap='gray')"
   ]
  },
  {
   "cell_type": "code",
   "execution_count": null,
   "metadata": {},
   "outputs": [
    {
     "name": "stdout",
     "output_type": "stream",
     "text": [
      "1742/1742 [==============================] - 2s 1ms/step\n",
      "55/55 - 1s - loss: 0.1745 - precision: 0.9129 - recall: 0.9651 - auc: 0.9852 - 1s/epoch - 21ms/step\n"
     ]
    }
   ],
   "source": [
    "y_pred = model.predict(X_val_eval, batch_size=1, verbose=1)\n",
    "\n",
    "for idx, label in enumerate(y_pred):\n",
    "    if label > 0.5:\n",
    "        y_pred[idx] = 1\n",
    "    if label <= 0.5:\n",
    "        y_pred[idx] = 0\n",
    "\n",
    "test_loss, test_prec, test_rec, test_auc  = model.evaluate(val_fullTensor, verbose=2)"
   ]
  },
  {
   "cell_type": "code",
   "execution_count": null,
   "metadata": {},
   "outputs": [
    {
     "data": {
      "text/plain": [
       "0.9651324965132496"
      ]
     },
     "execution_count": 21,
     "metadata": {},
     "output_type": "execute_result"
    }
   ],
   "source": [
    "recall_score(y_val_eval,y_pred)"
   ]
  },
  {
   "cell_type": "code",
   "execution_count": null,
   "metadata": {},
   "outputs": [
    {
     "data": {
      "text/plain": [
       "array([[959,  66],\n",
       "       [ 25, 692]], dtype=int64)"
      ]
     },
     "execution_count": 22,
     "metadata": {},
     "output_type": "execute_result"
    }
   ],
   "source": [
    "confusion_matrix(y_val_eval,y_pred)"
   ]
  },
  {
   "cell_type": "markdown",
   "metadata": {},
   "source": [
    "### Load seperate test set (OASIS cross sections)"
   ]
  },
  {
   "cell_type": "code",
   "execution_count": null,
   "metadata": {},
   "outputs": [
    {
     "name": "stderr",
     "output_type": "stream",
     "text": [
      "C:\\Users\\wolle\\AppData\\Local\\Temp\\ipykernel_17340\\3706787863.py:24: SettingWithCopyWarning: \n",
      "A value is trying to be set on a copy of a slice from a DataFrame\n",
      "\n",
      "See the caveats in the documentation: https://pandas.pydata.org/pandas-docs/stable/user_guide/indexing.html#returning-a-view-versus-a-copy\n",
      "  metaData.CDR[metaData[\"CDR\"] == 0.5] =  1\n"
     ]
    }
   ],
   "source": [
    "metaData = pd.read_csv(\"F:\\MRI_class\\data\\oasis_cross_sectional.csv\")\n",
    "metaData = metaData[metaData.Age >= 50]\n",
    "metaData = metaData[[\"ID\",\"CDR\"]]\n",
    "\n",
    "# imputing missing 0\n",
    "metaData.CDR[metaData.CDR.isna() == True] = 0\n",
    "metaData = metaData.drop(metaData.CDR[metaData.CDR > 1].index)\n",
    "\n",
    "#get file names\n",
    "path = \"F:\\MRI_class\\data\\horizontal_masked\"\n",
    "#path = \"/Users/stephanbremser/neuefische/alzheimer-classification/data/horizontal_masked\"#\"~/neuefische/alzheimer-classification/data/horizontal_masked\"\n",
    "path_list = os.listdir(path)\n",
    "\n",
    "#create file list matching the path_list\n",
    "t = pd.DataFrame(path_list)\n",
    "\n",
    "#merge metadata dataframe with file list on ID\n",
    "f = lambda x: x[0:13] #merge on first 13 letters (eg \"OAS1_0001_MR1\")\n",
    "t[\"ID\"]=t[0].apply(f)\n",
    "\n",
    "metaData = pd.merge(metaData, t,on=\"ID\", how=\"left\")\n",
    "metaData = metaData.rename(columns={0:\"file\"})\n",
    "\n",
    "metaData.CDR[metaData[\"CDR\"] == 0.5] =  1\n",
    "\n"
   ]
  },
  {
   "cell_type": "code",
   "execution_count": null,
   "metadata": {},
   "outputs": [],
   "source": [
    "images_class0 = []\n",
    "images_class1 = []\n",
    "label_class0 = []\n",
    "label_class1 = []\n",
    "\n",
    "\n",
    "for t, i in enumerate(metaData.file):\n",
    "    temp_path = path+\"\\\\\"+i\n",
    "    if metaData.CDR[t] == 0:\n",
    "    \n",
    "        image1 = tf.keras.preprocessing.image.load_img(temp_path)\n",
    "        image1 = tf.keras.preprocessing.image.img_to_array(image1)\n",
    "        images_class0.append(image1)\n",
    "        label_class0.append(metaData.CDR[t])\n",
    "        \n",
    "    if metaData.CDR[t] == 1:\n",
    "        \n",
    "        \n",
    "        image1 = tf.keras.preprocessing.image.load_img(temp_path)\n",
    "        image1 = tf.keras.preprocessing.image.img_to_array(image1)\n",
    "        images_class1.append(image1)\n",
    "        label_class1.append(metaData.CDR[t])\n",
    "\n",
    "images_class0 = np.array(images_class0)    \n",
    "images_class1 = np.array(images_class1)\n",
    "label_class0 = np.array(label_class0)\n",
    "label_class1 = np.array(label_class1)\n",
    "\n"
   ]
  },
  {
   "cell_type": "code",
   "execution_count": null,
   "metadata": {},
   "outputs": [],
   "source": [
    "oasis_test_images = np.concatenate((images_class0,images_class1))\n",
    "oasis_test_labels = np.concatenate((label_class0,label_class1))\n",
    "X_test_oasis, y_test_oasis = shuffle(oasis_test_images, oasis_test_labels, random_state=10)"
   ]
  },
  {
   "cell_type": "code",
   "execution_count": null,
   "metadata": {},
   "outputs": [
    {
     "name": "stdout",
     "output_type": "stream",
     "text": [
      "229/229 [==============================] - 0s 2ms/step\n"
     ]
    }
   ],
   "source": [
    "oasis_pred = model.predict(X_test_oasis, batch_size=1, verbose=1)"
   ]
  },
  {
   "cell_type": "code",
   "execution_count": null,
   "metadata": {},
   "outputs": [],
   "source": [
    "for idx, label in enumerate(oasis_pred):\n",
    "    if label > 0.5:\n",
    "        oasis_pred[idx] = 1\n",
    "    if label <= 0.5:\n",
    "        oasis_pred[idx] = 0"
   ]
  },
  {
   "cell_type": "code",
   "execution_count": null,
   "metadata": {},
   "outputs": [
    {
     "name": "stdout",
     "output_type": "stream",
     "text": [
      "recall score: 0.9693877551020408\n",
      "precision score: 0.4460093896713615\n"
     ]
    }
   ],
   "source": [
    "print(\"recall score:\", recall_score(y_test_oasis,oasis_pred))\n",
    "print(\"precision score:\", precision_score(y_test_oasis,oasis_pred))"
   ]
  },
  {
   "cell_type": "code",
   "execution_count": null,
   "metadata": {},
   "outputs": [
    {
     "data": {
      "text/plain": [
       "array([[ 13, 118],\n",
       "       [  3,  95]], dtype=int64)"
      ]
     },
     "execution_count": 29,
     "metadata": {},
     "output_type": "execute_result"
    }
   ],
   "source": [
    "confusion_matrix(y_test_oasis,oasis_pred)"
   ]
  },
  {
   "cell_type": "code",
   "execution_count": null,
   "metadata": {},
   "outputs": [
    {
     "name": "stderr",
     "output_type": "stream",
     "text": [
      "Ein Unterverzeichnis oder eine Datei mit dem Namen \"-p\" existiert bereits.\n",
      "Folgender Fehler trat auf: -p.\n",
      "WARNING:absl:Found untraced functions such as _jit_compiled_convolution_op, _jit_compiled_convolution_op, _jit_compiled_convolution_op, _jit_compiled_convolution_op, _jit_compiled_convolution_op while saving (showing 5 of 5). These functions will not be directly callable after loading.\n"
     ]
    },
    {
     "name": "stdout",
     "output_type": "stream",
     "text": [
      "INFO:tensorflow:Assets written to: F:\\MRI_class\\data\\model_binary\\assets\n"
     ]
    },
    {
     "name": "stderr",
     "output_type": "stream",
     "text": [
      "INFO:tensorflow:Assets written to: F:\\MRI_class\\data\\model_binary\\assets\n"
     ]
    }
   ],
   "source": [
    "#!mkdir -p saved_model2\n",
    "model.save(\"F:\\\\MRI_class\\\\data\\\\model_binary\")"
   ]
  }
 ],
 "metadata": {
  "interpreter": {
   "hash": "d7f5635c6a78fe169b005751f9439463f9d3eaf59538022d184c29a838a0707b"
  },
  "kernelspec": {
   "display_name": "Python 3.10.4 64-bit (system)",
   "language": "python",
   "name": "python3"
  },
  "language_info": {
   "codemirror_mode": {
    "name": "ipython",
    "version": 3
   },
   "file_extension": ".py",
   "mimetype": "text/x-python",
   "name": "python",
   "nbconvert_exporter": "python",
   "pygments_lexer": "ipython3",
   "version": "3.9.8"
  },
  "orig_nbformat": 4
 },
 "nbformat": 4,
 "nbformat_minor": 2
}
