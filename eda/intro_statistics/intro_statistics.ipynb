{
 "cells": [
  {
   "cell_type": "code",
   "execution_count": 1,
   "metadata": {},
   "outputs": [],
   "source": [
    "import seaborn as sns\n",
    "%matplotlib inline\n",
    "import matplotlib.pyplot as plt\n",
    "import pandas as pd\n",
    "import numpy as np"
   ]
  },
  {
   "cell_type": "markdown",
   "metadata": {},
   "source": [
    "##### Data is gathered from various web sources and reproduce plots"
   ]
  },
  {
   "cell_type": "markdown",
   "metadata": {},
   "source": [
    "<i>-world wide-<i>"
   ]
  },
  {
   "cell_type": "code",
   "execution_count": 2,
   "metadata": {},
   "outputs": [],
   "source": [
    "world_population = 7.753 * 10**9\n",
    "world_demetia_total = 55 * 10**6\n",
    "estimate_dementia_2025 = 78 * 10**6\n",
    "estimate_dementia_2050 = 139 * 10**6\n",
    "part_low_income_countries = world_demetia_total * 0.6\n",
    "cases_fraction_before_65y = 0.09\n"
   ]
  },
  {
   "cell_type": "markdown",
   "metadata": {},
   "source": [
    "<i> -europe-"
   ]
  },
  {
   "cell_type": "code",
   "execution_count": 3,
   "metadata": {},
   "outputs": [],
   "source": [
    "male_prevalence = {\"60-64\": 0.2, \"65-69\": 1.1, \"70-74\": 3.1, \"75-79\": 7.0, \"80-84\": 10.7, \"85-89\": 16.3, \"90+\": 29.7}\n",
    "female_prevalence = {\"60-64\": 0.9, \"65-69\": 1.5, \"70-74\": 3.4, \"75-79\": 8.9, \"80-84\": 13.1, \"85-89\": 24.9, \"90+\": 44.8}\n",
    "all_prevalence = {\"60-64\": 0.6, \"65-69\": 1.3, \"70-74\": 3.3, \"75-79\": 8.0, \"80-84\": 12.1, \"85-89\": 21.9, \"90+\": 40.8}\n",
    "\n",
    "male_total_eu_2018 = 2.821643 * 10**6\n",
    "female_total_eu_2018 = 6.063458 * 10**6\n",
    "all_total_eu_2018 = male_total_eu_2018 + female_total_eu_2018\n",
    "population_fraction_2018 = 0.0173\n",
    "\n",
    "male_total_eu_2025 = 3.388336 * 10**6\n",
    "female_total_eu_2025 = 6.895569 * 10**6\n",
    "all_total_eu_2025 = male_total_eu_2025 + female_total_eu_2025\n",
    "population_fraction_2025 = 0.02\n",
    "\n",
    "male_total_eu_2050 = 5.671835 * 10**6\n",
    "female_total_eu_2050 = 10.604236 * 10**6\n",
    "all_total_eu_2050 = male_total_eu_2050 + female_total_eu_2050\n",
    "population_fraction_2050 = 0.0328\n",
    "\n",
    "\n"
   ]
  },
  {
   "cell_type": "code",
   "execution_count": 4,
   "metadata": {},
   "outputs": [],
   "source": [
    "alzheimer_part = 0.65\n",
    "vaskulare_dem = 0.15\n",
    "rest_dem = 1 - (alzheimer_part + vaskulare_dem)\n"
   ]
  },
  {
   "cell_type": "markdown",
   "metadata": {},
   "source": [
    "### Prevalence in europe vs age"
   ]
  },
  {
   "cell_type": "code",
   "execution_count": 5,
   "metadata": {},
   "outputs": [
    {
     "data": {
      "image/png": "[encoded data removed]",
      "text/plain": [
       "<Figure size 360x216 with 1 Axes>"
      ]
     },
     "metadata": {
      "needs_background": "dark"
     },
     "output_type": "display_data"
    },
    {
     "data": {
      "text/plain": [
       "<Figure size 432x288 with 0 Axes>"
      ]
     },
     "metadata": {},
     "output_type": "display_data"
    }
   ],
   "source": [
    "\n",
    "#set some variables\n",
    "x = np.arange(len(male_prevalence))                            #positions for bars in plot\n",
    "width = 0.2                                                    #bar thickness. Used to split one position into 3 (->3 groups)\n",
    "fontsize = 10\n",
    "\n",
    "#initiate figure and axis\n",
    "fig, ax = plt.subplots(figsize=(5,3))\n",
    "\n",
    "#data\n",
    "rects1 = ax.bar(x - width/0.8, male_prevalence.values(), width, label='Male',data=2, color=\"tab:blue\")\n",
    "rects2 = ax.bar(x, female_prevalence.values(), width, label='Female', color=\"tab:cyan\")\n",
    "rects3 = ax.bar(x + width/0.8, all_prevalence.values(), width, label='Overall', color=\"tab:red\")\n",
    "\n",
    "#set axis ticks,labels and line\n",
    "ax.set_ylabel(\"Prevalence %\", fontsize=fontsize, color=\"white\")\n",
    "ax.set_xlabel(\"Age Groups\", fontsize=fontsize, color=\"white\")\n",
    "ax.set_xticks(x, male_prevalence.keys(), fontsize=fontsize, color=\"white\")\n",
    "ax.tick_params(axis='x', length=0, color=\"white\")\n",
    "ax.tick_params(axis=\"y\", length=5, colors='white')\n",
    "ax.tick_params(width=2)\n",
    "\n",
    "#set color of custom ticks\n",
    "for t in ax.get_xticklabels():\n",
    "    t.set_color(\"white\")\n",
    "    t.set_fontsize(fontsize)\n",
    "\n",
    "#set color of custom ticks\n",
    "for t in ax.get_yticklabels():\n",
    "    t.set_color(\"white\")\n",
    "    t.set_fontsize(fontsize)\n",
    "\n",
    "ax.spines[\"top\"].set_visible(False)\n",
    "ax.spines[\"right\"].set_visible(False)\n",
    "ax.spines[\"bottom\"].set_visible(False)\n",
    "ax.spines[\"left\"].set_linewidth(2)\n",
    "ax.spines[\"left\"].set_color(\"white\")\n",
    "\n",
    "#set title\n",
    "ax.set_title(\"Prevalence of Alzheimer\"\"'\"+\"s Disease in Europe\", fontsize=12,**{'fontname':'Helvetica'}, color=\"white\")\n",
    "\n",
    "#set background to white\n",
    "#fig.patch.set_facecolor('white')\n",
    "\n",
    "#set legend\n",
    "legend = ax.legend(loc=\"upper left\", edgecolor=\"black\", fontsize=10, labelcolor=\"white\")\n",
    "legend.get_frame().set_color(\"white\")\n",
    "legend.get_frame().set_facecolor((0, 0, 1, 0.1))\n",
    "legend.get_frame().set_alpha(0)\n",
    "\n",
    "#add annotation (source)\n",
    "ax.text(3.8,-11,\"$\\it{alzheimer-europe.org/}$\", fontsize=8, **{'fontname':'Helvetica'}, color=\"white\")\n",
    "\n",
    "#save fig and show\n",
    "plt.savefig('prevalence_age.png', transparent=True, bbox_inches=\"tight\")\n",
    "plt.show()\n",
    "plt.clf()\n"
   ]
  },
  {
   "cell_type": "markdown",
   "metadata": {},
   "source": [
    "### Prevalence Estimate for 2025 and 2050"
   ]
  },
  {
   "cell_type": "code",
   "execution_count": 6,
   "metadata": {},
   "outputs": [
    {
     "data": {
      "image/png": "[encoded data removed]",
      "text/plain": [
       "<Figure size 360x216 with 1 Axes>"
      ]
     },
     "metadata": {
      "needs_background": "dark"
     },
     "output_type": "display_data"
    },
    {
     "data": {
      "text/plain": [
       "<Figure size 432x288 with 0 Axes>"
      ]
     },
     "metadata": {},
     "output_type": "display_data"
    }
   ],
   "source": [
    "#set some variables\n",
    "male_progno = [x / 10**6 for x in [male_total_eu_2018,male_total_eu_2025,male_total_eu_2050]]\n",
    "female_progno = [x / 10**6 for x in [female_total_eu_2018,female_total_eu_2025,female_total_eu_2050]]\n",
    "total_progno = [x / 10**6 for x in [all_total_eu_2018,all_total_eu_2025,all_total_eu_2050]]\n",
    "x = [2018,2025,2050]\n",
    "fontsize = 10\n",
    "\n",
    "#initiate figure and axis\n",
    "\n",
    "fig2, ax2 = plt.subplots(figsize=(5,3))\n",
    "\n",
    "#data\n",
    "ax2.plot(x, male_progno, color=\"tab:blue\", linewidth=3, label=\"Male\")\n",
    "ax2.plot(x, female_progno, color=\"tab:cyan\",linewidth=3, label=\"Female\")\n",
    "ax2.plot(x, total_progno, color=\"tab:red\", linewidth=3, label=\"Overall\")\n",
    "\n",
    "\n",
    "#set axis ticks,labels and line\n",
    "ax2.set_ylabel(\"Alzheimer Patients (in M)\", fontsize=fontsize, color=\"white\")\n",
    "ax2.set_xlabel(\"Year\", fontsize=fontsize, color=\"white\")\n",
    "ax2.tick_params(axis='x', length=5, color=\"white\")\n",
    "ax2.tick_params(axis=\"y\", length=5, colors='white')\n",
    "ax2.tick_params(width=2)\n",
    "\n",
    "#set color of custom ticks\n",
    "for t in ax2.get_xticklabels():\n",
    "    t.set_color(\"white\")\n",
    "    t.set_fontsize(fontsize)\n",
    "\n",
    "#set color of custom ticks\n",
    "for t in ax2.get_yticklabels():\n",
    "    t.set_color(\"white\")\n",
    "    t.set_fontsize(fontsize)\n",
    "\n",
    "\n",
    "ax2.spines[\"top\"].set_visible(False)\n",
    "ax2.spines[\"right\"].set_visible(False)\n",
    "\n",
    "ax2.spines[\"left\"].set_linewidth(2)\n",
    "ax2.spines[\"left\"].set_color(\"white\")\n",
    "ax2.spines[\"bottom\"].set_linewidth(2)\n",
    "ax2.spines[\"bottom\"].set_color(\"white\")\n",
    "\n",
    "#set title\n",
    "ax2.set_title(\"Alzheimer\"\"'\"+\"s Disease Cases in Europe - Estimates\", fontsize=12,**{'fontname':'Helvetica'}, color=\"white\")\n",
    "\n",
    "#set legend\n",
    "legend2 = ax2.legend(loc=\"upper left\", edgecolor=\"black\", fontsize=10, labelcolor=\"white\")\n",
    "legend2.get_frame().set_color(\"white\")\n",
    "legend2.get_frame().set_facecolor((0, 0, 1, 0.1))\n",
    "legend2.get_frame().set_alpha(0)\n",
    "\n",
    "\n",
    "#add annotation (source)\n",
    "ax2.text(2039,-1.1,\"$\\it{alzheimer-europe.org/}$\", fontsize=8, **{'fontname':'Helvetica'}, color=\"white\")\n",
    "\n",
    "#add annotation (custom)\n",
    "ax2.text(2040,12.4,r\"100% increase\", fontsize=12, **{'fontname':'Helvetica'}, color=\"white\", rotation=20)\n",
    "\n",
    "#save fig and show\n",
    "plt.savefig('count_prognoses.png', transparent=True, bbox_inches=\"tight\")\n",
    "plt.show()\n",
    "plt.clf()\n"
   ]
  },
  {
   "cell_type": "markdown",
   "metadata": {},
   "source": [
    "### Dementia and Alzheimers Parts"
   ]
  },
  {
   "cell_type": "code",
   "execution_count": 7,
   "metadata": {},
   "outputs": [
    {
     "data": {
      "image/png": "[encoded data removed]",
      "text/plain": [
       "<Figure size 288x288 with 1 Axes>"
      ]
     },
     "metadata": {},
     "output_type": "display_data"
    },
    {
     "data": {
      "text/plain": [
       "<Figure size 432x288 with 0 Axes>"
      ]
     },
     "metadata": {},
     "output_type": "display_data"
    }
   ],
   "source": [
    "#set some variables\n",
    "data = {\"Alzheimer's\": alzheimer_part, \"Vascular\": vaskulare_dem, \"Others\": rest_dem}\n",
    "explode = (0.1,0,0)\n",
    "colors = (\"tab:red\",\"tab:blue\",\"tab:cyan\")\n",
    "#initiate figure and axis\n",
    "\n",
    "fig3, ax3 = plt.subplots(figsize=(4,4))\n",
    "\n",
    "\n",
    "#data\n",
    "# Capture each of the return elements.\n",
    "patches, texts, pcts = ax3.pie(\n",
    "    data.values(), labels=data.keys(), autopct='%.1f%%',\n",
    "    wedgeprops={'linewidth': 1.5, 'edgecolor': 'white'},\n",
    "    textprops={'size': 'x-large'},\n",
    "    colors=colors,\n",
    "    pctdistance=0.5,\n",
    "    explode=explode)\n",
    "\n",
    "\n",
    "# For each wedge, set the corresponding text label color to the wedge's\n",
    "# face color.\n",
    "for i, patch in enumerate(patches):\n",
    "    texts[i].set_alpha(0)\n",
    "    pcts[i].set_fontsize(10) \n",
    "    \n",
    "    if i == 0:\n",
    "        pcts[i].set_position((-0.15,0.4))\n",
    "        pcts[i].set_fontweight(\"bold\")\n",
    "        \n",
    "    if i == 1:\n",
    "        pcts[i].set_position((-0.09,-0.6))\n",
    "    if i == 2:\n",
    "        pcts[i].set_position((0.5,-0.35))\n",
    "\n",
    "plt.setp(pcts, color='white')\n",
    "\n",
    "#set title\n",
    "ax3.set_title(\"Major Age-Related Neurodegenerative Diseases\", fontsize=12,**{'fontname':'Helvetica'}, color=\"white\",loc='center')\n",
    "\n",
    "#set legend\n",
    "legend3 = ax3.legend(loc=(0.9,0.1), edgecolor=\"black\", fontsize=10, labelcolor=\"black\")\n",
    "legend3.get_frame().set_color(\"white\")\n",
    "legend3.get_frame().set_facecolor((0, 0, 1, 0))\n",
    "legend3.get_frame().set_alpha(0)\n",
    "\n",
    "#save fig and show\n",
    "plt.savefig('part_alzheimer.png', transparent=True, bbox_inches=\"tight\")\n",
    "plt.show()\n",
    "plt.clf()"
   ]
  }
 ],
 "metadata": {
  "interpreter": {
   "hash": "1044d6db4cf9d212f2e60ba8d10a8b773bdc7334be3000fd2596047706c95643"
  },
  "kernelspec": {
   "display_name": "Python 3.9.8 64-bit ('3.9.8')",
   "language": "python",
   "name": "python3"
  },
  "language_info": {
   "codemirror_mode": {
    "name": "ipython",
    "version": 3
   },
   "file_extension": ".py",
   "mimetype": "text/x-python",
   "name": "python",
   "nbconvert_exporter": "python",
   "pygments_lexer": "ipython3",
   "version": "3.9.8"
  },
  "orig_nbformat": 4
 },
 "nbformat": 4,
 "nbformat_minor": 2
}
