{
 "cells": [
  {
   "cell_type": "code",
   "execution_count": 1,
   "metadata": {},
   "outputs": [],
   "source": [
    "import seaborn as sns\n",
    "import matplotlib as plt\n",
    "import pandas as pd\n",
    "import numpy as np"
   ]
  },
  {
   "cell_type": "markdown",
   "metadata": {},
   "source": [
    "##### Data is gathered from various web sources and reproduce plots"
   ]
  },
  {
   "cell_type": "markdown",
   "metadata": {},
   "source": [
    "<i>-world wide-<i>"
   ]
  },
  {
   "cell_type": "code",
   "execution_count": 6,
   "metadata": {},
   "outputs": [],
   "source": [
    "world_population = 7.753 * 10**9\n",
    "world_demetia_total = 55 * 10**6\n",
    "estimate_dementia_2025 = 78 * 10**6\n",
    "estimate_dementia_2050 = 139 * 10**6\n",
    "part_low_income_countries = world_demetia_total * 0.6\n",
    "cases_fraction_before_65y = 0.09\n"
   ]
  },
  {
   "cell_type": "markdown",
   "metadata": {},
   "source": [
    "<i> -europe-"
   ]
  },
  {
   "cell_type": "code",
   "execution_count": 15,
   "metadata": {},
   "outputs": [
    {
     "data": {
      "text/plain": [
       "16276071.0"
      ]
     },
     "execution_count": 15,
     "metadata": {},
     "output_type": "execute_result"
    }
   ],
   "source": [
    "male_prevalence = {\"60-64\": 0.2, \"65-69\": 1.1, \"70-74\": 3.1, \"75-79\": 7.0, \"80-84\": 10.7, \"85-89\": 16.3, \"90+\": 29.7}\n",
    "female_prevalence = {\"60-64\": 0.9, \"65-69\": 1.5, \"70-74\": 3.4, \"75-79\": 8.9, \"80-84\": 13.1, \"85-89\": 24.9, \"90+\": 44.8}\n",
    "all_prevalence = {\"60-64\": 0.6, \"65-69\": 1.3, \"70-74\": 3.3, \"75-79\": 8.0, \"80-84\": 12.1, \"85-89\": 21.9, \"90+\": 40.8}\n",
    "\n",
    "male_total_eu_2018 = 2.821643 * 10**6\n",
    "female_total_eu_2018 = 6.063458 * 10**6\n",
    "all_total_eu_2018 = male_total_eu_2018 + female_total_eu_2018\n",
    "population_fraction_2018 = 0.0173\n",
    "\n",
    "male_total_eu_2025 = 3.388336 * 10**6\n",
    "female_total_eu_2025 = 6.895569 * 10**6\n",
    "all_total_eu_2025 = male_total_eu_2025 + female_total_eu_2025\n",
    "population_fraction_2025 = 0.02\n",
    "\n",
    "male_total_eu_2050 = 5.671835 * 10**6\n",
    "female_total_eu_2050 = 10.604236 * 10**6\n",
    "all_total_eu_2050 = male_total_eu_2050 + female_total_eu_2050\n",
    "population_fraction_2050 = 0.0328\n",
    "\n",
    "\n"
   ]
  }
 ],
 "metadata": {
  "interpreter": {
   "hash": "d7f5635c6a78fe169b005751f9439463f9d3eaf59538022d184c29a838a0707b"
  },
  "kernelspec": {
   "display_name": "Python 3.9.8 64-bit (system)",
   "language": "python",
   "name": "python3"
  },
  "language_info": {
   "codemirror_mode": {
    "name": "ipython",
    "version": 3
   },
   "file_extension": ".py",
   "mimetype": "text/x-python",
   "name": "python",
   "nbconvert_exporter": "python",
   "pygments_lexer": "ipython3",
   "version": "3.9.8"
  },
  "orig_nbformat": 4
 },
 "nbformat": 4,
 "nbformat_minor": 2
}
