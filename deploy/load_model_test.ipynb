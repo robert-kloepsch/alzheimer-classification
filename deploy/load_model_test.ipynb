{
 "cells": [
  {
   "cell_type": "code",
   "execution_count": 1,
   "metadata": {},
   "outputs": [
    {
     "name": "stdout",
     "output_type": "stream",
     "text": [
      "Metal device set to: Apple M1\n",
      "\n",
      "systemMemory: 8.00 GB\n",
      "maxCacheSize: 2.67 GB\n",
      "\n"
     ]
    },
    {
     "name": "stderr",
     "output_type": "stream",
     "text": [
      "2022-06-02 14:24:54.367411: I tensorflow/core/common_runtime/pluggable_device/pluggable_device_factory.cc:305] Could not identify NUMA node of platform GPU ID 0, defaulting to 0. Your kernel may not have been built with NUMA support.\n",
      "2022-06-02 14:24:54.367502: I tensorflow/core/common_runtime/pluggable_device/pluggable_device_factory.cc:271] Created TensorFlow device (/job:localhost/replica:0/task:0/device:GPU:0 with 0 MB memory) -> physical PluggableDevice (device: 0, name: METAL, pci bus id: <undefined>)\n"
     ]
    }
   ],
   "source": [
    "from tensorflow import keras\n",
    "import tensorflow as tf\n",
    "import keras\n",
    "import numpy as np\n",
    "from sklearn.utils import shuffle\n",
    "from sklearn.metrics import recall_score, precision_score\n",
    "model = keras.models.load_model('/Users/stephanbremser/neuefische/alzheimer-classification/deploy/model_binary')\n",
    "import PIL\n",
    "import cv2\n"
   ]
  },
  {
   "cell_type": "code",
   "execution_count": 2,
   "metadata": {},
   "outputs": [
    {
     "name": "stdout",
     "output_type": "stream",
     "text": [
      "Found 1027 files belonging to 4 classes.\n"
     ]
    },
    {
     "name": "stderr",
     "output_type": "stream",
     "text": [
      "2022-06-02 14:25:06.736251: W tensorflow/core/platform/profile_utils/cpu_utils.cc:128] Failed to get CPU frequency: 0 Hz\n"
     ]
    }
   ],
   "source": [
    "# load validation dataset from drive\n",
    "# set for training\n",
    "PATH = \"/Users/stephanbremser/Documents/python_mri/Alzheimer_s Dataset/validation\"\n",
    "IMAGE_SIZE = (208, 176)\n",
    "val_ds = tf.keras.utils.image_dataset_from_directory(\n",
    "                                        PATH, \n",
    "                                        seed=10, \n",
    "                                        shuffle=False, \n",
    "                                        image_size=IMAGE_SIZE, \n",
    "                                        batch_size=32\n",
    "                                        )\n",
    "\n",
    "                                        # seperation of validation target and label\n",
    "# !!! these sets are not shuffled !!!\n",
    "\n",
    "X1_val = []\n",
    "y1_val = []\n",
    "X2_val = []\n",
    "y2_val = []\n",
    "\n",
    "for img, label in val_ds.unbatch():\n",
    "    if label.numpy() == 0:\n",
    "        X1_val.append(img.numpy())\n",
    "        y1_val.append([0])\n",
    "\n",
    "    if label.numpy() == 1:\n",
    "        X2_val.append(img.numpy())\n",
    "        y2_val.append([1])\n",
    "\n",
    "# combine all data sets\n",
    "X_val_fullset = np.concatenate((X1_val,X2_val), axis=0)\n",
    "y_val_fullset = np.concatenate((y1_val,y2_val), axis=0)\n",
    "\n",
    "# shuffle the whole set\n",
    "X_val_temp, y_val_temp = shuffle(X_val_fullset, y_val_fullset, random_state=10)"
   ]
  },
  {
   "cell_type": "code",
   "execution_count": 3,
   "metadata": {},
   "outputs": [],
   "source": [
    "image = X_val_temp[0]\n",
    "image = image[np.newaxis,:,:,:]"
   ]
  },
  {
   "cell_type": "code",
   "execution_count": 4,
   "metadata": {},
   "outputs": [
    {
     "data": {
      "text/plain": [
       "array([[[[0., 0., 0.],\n",
       "         [0., 0., 0.],\n",
       "         [0., 0., 0.],\n",
       "         ...,\n",
       "         [0., 0., 0.],\n",
       "         [0., 0., 0.],\n",
       "         [0., 0., 0.]],\n",
       "\n",
       "        [[0., 0., 0.],\n",
       "         [0., 0., 0.],\n",
       "         [0., 0., 0.],\n",
       "         ...,\n",
       "         [0., 0., 0.],\n",
       "         [0., 0., 0.],\n",
       "         [0., 0., 0.]],\n",
       "\n",
       "        [[0., 0., 0.],\n",
       "         [0., 0., 0.],\n",
       "         [0., 0., 0.],\n",
       "         ...,\n",
       "         [0., 0., 0.],\n",
       "         [0., 0., 0.],\n",
       "         [0., 0., 0.]],\n",
       "\n",
       "        ...,\n",
       "\n",
       "        [[0., 0., 0.],\n",
       "         [0., 0., 0.],\n",
       "         [0., 0., 0.],\n",
       "         ...,\n",
       "         [0., 0., 0.],\n",
       "         [0., 0., 0.],\n",
       "         [0., 0., 0.]],\n",
       "\n",
       "        [[0., 0., 0.],\n",
       "         [0., 0., 0.],\n",
       "         [0., 0., 0.],\n",
       "         ...,\n",
       "         [0., 0., 0.],\n",
       "         [0., 0., 0.],\n",
       "         [0., 0., 0.]],\n",
       "\n",
       "        [[0., 0., 0.],\n",
       "         [0., 0., 0.],\n",
       "         [0., 0., 0.],\n",
       "         ...,\n",
       "         [0., 0., 0.],\n",
       "         [0., 0., 0.],\n",
       "         [0., 0., 0.]]]], dtype=float32)"
      ]
     },
     "execution_count": 4,
     "metadata": {},
     "output_type": "execute_result"
    }
   ],
   "source": [
    "image\n"
   ]
  },
  {
   "cell_type": "code",
   "execution_count": 16,
   "metadata": {},
   "outputs": [],
   "source": [
    "t = model.predict(image)"
   ]
  },
  {
   "cell_type": "code",
   "execution_count": 19,
   "metadata": {},
   "outputs": [
    {
     "data": {
      "text/plain": [
       "array([[1.]], dtype=float32)"
      ]
     },
     "execution_count": 19,
     "metadata": {},
     "output_type": "execute_result"
    }
   ],
   "source": [
    "t"
   ]
  },
  {
   "cell_type": "code",
   "execution_count": 17,
   "metadata": {},
   "outputs": [],
   "source": [
    "for idx, label in enumerate(t):\n",
    "    if label > 0.5:\n",
    "        t[idx] = 1\n",
    "    if label <= 0.5:\n",
    "        t[idx] = 0"
   ]
  },
  {
   "cell_type": "code",
   "execution_count": 18,
   "metadata": {},
   "outputs": [
    {
     "ename": "ValueError",
     "evalue": "Found input variables with inconsistent numbers of samples: [872, 1]",
     "output_type": "error",
     "traceback": [
      "\u001b[0;31m---------------------------------------------------------------------------\u001b[0m",
      "\u001b[0;31mValueError\u001b[0m                                Traceback (most recent call last)",
      "\u001b[1;32m/Users/stephanbremser/neuefische/alzheimer-classification/deploy/load_model_test.ipynb Cell 7'\u001b[0m in \u001b[0;36m<cell line: 1>\u001b[0;34m()\u001b[0m\n\u001b[0;32m----> <a href='vscode-notebook-cell:/Users/stephanbremser/neuefische/alzheimer-classification/deploy/load_model_test.ipynb#ch0000004?line=0'>1</a>\u001b[0m recall_score(y_val_temp,t)\n",
      "File \u001b[0;32m~/.pyenv/versions/3.9.8/lib/python3.9/site-packages/sklearn/metrics/_classification.py:1901\u001b[0m, in \u001b[0;36mrecall_score\u001b[0;34m(y_true, y_pred, labels, pos_label, average, sample_weight, zero_division)\u001b[0m\n\u001b[1;32m   <a href='file:///Users/stephanbremser/.pyenv/versions/3.9.8/lib/python3.9/site-packages/sklearn/metrics/_classification.py?line=1769'>1770</a>\u001b[0m \u001b[39mdef\u001b[39;00m \u001b[39mrecall_score\u001b[39m(\n\u001b[1;32m   <a href='file:///Users/stephanbremser/.pyenv/versions/3.9.8/lib/python3.9/site-packages/sklearn/metrics/_classification.py?line=1770'>1771</a>\u001b[0m     y_true,\n\u001b[1;32m   <a href='file:///Users/stephanbremser/.pyenv/versions/3.9.8/lib/python3.9/site-packages/sklearn/metrics/_classification.py?line=1771'>1772</a>\u001b[0m     y_pred,\n\u001b[0;32m   (...)\u001b[0m\n\u001b[1;32m   <a href='file:///Users/stephanbremser/.pyenv/versions/3.9.8/lib/python3.9/site-packages/sklearn/metrics/_classification.py?line=1777'>1778</a>\u001b[0m     zero_division\u001b[39m=\u001b[39m\u001b[39m\"\u001b[39m\u001b[39mwarn\u001b[39m\u001b[39m\"\u001b[39m,\n\u001b[1;32m   <a href='file:///Users/stephanbremser/.pyenv/versions/3.9.8/lib/python3.9/site-packages/sklearn/metrics/_classification.py?line=1778'>1779</a>\u001b[0m ):\n\u001b[1;32m   <a href='file:///Users/stephanbremser/.pyenv/versions/3.9.8/lib/python3.9/site-packages/sklearn/metrics/_classification.py?line=1779'>1780</a>\u001b[0m     \u001b[39m\"\"\"Compute the recall.\u001b[39;00m\n\u001b[1;32m   <a href='file:///Users/stephanbremser/.pyenv/versions/3.9.8/lib/python3.9/site-packages/sklearn/metrics/_classification.py?line=1780'>1781</a>\u001b[0m \n\u001b[1;32m   <a href='file:///Users/stephanbremser/.pyenv/versions/3.9.8/lib/python3.9/site-packages/sklearn/metrics/_classification.py?line=1781'>1782</a>\u001b[0m \u001b[39m    The recall is the ratio ``tp / (tp + fn)`` where ``tp`` is the number of\u001b[39;00m\n\u001b[0;32m   (...)\u001b[0m\n\u001b[1;32m   <a href='file:///Users/stephanbremser/.pyenv/versions/3.9.8/lib/python3.9/site-packages/sklearn/metrics/_classification.py?line=1898'>1899</a>\u001b[0m \u001b[39m    array([1. , 1. , 0.5])\u001b[39;00m\n\u001b[1;32m   <a href='file:///Users/stephanbremser/.pyenv/versions/3.9.8/lib/python3.9/site-packages/sklearn/metrics/_classification.py?line=1899'>1900</a>\u001b[0m \u001b[39m    \"\"\"\u001b[39;00m\n\u001b[0;32m-> <a href='file:///Users/stephanbremser/.pyenv/versions/3.9.8/lib/python3.9/site-packages/sklearn/metrics/_classification.py?line=1900'>1901</a>\u001b[0m     _, r, _, _ \u001b[39m=\u001b[39m precision_recall_fscore_support(\n\u001b[1;32m   <a href='file:///Users/stephanbremser/.pyenv/versions/3.9.8/lib/python3.9/site-packages/sklearn/metrics/_classification.py?line=1901'>1902</a>\u001b[0m         y_true,\n\u001b[1;32m   <a href='file:///Users/stephanbremser/.pyenv/versions/3.9.8/lib/python3.9/site-packages/sklearn/metrics/_classification.py?line=1902'>1903</a>\u001b[0m         y_pred,\n\u001b[1;32m   <a href='file:///Users/stephanbremser/.pyenv/versions/3.9.8/lib/python3.9/site-packages/sklearn/metrics/_classification.py?line=1903'>1904</a>\u001b[0m         labels\u001b[39m=\u001b[39;49mlabels,\n\u001b[1;32m   <a href='file:///Users/stephanbremser/.pyenv/versions/3.9.8/lib/python3.9/site-packages/sklearn/metrics/_classification.py?line=1904'>1905</a>\u001b[0m         pos_label\u001b[39m=\u001b[39;49mpos_label,\n\u001b[1;32m   <a href='file:///Users/stephanbremser/.pyenv/versions/3.9.8/lib/python3.9/site-packages/sklearn/metrics/_classification.py?line=1905'>1906</a>\u001b[0m         average\u001b[39m=\u001b[39;49maverage,\n\u001b[1;32m   <a href='file:///Users/stephanbremser/.pyenv/versions/3.9.8/lib/python3.9/site-packages/sklearn/metrics/_classification.py?line=1906'>1907</a>\u001b[0m         warn_for\u001b[39m=\u001b[39;49m(\u001b[39m\"\u001b[39;49m\u001b[39mrecall\u001b[39;49m\u001b[39m\"\u001b[39;49m,),\n\u001b[1;32m   <a href='file:///Users/stephanbremser/.pyenv/versions/3.9.8/lib/python3.9/site-packages/sklearn/metrics/_classification.py?line=1907'>1908</a>\u001b[0m         sample_weight\u001b[39m=\u001b[39;49msample_weight,\n\u001b[1;32m   <a href='file:///Users/stephanbremser/.pyenv/versions/3.9.8/lib/python3.9/site-packages/sklearn/metrics/_classification.py?line=1908'>1909</a>\u001b[0m         zero_division\u001b[39m=\u001b[39;49mzero_division,\n\u001b[1;32m   <a href='file:///Users/stephanbremser/.pyenv/versions/3.9.8/lib/python3.9/site-packages/sklearn/metrics/_classification.py?line=1909'>1910</a>\u001b[0m     )\n\u001b[1;32m   <a href='file:///Users/stephanbremser/.pyenv/versions/3.9.8/lib/python3.9/site-packages/sklearn/metrics/_classification.py?line=1910'>1911</a>\u001b[0m     \u001b[39mreturn\u001b[39;00m r\n",
      "File \u001b[0;32m~/.pyenv/versions/3.9.8/lib/python3.9/site-packages/sklearn/metrics/_classification.py:1544\u001b[0m, in \u001b[0;36mprecision_recall_fscore_support\u001b[0;34m(y_true, y_pred, beta, labels, pos_label, average, warn_for, sample_weight, zero_division)\u001b[0m\n\u001b[1;32m   <a href='file:///Users/stephanbremser/.pyenv/versions/3.9.8/lib/python3.9/site-packages/sklearn/metrics/_classification.py?line=1541'>1542</a>\u001b[0m \u001b[39mif\u001b[39;00m beta \u001b[39m<\u001b[39m \u001b[39m0\u001b[39m:\n\u001b[1;32m   <a href='file:///Users/stephanbremser/.pyenv/versions/3.9.8/lib/python3.9/site-packages/sklearn/metrics/_classification.py?line=1542'>1543</a>\u001b[0m     \u001b[39mraise\u001b[39;00m \u001b[39mValueError\u001b[39;00m(\u001b[39m\"\u001b[39m\u001b[39mbeta should be >=0 in the F-beta score\u001b[39m\u001b[39m\"\u001b[39m)\n\u001b[0;32m-> <a href='file:///Users/stephanbremser/.pyenv/versions/3.9.8/lib/python3.9/site-packages/sklearn/metrics/_classification.py?line=1543'>1544</a>\u001b[0m labels \u001b[39m=\u001b[39m _check_set_wise_labels(y_true, y_pred, average, labels, pos_label)\n\u001b[1;32m   <a href='file:///Users/stephanbremser/.pyenv/versions/3.9.8/lib/python3.9/site-packages/sklearn/metrics/_classification.py?line=1545'>1546</a>\u001b[0m \u001b[39m# Calculate tp_sum, pred_sum, true_sum ###\u001b[39;00m\n\u001b[1;32m   <a href='file:///Users/stephanbremser/.pyenv/versions/3.9.8/lib/python3.9/site-packages/sklearn/metrics/_classification.py?line=1546'>1547</a>\u001b[0m samplewise \u001b[39m=\u001b[39m average \u001b[39m==\u001b[39m \u001b[39m\"\u001b[39m\u001b[39msamples\u001b[39m\u001b[39m\"\u001b[39m\n",
      "File \u001b[0;32m~/.pyenv/versions/3.9.8/lib/python3.9/site-packages/sklearn/metrics/_classification.py:1348\u001b[0m, in \u001b[0;36m_check_set_wise_labels\u001b[0;34m(y_true, y_pred, average, labels, pos_label)\u001b[0m\n\u001b[1;32m   <a href='file:///Users/stephanbremser/.pyenv/versions/3.9.8/lib/python3.9/site-packages/sklearn/metrics/_classification.py?line=1344'>1345</a>\u001b[0m \u001b[39mif\u001b[39;00m average \u001b[39mnot\u001b[39;00m \u001b[39min\u001b[39;00m average_options \u001b[39mand\u001b[39;00m average \u001b[39m!=\u001b[39m \u001b[39m\"\u001b[39m\u001b[39mbinary\u001b[39m\u001b[39m\"\u001b[39m:\n\u001b[1;32m   <a href='file:///Users/stephanbremser/.pyenv/versions/3.9.8/lib/python3.9/site-packages/sklearn/metrics/_classification.py?line=1345'>1346</a>\u001b[0m     \u001b[39mraise\u001b[39;00m \u001b[39mValueError\u001b[39;00m(\u001b[39m\"\u001b[39m\u001b[39maverage has to be one of \u001b[39m\u001b[39m\"\u001b[39m \u001b[39m+\u001b[39m \u001b[39mstr\u001b[39m(average_options))\n\u001b[0;32m-> <a href='file:///Users/stephanbremser/.pyenv/versions/3.9.8/lib/python3.9/site-packages/sklearn/metrics/_classification.py?line=1347'>1348</a>\u001b[0m y_type, y_true, y_pred \u001b[39m=\u001b[39m _check_targets(y_true, y_pred)\n\u001b[1;32m   <a href='file:///Users/stephanbremser/.pyenv/versions/3.9.8/lib/python3.9/site-packages/sklearn/metrics/_classification.py?line=1348'>1349</a>\u001b[0m \u001b[39m# Convert to Python primitive type to avoid NumPy type / Python str\u001b[39;00m\n\u001b[1;32m   <a href='file:///Users/stephanbremser/.pyenv/versions/3.9.8/lib/python3.9/site-packages/sklearn/metrics/_classification.py?line=1349'>1350</a>\u001b[0m \u001b[39m# comparison. See https://github.com/numpy/numpy/issues/6784\u001b[39;00m\n\u001b[1;32m   <a href='file:///Users/stephanbremser/.pyenv/versions/3.9.8/lib/python3.9/site-packages/sklearn/metrics/_classification.py?line=1350'>1351</a>\u001b[0m present_labels \u001b[39m=\u001b[39m unique_labels(y_true, y_pred)\u001b[39m.\u001b[39mtolist()\n",
      "File \u001b[0;32m~/.pyenv/versions/3.9.8/lib/python3.9/site-packages/sklearn/metrics/_classification.py:84\u001b[0m, in \u001b[0;36m_check_targets\u001b[0;34m(y_true, y_pred)\u001b[0m\n\u001b[1;32m     <a href='file:///Users/stephanbremser/.pyenv/versions/3.9.8/lib/python3.9/site-packages/sklearn/metrics/_classification.py?line=56'>57</a>\u001b[0m \u001b[39mdef\u001b[39;00m \u001b[39m_check_targets\u001b[39m(y_true, y_pred):\n\u001b[1;32m     <a href='file:///Users/stephanbremser/.pyenv/versions/3.9.8/lib/python3.9/site-packages/sklearn/metrics/_classification.py?line=57'>58</a>\u001b[0m     \u001b[39m\"\"\"Check that y_true and y_pred belong to the same classification task.\u001b[39;00m\n\u001b[1;32m     <a href='file:///Users/stephanbremser/.pyenv/versions/3.9.8/lib/python3.9/site-packages/sklearn/metrics/_classification.py?line=58'>59</a>\u001b[0m \n\u001b[1;32m     <a href='file:///Users/stephanbremser/.pyenv/versions/3.9.8/lib/python3.9/site-packages/sklearn/metrics/_classification.py?line=59'>60</a>\u001b[0m \u001b[39m    This converts multiclass or binary types to a common shape, and raises a\u001b[39;00m\n\u001b[0;32m   (...)\u001b[0m\n\u001b[1;32m     <a href='file:///Users/stephanbremser/.pyenv/versions/3.9.8/lib/python3.9/site-packages/sklearn/metrics/_classification.py?line=81'>82</a>\u001b[0m \u001b[39m    y_pred : array or indicator matrix\u001b[39;00m\n\u001b[1;32m     <a href='file:///Users/stephanbremser/.pyenv/versions/3.9.8/lib/python3.9/site-packages/sklearn/metrics/_classification.py?line=82'>83</a>\u001b[0m \u001b[39m    \"\"\"\u001b[39;00m\n\u001b[0;32m---> <a href='file:///Users/stephanbremser/.pyenv/versions/3.9.8/lib/python3.9/site-packages/sklearn/metrics/_classification.py?line=83'>84</a>\u001b[0m     check_consistent_length(y_true, y_pred)\n\u001b[1;32m     <a href='file:///Users/stephanbremser/.pyenv/versions/3.9.8/lib/python3.9/site-packages/sklearn/metrics/_classification.py?line=84'>85</a>\u001b[0m     type_true \u001b[39m=\u001b[39m type_of_target(y_true)\n\u001b[1;32m     <a href='file:///Users/stephanbremser/.pyenv/versions/3.9.8/lib/python3.9/site-packages/sklearn/metrics/_classification.py?line=85'>86</a>\u001b[0m     type_pred \u001b[39m=\u001b[39m type_of_target(y_pred)\n",
      "File \u001b[0;32m~/.pyenv/versions/3.9.8/lib/python3.9/site-packages/sklearn/utils/validation.py:332\u001b[0m, in \u001b[0;36mcheck_consistent_length\u001b[0;34m(*arrays)\u001b[0m\n\u001b[1;32m    <a href='file:///Users/stephanbremser/.pyenv/versions/3.9.8/lib/python3.9/site-packages/sklearn/utils/validation.py?line=329'>330</a>\u001b[0m uniques \u001b[39m=\u001b[39m np\u001b[39m.\u001b[39munique(lengths)\n\u001b[1;32m    <a href='file:///Users/stephanbremser/.pyenv/versions/3.9.8/lib/python3.9/site-packages/sklearn/utils/validation.py?line=330'>331</a>\u001b[0m \u001b[39mif\u001b[39;00m \u001b[39mlen\u001b[39m(uniques) \u001b[39m>\u001b[39m \u001b[39m1\u001b[39m:\n\u001b[0;32m--> <a href='file:///Users/stephanbremser/.pyenv/versions/3.9.8/lib/python3.9/site-packages/sklearn/utils/validation.py?line=331'>332</a>\u001b[0m     \u001b[39mraise\u001b[39;00m \u001b[39mValueError\u001b[39;00m(\n\u001b[1;32m    <a href='file:///Users/stephanbremser/.pyenv/versions/3.9.8/lib/python3.9/site-packages/sklearn/utils/validation.py?line=332'>333</a>\u001b[0m         \u001b[39m\"\u001b[39m\u001b[39mFound input variables with inconsistent numbers of samples: \u001b[39m\u001b[39m%r\u001b[39;00m\u001b[39m\"\u001b[39m\n\u001b[1;32m    <a href='file:///Users/stephanbremser/.pyenv/versions/3.9.8/lib/python3.9/site-packages/sklearn/utils/validation.py?line=333'>334</a>\u001b[0m         \u001b[39m%\u001b[39m [\u001b[39mint\u001b[39m(l) \u001b[39mfor\u001b[39;00m l \u001b[39min\u001b[39;00m lengths]\n\u001b[1;32m    <a href='file:///Users/stephanbremser/.pyenv/versions/3.9.8/lib/python3.9/site-packages/sklearn/utils/validation.py?line=334'>335</a>\u001b[0m     )\n",
      "\u001b[0;31mValueError\u001b[0m: Found input variables with inconsistent numbers of samples: [872, 1]"
     ]
    }
   ],
   "source": [
    "recall_score(y_val_temp,t)"
   ]
  },
  {
   "cell_type": "code",
   "execution_count": 14,
   "metadata": {},
   "outputs": [],
   "source": [
    "def read_imagefile(file):\n",
    "    image = cv2.imread(file)\n",
    "    if t.shape != (1, 208, 176, 3):\n",
    "        image = image[np.newaxis,:,:,:]\n",
    "    return image"
   ]
  },
  {
   "cell_type": "code",
   "execution_count": 15,
   "metadata": {},
   "outputs": [],
   "source": [
    "t = read_imagefile(\"/Users/stephanbremser/Documents/python_mri/Alzheimer_s Dataset/validation/1_not_demented/nonDem7.jpg\")"
   ]
  },
  {
   "cell_type": "code",
   "execution_count": 23,
   "metadata": {},
   "outputs": [
    {
     "name": "stdout",
     "output_type": "stream",
     "text": [
      "no\n"
     ]
    }
   ],
   "source": [
    "if t.shape != (1, 208, 176, 3):\n",
    "    image = image[np.newaxis,:,:,:]\n",
    "    "
   ]
  },
  {
   "cell_type": "code",
   "execution_count": 21,
   "metadata": {},
   "outputs": [
    {
     "data": {
      "text/plain": [
       "(1, 208, 176, 3)"
      ]
     },
     "execution_count": 21,
     "metadata": {},
     "output_type": "execute_result"
    }
   ],
   "source": [
    "t.shape"
   ]
  },
  {
   "cell_type": "code",
   "execution_count": 13,
   "metadata": {},
   "outputs": [],
   "source": [
    "t = t[np.newaxis,:,:,np.newaxis]"
   ]
  },
  {
   "cell_type": "code",
   "execution_count": 65,
   "metadata": {},
   "outputs": [
    {
     "data": {
      "text/plain": [
       "(1, 208, 176, 1)"
      ]
     },
     "execution_count": 65,
     "metadata": {},
     "output_type": "execute_result"
    }
   ],
   "source": [
    "t.shape"
   ]
  },
  {
   "cell_type": "code",
   "execution_count": 79,
   "metadata": {},
   "outputs": [],
   "source": [
    "x = t\n",
    "x = np.concatenate([t for i in range(3)],axis=3)"
   ]
  },
  {
   "cell_type": "code",
   "execution_count": 81,
   "metadata": {},
   "outputs": [
    {
     "data": {
      "text/plain": [
       "(1, 208, 176, 3)"
      ]
     },
     "execution_count": 81,
     "metadata": {},
     "output_type": "execute_result"
    }
   ],
   "source": [
    "x.shape"
   ]
  },
  {
   "cell_type": "code",
   "execution_count": null,
   "metadata": {},
   "outputs": [],
   "source": []
  }
 ],
 "metadata": {
  "interpreter": {
   "hash": "16d36f7f43558abfb621322017946697204deb55bd6602f258ff961f554a1f90"
  },
  "kernelspec": {
   "display_name": "Python 3.9.8 ('.venv': venv)",
   "language": "python",
   "name": "python3"
  },
  "language_info": {
   "codemirror_mode": {
    "name": "ipython",
    "version": 3
   },
   "file_extension": ".py",
   "mimetype": "text/x-python",
   "name": "python",
   "nbconvert_exporter": "python",
   "pygments_lexer": "ipython3",
   "version": "3.9.8"
  },
  "orig_nbformat": 4
 },
 "nbformat": 4,
 "nbformat_minor": 2
}
