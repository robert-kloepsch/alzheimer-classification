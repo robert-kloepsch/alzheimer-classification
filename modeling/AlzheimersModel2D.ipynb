{
 "cells": [
  {
   "cell_type": "code",
   "execution_count": null,
   "metadata": {},
   "outputs": [],
   "source": [
    "#load all packages\n",
    "import tensorflow as tf\n",
    "from tensorflow.keras import layers, models\n",
    "import keras\n",
    "import pandas as pd\n",
    "import numpy as np\n",
    "import matplotlib.pyplot as plt\n",
    "import os\n",
    "import re\n",
    "from sklearn.model_selection import train_test_split\n",
    "from sklearn.utils import shuffle\n",
    "from sklearn.metrics import recall_score, precision_score, confusion_matrix, roc_curve, auc, precision_recall_curve\n",
    "from keras import metrics\n",
    "import keras.backend as K\n",
    "from keras.preprocessing.image import ImageDataGenerator\n",
    "from tensorflow.keras.utils import image_dataset_from_directory\n",
    "import cv2\n",
    "import glob\n",
    "from tensorflow.python.client import device_lib\n",
    "from sklearn.multiclass import OneVsRestClassifier\n",
    "from roc_multiclass import roc_multiclass\n",
    "from precision_recall_multiclass import precision_recall_multiclass\n",
    "from load_oasis_set import load_oasis_set\n",
    "from DataGenerator import DataGenerator\n",
    "\n",
    "keras.backend.clear_session()"
   ]
  },
  {
   "cell_type": "markdown",
   "metadata": {},
   "source": [
    "### Load Train Data and oversample"
   ]
  },
  {
   "cell_type": "code",
   "execution_count": null,
   "metadata": {},
   "outputs": [],
   "source": [
    "# load dataset from drive\n",
    "PATH = \"/Users/robertklopsch/Desktop/Capstone_large_dataset/Alzheimer_s Dataset/train\"\n",
    "IMAGE_SIZE = (208, 176)\n",
    "train_ds = image_dataset_from_directory(\n",
    "                                        PATH, \n",
    "                                        seed=10, \n",
    "                                        shuffle=False,              #<---\n",
    "                                        image_size=IMAGE_SIZE, \n",
    "                                        batch_size=32\n",
    "                                        )\n",
    "                                        \n",
    "\n",
    "# one hot encode the labels to fit into the cnn layers\n",
    "train_ds = train_ds.map(lambda x, y: (x, tf.one_hot(y, depth=3)))\n"
   ]
  },
  {
   "cell_type": "code",
   "execution_count": null,
   "metadata": {},
   "outputs": [],
   "source": [
    "# seperation of validation set\n",
    "# !!! these sets are not shuffled !!!\n",
    "\n",
    "train_big = train_ds\n",
    "X1_train_big = []\n",
    "y1_train_big = []\n",
    "X2_train_big = []\n",
    "y2_train_big = []\n",
    "X3_train_big = []\n",
    "y3_train_big = []\n",
    "\n",
    "\n",
    "for img, label in train_ds.unbatch():\n",
    "    if label.numpy()[0] == 1:\n",
    "        X1_train_big.append(img.numpy())\n",
    "        y1_train_big.append(label.numpy())\n",
    "\n",
    "    if label.numpy()[1] == 1:\n",
    "        X2_train_big.append(img.numpy())\n",
    "        y2_train_big.append(label.numpy())\n",
    "\n",
    "    if label.numpy()[2] == 1:\n",
    "        X3_train_big.append(img.numpy())\n",
    "        y3_train_big.append(label.numpy())\n",
    "\n",
    "\n",
    "\n"
   ]
  },
  {
   "cell_type": "code",
   "execution_count": null,
   "metadata": {},
   "outputs": [],
   "source": [
    "# create dataset for class 1 -NO oversampling- (healthy)\n",
    "X1_train_big = np.array(X1_train_big)\n",
    "y1_train_big = np.array(y1_train_big)\n"
   ]
  },
  {
   "cell_type": "code",
   "execution_count": null,
   "metadata": {},
   "outputs": [],
   "source": [
    "# oversampling for class 2 (very mild)\n",
    "\n",
    "randomPicksIdx = [np.random.choice(len(X2_train_big)) for i in range(len(X1_train_big) - len(X2_train_big))]\n",
    "\n",
    "for i in randomPicksIdx:\n",
    "    X2_train_big.append(X2_train_big[i])\n",
    "    y2_train_big.append(y2_train_big[i])\n",
    "\n",
    "X2_train_big = np.array(X2_train_big)\n",
    "y2_train_big = np.array(y2_train_big)"
   ]
  },
  {
   "cell_type": "code",
   "execution_count": null,
   "metadata": {},
   "outputs": [],
   "source": [
    "# oversampling for class 3 (mild)\n",
    "randomPicksIdx = [np.random.choice(len(X3_train_big)) for i in range(len(X1_train_big) - len(X3_train_big))]\n",
    "\n",
    "for i in randomPicksIdx:\n",
    "    X3_train_big.append(X3_train_big[i])\n",
    "    y3_train_big.append(y3_train_big[i])\n",
    "\n",
    "X3_train_big = np.array(X3_train_big)\n",
    "y3_train_big = np.array(y3_train_big)"
   ]
  },
  {
   "cell_type": "code",
   "execution_count": null,
   "metadata": {},
   "outputs": [],
   "source": [
    "# combine all data sets\n",
    "X_train_fullset = np.concatenate((X1_train_big,X2_train_big,X3_train_big), axis=0)\n",
    "y_train_fullset = np.concatenate((y1_train_big,y2_train_big,y3_train_big), axis=0)"
   ]
  },
  {
   "cell_type": "code",
   "execution_count": null,
   "metadata": {},
   "outputs": [],
   "source": [
    "# shuffle the whole set\n",
    "X_train_temp, y_train_temp = shuffle(X_train_fullset, y_train_fullset, random_state=10)"
   ]
  },
  {
   "cell_type": "code",
   "execution_count": null,
   "metadata": {},
   "outputs": [],
   "source": [
    "y_train_temp.shape"
   ]
  },
  {
   "cell_type": "code",
   "execution_count": null,
   "metadata": {},
   "outputs": [],
   "source": [
    "# finally create tensor dataset\n",
    "data_generator = DataGenerator(X_train_temp, y_train_temp, batch_size = 32)\n",
    "\n",
    "train_fullTensor = tf.data.Dataset.from_generator(\n",
    "                                            data_generator,\n",
    "                                            output_signature=(tf.TensorSpec(shape=(None, 208, 176, 3), dtype=tf.float32), tf.TensorSpec(shape=(None, 3), dtype=tf.float32))\n",
    "                                            )"
   ]
  },
  {
   "cell_type": "markdown",
   "metadata": {},
   "source": [
    "### Load Validation Set"
   ]
  },
  {
   "cell_type": "code",
   "execution_count": null,
   "metadata": {},
   "outputs": [],
   "source": [
    "# load validation dataset from drive\n",
    "# set for training\n",
    "PATH = \"/Users/robertklopsch/Desktop/Capstone_large_dataset/Alzheimer_s Dataset/validation\"\n",
    "IMAGE_SIZE = (208, 176)\n",
    "val_ds = image_dataset_from_directory(\n",
    "                                        PATH, \n",
    "                                        seed=10, \n",
    "                                        shuffle=True, \n",
    "                                        image_size=IMAGE_SIZE, \n",
    "                                        batch_size=32\n",
    "                                        )\n",
    "\n",
    "# one hot encode the labels to fit into the cnn layers\n",
    "val_ds = val_ds.map(lambda x, y: (x, tf.one_hot(y, depth=3)))"
   ]
  },
  {
   "cell_type": "code",
   "execution_count": null,
   "metadata": {},
   "outputs": [],
   "source": [
    "# # plot some example images from loaded set\n",
    "plt.figure(figsize=(10, 10))\n",
    "for images, labels in train_fullTensor.take(1):\n",
    "  for i in range(3):\n",
    "    ax = plt.subplot(1, 3, i + 1)\n",
    "    plt.imshow(images[i].numpy().astype(\"uint8\"))\n",
    "    plt.title([labels[i].numpy()][0])\n",
    "    plt.axis(\"off\")"
   ]
  },
  {
   "cell_type": "code",
   "execution_count": null,
   "metadata": {},
   "outputs": [],
   "source": [
    "with tf.device(\"/cpu:0\"):\n",
    "    data_augmentaion = keras.Sequential([\n",
    "        tf.keras.layers.Normalization(),\n",
    "        layers.RandomContrast(0.2),\n",
    "        layers.RandomRotation(0.01),\n",
    "        layers.RandomFlip(mode=\"horizontal\"),    \n",
    "        layers.RandomZoom(0.05),\n",
    "        layers.RandomBrightness(0.2)\n",
    "])"
   ]
  },
  {
   "cell_type": "code",
   "execution_count": null,
   "metadata": {},
   "outputs": [],
   "source": [
    "with tf.device(\"/cpu:0\"):\n",
    "    plt.figure(figsize=(10, 10))\n",
    "    for images, labels in train_fullTensor.take(1):\n",
    "        for i in range(3):\n",
    "            ax = plt.subplot(1, 3, i + 1)\n",
    "            img = data_augmentaion(images)\n",
    "            plt.imshow(img[i].numpy().astype(\"uint8\"))\n",
    "            plt.title([labels[i].numpy()][0])\n",
    "            plt.axis(\"off\")"
   ]
  }
 ],
 "metadata": {
  "kernelspec": {
   "display_name": "Python 3.9.8 64-bit ('3.9.8')",
   "language": "python",
   "name": "python3"
  },
  "language_info": {
   "codemirror_mode": {
    "name": "ipython",
    "version": 3
   },
   "file_extension": ".py",
   "mimetype": "text/x-python",
   "name": "python",
   "nbconvert_exporter": "python",
   "pygments_lexer": "ipython3",
   "version": "3.9.8"
  },
  "orig_nbformat": 4,
  "vscode": {
   "interpreter": {
    "hash": "c0a7c4be7d5f35ba7dc331a03646857100d1eff3303bad679d3ef877b2ac2a7a"
   }
  }
 },
 "nbformat": 4,
 "nbformat_minor": 2
}
