{
 "cells": [
  {
   "cell_type": "code",
   "execution_count": 1,
   "metadata": {},
   "outputs": [],
   "source": [
    "#load all packages\n",
    "\n",
    "# base packages\n",
    "import keras\n",
    "import pandas as pd\n",
    "import numpy as np\n",
    "import matplotlib.pyplot as plt\n",
    "import cv2\n",
    "\n",
    "# tensorflow and keras\n",
    "import tensorflow as tf\n",
    "from keras import layers, models\n",
    "from keras.utils import image_dataset_from_directory\n",
    "from keras import metrics\n",
    "\n",
    "# sklearn\n",
    "from sklearn.utils import shuffle\n",
    "from sklearn.metrics import recall_score, precision_score, confusion_matrix\n",
    "\n",
    "# self-build procedures\n",
    "from roc_multiclass import roc_multiclass\n",
    "from precision_recall_multiclass import precision_recall_multiclass\n",
    "from load_oasis_set import load_oasis_set\n",
    "from load_oasis_set_win import load_oasis_set_win\n",
    "from DataGenerator import DataGenerator\n",
    "\n",
    "# model architectures\n",
    "from cnn_backbone import base_model\n"
   ]
  },
  {
   "cell_type": "markdown",
   "metadata": {},
   "source": [
    "### Load Train Data and oversample"
   ]
  },
  {
   "cell_type": "code",
   "execution_count": 2,
   "metadata": {},
   "outputs": [
    {
     "name": "stdout",
     "output_type": "stream",
     "text": [
      "Found 3040 files belonging to 3 classes.\n",
      "Metal device set to: Apple M1\n",
      "\n",
      "systemMemory: 8.00 GB\n",
      "maxCacheSize: 2.67 GB\n",
      "\n"
     ]
    },
    {
     "name": "stderr",
     "output_type": "stream",
     "text": [
      "2022-06-15 10:06:27.684960: I tensorflow/core/common_runtime/pluggable_device/pluggable_device_factory.cc:305] Could not identify NUMA node of platform GPU ID 0, defaulting to 0. Your kernel may not have been built with NUMA support.\n",
      "2022-06-15 10:06:27.685074: I tensorflow/core/common_runtime/pluggable_device/pluggable_device_factory.cc:271] Created TensorFlow device (/job:localhost/replica:0/task:0/device:GPU:0 with 0 MB memory) -> physical PluggableDevice (device: 0, name: METAL, pci bus id: <undefined>)\n"
     ]
    }
   ],
   "source": [
    "# load dataset from drive\n",
    "PATH = \"/Users/josealbertodiazsalas/Documents/Alzheimer_s Dataset_30percentVal/train\"\n",
    "#PATH = \"F:\\\\MRI_class\\\\data\\\\Alzheimer_s Dataset_30percentVal\\\\train\"\n",
    "IMAGE_SIZE = (208, 176)\n",
    "train_ds = image_dataset_from_directory(\n",
    "                                        PATH, \n",
    "                                        seed=10, \n",
    "                                        shuffle=False,              #<---\n",
    "                                        image_size=IMAGE_SIZE, \n",
    "                                        batch_size=32\n",
    "                                        )\n",
    "                                        \n",
    "# one hot encode the labels to fit into the cnn layers\n",
    "train_ds = train_ds.map(lambda x, y: (x, tf.one_hot(y, depth=3)))\n"
   ]
  },
  {
   "cell_type": "markdown",
   "metadata": {},
   "source": [
    "### Deconstuct Train Dataset and Prepare for Oversampling"
   ]
  },
  {
   "cell_type": "code",
   "execution_count": 3,
   "metadata": {},
   "outputs": [
    {
     "name": "stderr",
     "output_type": "stream",
     "text": [
      "2022-06-15 10:06:27.744190: W tensorflow/core/platform/profile_utils/cpu_utils.cc:128] Failed to get CPU frequency: 0 Hz\n"
     ]
    }
   ],
   "source": [
    "# seperation of validation set\n",
    "# !!! these sets are not shuffled !!!\n",
    "\n",
    "train_big = train_ds\n",
    "X1_train_big = []\n",
    "y1_train_big = []\n",
    "X2_train_big = []\n",
    "y2_train_big = []\n",
    "X3_train_big = []\n",
    "y3_train_big = []\n",
    "\n",
    "\n",
    "for img, label in train_ds.unbatch():\n",
    "    if label.numpy()[0] == 1:\n",
    "        X1_train_big.append(img.numpy())\n",
    "        y1_train_big.append(label.numpy())\n",
    "\n",
    "    if label.numpy()[1] == 1:\n",
    "        X2_train_big.append(img.numpy())\n",
    "        y2_train_big.append(label.numpy())\n",
    "\n",
    "    if label.numpy()[2] == 1:\n",
    "        X3_train_big.append(img.numpy())\n",
    "        y3_train_big.append(label.numpy())"
   ]
  },
  {
   "cell_type": "markdown",
   "metadata": {},
   "source": [
    "### Oversampling\n",
    "Fill classes to match class 0 (Healthy)"
   ]
  },
  {
   "cell_type": "code",
   "execution_count": 4,
   "metadata": {},
   "outputs": [],
   "source": [
    "# create dataset for class 1 -NO oversampling- (healthy)\n",
    "X1_train_big = np.array(X1_train_big)\n",
    "y1_train_big = np.array(y1_train_big)"
   ]
  },
  {
   "cell_type": "code",
   "execution_count": 5,
   "metadata": {},
   "outputs": [],
   "source": [
    "# oversampling for class 2 (very mild)\n",
    "\n",
    "randomPicksIdx = [np.random.choice(len(X2_train_big)) for i in range(len(X1_train_big) - len(X2_train_big))]\n",
    "\n",
    "for i in randomPicksIdx:\n",
    "    X2_train_big.append(X2_train_big[i])\n",
    "    y2_train_big.append(y2_train_big[i])\n",
    "\n",
    "X2_train_big = np.array(X2_train_big)\n",
    "y2_train_big = np.array(y2_train_big)"
   ]
  },
  {
   "cell_type": "code",
   "execution_count": 6,
   "metadata": {},
   "outputs": [],
   "source": [
    "# oversampling for class 3 (mild)\n",
    "randomPicksIdx = [np.random.choice(len(X3_train_big)) for i in range(len(X1_train_big) - len(X3_train_big))]            # images are randomly picked\n",
    "\n",
    "for i in randomPicksIdx:\n",
    "    X3_train_big.append(X3_train_big[i])\n",
    "    y3_train_big.append(y3_train_big[i])\n",
    "\n",
    "X3_train_big = np.array(X3_train_big)\n",
    "y3_train_big = np.array(y3_train_big)"
   ]
  },
  {
   "cell_type": "markdown",
   "metadata": {},
   "source": [
    "### Construct full Dataset Tensor for Training"
   ]
  },
  {
   "cell_type": "code",
   "execution_count": 7,
   "metadata": {},
   "outputs": [],
   "source": [
    "# combine all data sets\n",
    "X_train_fullset = np.concatenate((X1_train_big,X2_train_big,X3_train_big), axis=0)\n",
    "y_train_fullset = np.concatenate((y1_train_big,y2_train_big,y3_train_big), axis=0)"
   ]
  },
  {
   "cell_type": "code",
   "execution_count": 8,
   "metadata": {},
   "outputs": [],
   "source": [
    "# shuffle the whole set\n",
    "X_train_temp, y_train_temp = shuffle(X_train_fullset, y_train_fullset, random_state=10)"
   ]
  },
  {
   "cell_type": "code",
   "execution_count": 9,
   "metadata": {},
   "outputs": [],
   "source": [
    "# finally create tensor dataset\n",
    "data_generator = DataGenerator(X_train_temp, y_train_temp, batch_size = 32)\n",
    "\n",
    "train_fullTensor = tf.data.Dataset.from_generator(\n",
    "                                            data_generator,\n",
    "                                            output_signature=(tf.TensorSpec(shape=(None, 208, 176, 3), dtype=tf.float32), tf.TensorSpec(shape=(None, 3), dtype=tf.float32))\n",
    "                                            )"
   ]
  },
  {
   "cell_type": "markdown",
   "metadata": {},
   "source": [
    "### Load Validation Set"
   ]
  },
  {
   "cell_type": "code",
   "execution_count": 10,
   "metadata": {},
   "outputs": [
    {
     "name": "stdout",
     "output_type": "stream",
     "text": [
      "Found 2029 files belonging to 3 classes.\n"
     ]
    }
   ],
   "source": [
    "# load validation dataset from drive\n",
    "# set for training\n",
    "PATH = \"/Users/josealbertodiazsalas/Documents/Alzheimer_s Dataset_30percentVal/validation\"\n",
    "#PATH = \"F:\\\\MRI_class\\\\data\\\\Alzheimer_s Dataset_30percentVal\\\\validation\"\n",
    "IMAGE_SIZE = (208, 176)\n",
    "val_ds = image_dataset_from_directory(\n",
    "                                        PATH, \n",
    "                                        seed=10, \n",
    "                                        shuffle=True, \n",
    "                                        image_size=IMAGE_SIZE, \n",
    "                                        batch_size=32\n",
    "                                        )\n",
    "\n",
    "# one hot encode the labels to fit into the cnn layers\n",
    "val_fullTensor = val_ds.map(lambda x, y: (x, tf.one_hot(y, depth=3)))"
   ]
  },
  {
   "cell_type": "markdown",
   "metadata": {},
   "source": [
    "### Check Images for Integrity"
   ]
  },
  {
   "cell_type": "code",
   "execution_count": 1,
   "metadata": {},
   "outputs": [
    {
     "ename": "NameError",
     "evalue": "name 'plt' is not defined",
     "output_type": "error",
     "traceback": [
      "\u001b[0;31m---------------------------------------------------------------------------\u001b[0m",
      "\u001b[0;31mNameError\u001b[0m                                 Traceback (most recent call last)",
      "\u001b[1;32m/Users/josealbertodiazsalas/Desktop/neuefische/alzheimer-classification/modeling/AlzheimersModel2D_DENSENET201.ipynb Cell 1'\u001b[0m in \u001b[0;36m<cell line: 2>\u001b[0;34m()\u001b[0m\n\u001b[1;32m      <a href='vscode-notebook-cell:/Users/josealbertodiazsalas/Desktop/neuefische/alzheimer-classification/modeling/AlzheimersModel2D_DENSENET201.ipynb#ch0000000?line=0'>1</a>\u001b[0m \u001b[39m# plot some example images from loaded set\u001b[39;00m\n\u001b[0;32m----> <a href='vscode-notebook-cell:/Users/josealbertodiazsalas/Desktop/neuefische/alzheimer-classification/modeling/AlzheimersModel2D_DENSENET201.ipynb#ch0000000?line=1'>2</a>\u001b[0m plt\u001b[39m.\u001b[39mfigure(figsize\u001b[39m=\u001b[39m(\u001b[39m10\u001b[39m, \u001b[39m10\u001b[39m))\n\u001b[1;32m      <a href='vscode-notebook-cell:/Users/josealbertodiazsalas/Desktop/neuefische/alzheimer-classification/modeling/AlzheimersModel2D_DENSENET201.ipynb#ch0000000?line=2'>3</a>\u001b[0m \u001b[39mfor\u001b[39;00m images, labels \u001b[39min\u001b[39;00m train_fullTensor\u001b[39m.\u001b[39mtake(\u001b[39m1\u001b[39m):\n\u001b[1;32m      <a href='vscode-notebook-cell:/Users/josealbertodiazsalas/Desktop/neuefische/alzheimer-classification/modeling/AlzheimersModel2D_DENSENET201.ipynb#ch0000000?line=3'>4</a>\u001b[0m   \u001b[39mfor\u001b[39;00m i \u001b[39min\u001b[39;00m \u001b[39mrange\u001b[39m(\u001b[39m3\u001b[39m):\n",
      "\u001b[0;31mNameError\u001b[0m: name 'plt' is not defined"
     ]
    }
   ],
   "source": [
    "# plot some example images from loaded set\n",
    "plt.figure(figsize=(10, 10))\n",
    "for images, labels in train_fullTensor.take(1):\n",
    "  for i in range(3):\n",
    "    ax = plt.subplot(1, 3, i + 1)\n",
    "    plt.imshow(images[i].numpy().astype(\"uint8\"), cmap=\"gray\")\n",
    "    plt.title([labels[i].numpy()][0])\n",
    "    plt.axis(\"off\")"
   ]
  },
  {
   "cell_type": "markdown",
   "metadata": {},
   "source": [
    "# Creating CNN Architecture\n",
    "### First Creating Augmentation Module "
   ]
  },
  {
   "cell_type": "code",
   "execution_count": 2,
   "metadata": {},
   "outputs": [
    {
     "ename": "NameError",
     "evalue": "name 'tf' is not defined",
     "output_type": "error",
     "traceback": [
      "\u001b[0;31m---------------------------------------------------------------------------\u001b[0m",
      "\u001b[0;31mNameError\u001b[0m                                 Traceback (most recent call last)",
      "\u001b[1;32m/Users/josealbertodiazsalas/Desktop/neuefische/alzheimer-classification/modeling/AlzheimersModel2D_DENSENET201.ipynb Cell 3'\u001b[0m in \u001b[0;36m<cell line: 1>\u001b[0;34m()\u001b[0m\n\u001b[0;32m----> <a href='vscode-notebook-cell:/Users/josealbertodiazsalas/Desktop/neuefische/alzheimer-classification/modeling/AlzheimersModel2D_DENSENET201.ipynb#ch0000002?line=0'>1</a>\u001b[0m \u001b[39mwith\u001b[39;00m tf\u001b[39m.\u001b[39mdevice(\u001b[39m\"\u001b[39m\u001b[39m/cpu:0\u001b[39m\u001b[39m\"\u001b[39m):\n\u001b[1;32m      <a href='vscode-notebook-cell:/Users/josealbertodiazsalas/Desktop/neuefische/alzheimer-classification/modeling/AlzheimersModel2D_DENSENET201.ipynb#ch0000002?line=1'>2</a>\u001b[0m     data_augmentation \u001b[39m=\u001b[39m keras\u001b[39m.\u001b[39mSequential([\n\u001b[1;32m      <a href='vscode-notebook-cell:/Users/josealbertodiazsalas/Desktop/neuefische/alzheimer-classification/modeling/AlzheimersModel2D_DENSENET201.ipynb#ch0000002?line=2'>3</a>\u001b[0m         layers\u001b[39m.\u001b[39mInputLayer(input_shape\u001b[39m=\u001b[39m(\u001b[39m208\u001b[39m, \u001b[39m176\u001b[39m, \u001b[39m3\u001b[39m)),\n\u001b[1;32m      <a href='vscode-notebook-cell:/Users/josealbertodiazsalas/Desktop/neuefische/alzheimer-classification/modeling/AlzheimersModel2D_DENSENET201.ipynb#ch0000002?line=3'>4</a>\u001b[0m         layers\u001b[39m.\u001b[39mLambda(\u001b[39mlambda\u001b[39;00m x: tf\u001b[39m.\u001b[39mimage\u001b[39m.\u001b[39mresize(x, (\u001b[39m208\u001b[39m, \u001b[39m176\u001b[39m))),\n\u001b[0;32m   (...)\u001b[0m\n\u001b[1;32m     <a href='vscode-notebook-cell:/Users/josealbertodiazsalas/Desktop/neuefische/alzheimer-classification/modeling/AlzheimersModel2D_DENSENET201.ipynb#ch0000002?line=11'>12</a>\u001b[0m         \u001b[39m#layers.RandomContrast((0.2))\u001b[39;00m\n\u001b[1;32m     <a href='vscode-notebook-cell:/Users/josealbertodiazsalas/Desktop/neuefische/alzheimer-classification/modeling/AlzheimersModel2D_DENSENET201.ipynb#ch0000002?line=12'>13</a>\u001b[0m ])\n",
      "\u001b[0;31mNameError\u001b[0m: name 'tf' is not defined"
     ]
    }
   ],
   "source": [
    "with tf.device(\"/cpu:0\"):\n",
    "    data_augmentation = keras.Sequential([\n",
    "        layers.InputLayer(input_shape=(208, 176, 3)),\n",
    "        layers.Lambda(lambda x: tf.image.resize(x, (208, 176))),\n",
    "        layers.Lambda(lambda x: tf.image.random_contrast(x,0.6,1)),\n",
    "        layers.Lambda(lambda x: tf.image.random_brightness(x,0.3)),             #<--- delta value depends on image range. if 0-1 delta should be between 0-1. if 0-255 delta should be between 0-255\n",
    "        layers.RandomRotation(0.01),\n",
    "        layers.RandomFlip(mode=\"horizontal\"),    \n",
    "        layers.RandomZoom(0.03),\n",
    "        #layers.RandomBrightness((0.2), value_range=(0,255)),\n",
    "        #layers.Resizing(208, 176),\n",
    "        #layers.RandomContrast((0.2))\n",
    "])"
   ]
  },
  {
   "cell_type": "markdown",
   "metadata": {},
   "source": [
    "### Check Images for proper Augmentation"
   ]
  },
  {
   "cell_type": "code",
   "execution_count": 3,
   "metadata": {},
   "outputs": [
    {
     "ename": "NameError",
     "evalue": "name 'tf' is not defined",
     "output_type": "error",
     "traceback": [
      "\u001b[0;31m---------------------------------------------------------------------------\u001b[0m",
      "\u001b[0;31mNameError\u001b[0m                                 Traceback (most recent call last)",
      "\u001b[1;32m/Users/josealbertodiazsalas/Desktop/neuefische/alzheimer-classification/modeling/AlzheimersModel2D_DENSENET201.ipynb Cell 5'\u001b[0m in \u001b[0;36m<cell line: 1>\u001b[0;34m()\u001b[0m\n\u001b[0;32m----> <a href='vscode-notebook-cell:/Users/josealbertodiazsalas/Desktop/neuefische/alzheimer-classification/modeling/AlzheimersModel2D_DENSENET201.ipynb#ch0000004?line=0'>1</a>\u001b[0m \u001b[39mwith\u001b[39;00m tf\u001b[39m.\u001b[39mdevice(\u001b[39m\"\u001b[39m\u001b[39m/cpu:0\u001b[39m\u001b[39m\"\u001b[39m):\n\u001b[1;32m      <a href='vscode-notebook-cell:/Users/josealbertodiazsalas/Desktop/neuefische/alzheimer-classification/modeling/AlzheimersModel2D_DENSENET201.ipynb#ch0000004?line=1'>2</a>\u001b[0m     plt\u001b[39m.\u001b[39mfigure(figsize\u001b[39m=\u001b[39m(\u001b[39m10\u001b[39m, \u001b[39m10\u001b[39m))\n\u001b[1;32m      <a href='vscode-notebook-cell:/Users/josealbertodiazsalas/Desktop/neuefische/alzheimer-classification/modeling/AlzheimersModel2D_DENSENET201.ipynb#ch0000004?line=2'>3</a>\u001b[0m     \u001b[39mfor\u001b[39;00m images, labels \u001b[39min\u001b[39;00m train_fullTensor\u001b[39m.\u001b[39mtake(\u001b[39m1\u001b[39m):\n",
      "\u001b[0;31mNameError\u001b[0m: name 'tf' is not defined"
     ]
    }
   ],
   "source": [
    "with tf.device(\"/cpu:0\"):\n",
    "    plt.figure(figsize=(10, 10))\n",
    "    for images, labels in train_fullTensor.take(1):\n",
    "        for i in range(3):\n",
    "            ax = plt.subplot(1, 3, i + 1)\n",
    "            img = data_augmentation(images/255)             # divided by 255 (normalization) since augmentation depends on normalization which is \n",
    "            plt.imshow(img[i].numpy(), cmap=\"gray\")         # a specific layer in the CNN and not part of augmentation\n",
    "            plt.title([labels[i].numpy()][0])\n",
    "            plt.axis(\"off\")"
   ]
  },
  {
   "cell_type": "markdown",
   "metadata": {},
   "source": [
    "### Building the complete CNN\n",
    "#### Construct DENSENET201 Backbone"
   ]
  },
  {
   "cell_type": "code",
   "execution_count": 4,
   "metadata": {},
   "outputs": [
    {
     "ename": "NameError",
     "evalue": "name 'base_model' is not defined",
     "output_type": "error",
     "traceback": [
      "\u001b[0;31m---------------------------------------------------------------------------\u001b[0m",
      "\u001b[0;31mNameError\u001b[0m                                 Traceback (most recent call last)",
      "\u001b[1;32m/Users/josealbertodiazsalas/Desktop/neuefische/alzheimer-classification/modeling/AlzheimersModel2D_DENSENET201.ipynb Cell 7'\u001b[0m in \u001b[0;36m<cell line: 2>\u001b[0;34m()\u001b[0m\n\u001b[1;32m      <a href='vscode-notebook-cell:/Users/josealbertodiazsalas/Desktop/neuefische/alzheimer-classification/modeling/AlzheimersModel2D_DENSENET201.ipynb#ch0000006?line=0'>1</a>\u001b[0m \u001b[39m# Defining both base and final model architecture\u001b[39;00m\n\u001b[0;32m----> <a href='vscode-notebook-cell:/Users/josealbertodiazsalas/Desktop/neuefische/alzheimer-classification/modeling/AlzheimersModel2D_DENSENET201.ipynb#ch0000006?line=1'>2</a>\u001b[0m b_model \u001b[39m=\u001b[39m base_model(MODEL\u001b[39m=\u001b[39m\u001b[39m'\u001b[39m\u001b[39mDenseNet201\u001b[39m\u001b[39m'\u001b[39m, freeze_layers\u001b[39m=\u001b[39m\u001b[39mTrue\u001b[39;00m)\n\u001b[1;32m      <a href='vscode-notebook-cell:/Users/josealbertodiazsalas/Desktop/neuefische/alzheimer-classification/modeling/AlzheimersModel2D_DENSENET201.ipynb#ch0000006?line=2'>3</a>\u001b[0m b_model\u001b[39m.\u001b[39msummary()\n",
      "\u001b[0;31mNameError\u001b[0m: name 'base_model' is not defined"
     ]
    }
   ],
   "source": [
    "# Defining both base and final model architecture\n",
    "b_model = base_model(MODEL='DenseNet201', freeze_layers=True)\n",
    "b_model.summary()"
   ]
  },
  {
   "cell_type": "markdown",
   "metadata": {},
   "source": [
    "### Combine Backbone with Augmentation and Dense Layers"
   ]
  },
  {
   "cell_type": "code",
   "execution_count": 15,
   "metadata": {},
   "outputs": [
    {
     "name": "stdout",
     "output_type": "stream",
     "text": [
      "Model: \"sequential_1\"\n",
      "_________________________________________________________________\n",
      " Layer (type)                Output Shape              Param #   \n",
      "=================================================================\n",
      " rescaling (Rescaling)       (None, 208, 176, 3)       0         \n",
      "                                                                 \n",
      " sequential (Sequential)     (None, 208, 176, 3)       0         \n",
      "                                                                 \n",
      " densenet201 (Functional)    (None, 6, 5, 1920)        18321984  \n",
      "                                                                 \n",
      " dropout (Dropout)           (None, 6, 5, 1920)        0         \n",
      "                                                                 \n",
      " flatten (Flatten)           (None, 57600)             0         \n",
      "                                                                 \n",
      " batch_normalization (BatchN  (None, 57600)            230400    \n",
      " ormalization)                                                   \n",
      "                                                                 \n",
      " dense (Dense)               (None, 2048)              117966848 \n",
      "                                                                 \n",
      " batch_normalization_1 (Batc  (None, 2048)             8192      \n",
      " hNormalization)                                                 \n",
      "                                                                 \n",
      " activation (Activation)     (None, 2048)              0         \n",
      "                                                                 \n",
      " dropout_1 (Dropout)         (None, 2048)              0         \n",
      "                                                                 \n",
      " dense_1 (Dense)             (None, 1024)              2098176   \n",
      "                                                                 \n",
      " batch_normalization_2 (Batc  (None, 1024)             4096      \n",
      " hNormalization)                                                 \n",
      "                                                                 \n",
      " activation_1 (Activation)   (None, 1024)              0         \n",
      "                                                                 \n",
      " dropout_2 (Dropout)         (None, 1024)              0         \n",
      "                                                                 \n",
      " dense_2 (Dense)             (None, 3)                 3075      \n",
      "                                                                 \n",
      "=================================================================\n",
      "Total params: 138,632,771\n",
      "Trainable params: 120,189,443\n",
      "Non-trainable params: 18,443,328\n",
      "_________________________________________________________________\n"
     ]
    }
   ],
   "source": [
    "# Definition conv and classification layers\n",
    "model = models.Sequential()\n",
    "model.add(layers.InputLayer(input_shape=(208, 176, 3)))\n",
    "model.add(layers.Rescaling(1.0/255))\n",
    "model.add(data_augmentation)\n",
    "model.add(b_model)\n",
    "model.add(layers.Dropout(0.5))\n",
    "model.add(layers.Flatten())\n",
    "model.add(layers.BatchNormalization())\n",
    "model.add(layers.Dense(2048,kernel_initializer='he_uniform'))\n",
    "model.add(layers.BatchNormalization())\n",
    "model.add(layers.Activation('relu'))\n",
    "model.add(layers.Dropout(0.5))\n",
    "model.add(layers.Dense(1024,kernel_initializer='he_uniform'))\n",
    "model.add(layers.BatchNormalization())\n",
    "model.add(layers.Activation('relu'))\n",
    "model.add(layers.Dropout(0.5))\n",
    "model.add(layers.Dense(3,activation='softmax'))\n",
    "\n",
    "# Print only Conv and Pooling layer from model architecture\n",
    "model.build()\n",
    "model.summary()"
   ]
  },
  {
   "cell_type": "markdown",
   "metadata": {},
   "source": [
    "### Defining the Optimizer"
   ]
  },
  {
   "cell_type": "code",
   "execution_count": 18,
   "metadata": {},
   "outputs": [],
   "source": [
    "# Defining optimizer and learning rate\n",
    "lr_schedule = tf.keras.optimizers.schedules.InverseTimeDecay(\n",
    "    0.0001,\n",
    "    decay_steps=10000,\n",
    "    decay_rate=1,\n",
    "    staircase=False)\n",
    "optimizer = tf.keras.optimizers.Adam(learning_rate=lr_schedule, name='Adam')"
   ]
  },
  {
   "cell_type": "markdown",
   "metadata": {},
   "source": [
    "### Compile the CNN Architecture"
   ]
  },
  {
   "cell_type": "code",
   "execution_count": 17,
   "metadata": {},
   "outputs": [],
   "source": [
    "# Freeze the the behavior of that model. If any trainable value changes, compile() must be called again\n",
    "keras.backend.clear_session()\n",
    "model.compile(optimizer=optimizer,\n",
    "    loss=\"CategoricalCrossentropy\",\n",
    "    metrics=[metrics.Precision(), metrics.Recall()])"
   ]
  },
  {
   "cell_type": "markdown",
   "metadata": {},
   "source": [
    "### Train the Model\n",
    "You can chose the save the model iterativly at every checkpoint by including the lines"
   ]
  },
  {
   "cell_type": "code",
   "execution_count": 18,
   "metadata": {},
   "outputs": [
    {
     "name": "stdout",
     "output_type": "stream",
     "text": [
      "Epoch 1/30\n"
     ]
    },
    {
     "name": "stderr",
     "output_type": "stream",
     "text": [
      "2022-06-14 16:03:10.300145: I tensorflow/core/grappler/optimizers/custom_graph_optimizer_registry.cc:113] Plugin optimizer for device_type GPU is enabled.\n"
     ]
    },
    {
     "name": "stdout",
     "output_type": "stream",
     "text": [
      "    144/Unknown - 134s 880ms/step - loss: 1.2862 - precision: 0.4888 - recall: 0.4122"
     ]
    },
    {
     "name": "stderr",
     "output_type": "stream",
     "text": [
      "2022-06-14 16:05:21.347555: I tensorflow/core/grappler/optimizers/custom_graph_optimizer_registry.cc:113] Plugin optimizer for device_type GPU is enabled.\n"
     ]
    },
    {
     "name": "stdout",
     "output_type": "stream",
     "text": [
      "144/144 [==============================] - 175s 1s/step - loss: 1.2862 - precision: 0.4888 - recall: 0.4122 - val_loss: 0.7792 - val_precision: 0.7216 - val_recall: 0.4510\n",
      "Epoch 2/30\n",
      "144/144 [==============================] - 174s 1s/step - loss: 0.6180 - precision: 0.7769 - recall: 0.6845 - val_loss: 0.7400 - val_precision: 0.7448 - val_recall: 0.5249\n",
      "Epoch 3/30\n",
      "144/144 [==============================] - 176s 1s/step - loss: 0.3454 - precision: 0.8949 - recall: 0.8465 - val_loss: 0.7026 - val_precision: 0.7383 - val_recall: 0.5840\n",
      "Epoch 4/30\n",
      "144/144 [==============================] - 173s 1s/step - loss: 0.2202 - precision: 0.9357 - recall: 0.9129 - val_loss: 0.6826 - val_precision: 0.7417 - val_recall: 0.6269\n",
      "Epoch 5/30\n",
      "144/144 [==============================] - 185s 1s/step - loss: 0.1539 - precision: 0.9561 - recall: 0.9403 - val_loss: 0.6760 - val_precision: 0.7359 - val_recall: 0.6427\n",
      "Epoch 6/30\n",
      "144/144 [==============================] - 184s 1s/step - loss: 0.1163 - precision: 0.9663 - recall: 0.9579 - val_loss: 0.6966 - val_precision: 0.7316 - val_recall: 0.6501\n",
      "Epoch 7/30\n",
      "144/144 [==============================] - 200s 1s/step - loss: 0.1032 - precision: 0.9699 - recall: 0.9655 - val_loss: 0.6960 - val_precision: 0.7313 - val_recall: 0.6654\n",
      "Epoch 8/30\n",
      "144/144 [==============================] - 184s 1s/step - loss: 0.0822 - precision: 0.9761 - recall: 0.9735 - val_loss: 0.7210 - val_precision: 0.7294 - val_recall: 0.6708\n",
      "Epoch 9/30\n",
      "144/144 [==============================] - 172s 1s/step - loss: 0.0552 - precision: 0.9843 - recall: 0.9815 - val_loss: 0.7055 - val_precision: 0.7472 - val_recall: 0.6890\n",
      "Epoch 10/30\n",
      "144/144 [==============================] - 176s 1s/step - loss: 0.0430 - precision: 0.9909 - recall: 0.9896 - val_loss: 0.6890 - val_precision: 0.7466 - val_recall: 0.7013\n",
      "Epoch 11/30\n",
      "144/144 [==============================] - 180s 1s/step - loss: 0.0454 - precision: 0.9887 - recall: 0.9872 - val_loss: 0.6636 - val_precision: 0.7629 - val_recall: 0.7137\n",
      "Epoch 12/30\n",
      "144/144 [==============================] - 185s 1s/step - loss: 0.0335 - precision: 0.9922 - recall: 0.9913 - val_loss: 0.6417 - val_precision: 0.7658 - val_recall: 0.7206\n",
      "Epoch 13/30\n",
      "144/144 [==============================] - 180s 1s/step - loss: 0.0259 - precision: 0.9930 - recall: 0.9926 - val_loss: 0.6784 - val_precision: 0.7482 - val_recall: 0.7132\n",
      "Epoch 14/30\n",
      "144/144 [==============================] - 177s 1s/step - loss: 0.0272 - precision: 0.9926 - recall: 0.9926 - val_loss: 0.6941 - val_precision: 0.7527 - val_recall: 0.7186\n",
      "Epoch 15/30\n",
      "144/144 [==============================] - 193s 1s/step - loss: 0.0390 - precision: 0.9872 - recall: 0.9865 - val_loss: 0.6720 - val_precision: 0.7600 - val_recall: 0.7240\n",
      "Epoch 16/30\n",
      "144/144 [==============================] - 166s 1s/step - loss: 0.0317 - precision: 0.9930 - recall: 0.9928 - val_loss: 0.6917 - val_precision: 0.7476 - val_recall: 0.7166\n",
      "Epoch 17/30\n",
      "144/144 [==============================] - 294s 2s/step - loss: 0.0252 - precision: 0.9922 - recall: 0.9915 - val_loss: 0.6835 - val_precision: 0.7494 - val_recall: 0.7235\n",
      "Epoch 18/30\n",
      "144/144 [==============================] - 159s 1s/step - loss: 0.0189 - precision: 0.9963 - recall: 0.9961 - val_loss: 0.6951 - val_precision: 0.7501 - val_recall: 0.7235\n",
      "Epoch 19/30\n",
      "144/144 [==============================] - 165s 1s/step - loss: 0.0149 - precision: 0.9970 - recall: 0.9965 - val_loss: 0.6959 - val_precision: 0.7558 - val_recall: 0.7260\n",
      "Epoch 20/30\n",
      "144/144 [==============================] - 171s 1s/step - loss: 0.0094 - precision: 0.9976 - recall: 0.9974 - val_loss: 0.7205 - val_precision: 0.7414 - val_recall: 0.7107\n",
      "Epoch 21/30\n",
      "144/144 [==============================] - 183s 1s/step - loss: 0.0187 - precision: 0.9948 - recall: 0.9944 - val_loss: 0.7185 - val_precision: 0.7473 - val_recall: 0.7186\n",
      "Epoch 22/30\n",
      "144/144 [==============================] - 180s 1s/step - loss: 0.0331 - precision: 0.9915 - recall: 0.9902 - val_loss: 0.6943 - val_precision: 0.7520 - val_recall: 0.7279\n",
      "Epoch 23/30\n",
      "144/144 [==============================] - 174s 1s/step - loss: 0.0228 - precision: 0.9913 - recall: 0.9911 - val_loss: 0.6609 - val_precision: 0.7570 - val_recall: 0.7279\n",
      "Epoch 24/30\n",
      "144/144 [==============================] - 162s 1s/step - loss: 0.0345 - precision: 0.9889 - recall: 0.9887 - val_loss: 0.6516 - val_precision: 0.7645 - val_recall: 0.7358\n",
      "Epoch 25/30\n",
      "144/144 [==============================] - 169s 1s/step - loss: 0.0329 - precision: 0.9894 - recall: 0.9889 - val_loss: 0.6951 - val_precision: 0.7560 - val_recall: 0.7255\n",
      "Epoch 26/30\n",
      "144/144 [==============================] - 177s 1s/step - loss: 0.0321 - precision: 0.9907 - recall: 0.9900 - val_loss: 0.7336 - val_precision: 0.7491 - val_recall: 0.7255\n",
      "Epoch 27/30\n",
      "144/144 [==============================] - 175s 1s/step - loss: 0.0237 - precision: 0.9917 - recall: 0.9915 - val_loss: 0.6947 - val_precision: 0.7562 - val_recall: 0.7309\n",
      "Epoch 28/30\n",
      "144/144 [==============================] - 185s 1s/step - loss: 0.0252 - precision: 0.9926 - recall: 0.9915 - val_loss: 0.7267 - val_precision: 0.7520 - val_recall: 0.7294\n",
      "Epoch 29/30\n",
      "144/144 [==============================] - 204s 1s/step - loss: 0.0246 - precision: 0.9939 - recall: 0.9928 - val_loss: 0.7367 - val_precision: 0.7541 - val_recall: 0.7299\n",
      "Epoch 30/30\n",
      "144/144 [==============================] - 244s 2s/step - loss: 0.0411 - precision: 0.9865 - recall: 0.9857 - val_loss: 0.7733 - val_precision: 0.7489 - val_recall: 0.7260\n"
     ]
    }
   ],
   "source": [
    "# Saving model parameters and weights per epoch\n",
    "#checkpoint_filepath = 'F:\\\\MRI_class\\\\data\\\\Alzheimer_s Dataset_20percentVal\\\\SimpleCNN_lr10-4\\\\checkpoint_model.epoch{epoch:02d}-recall{val_recall:.2f}.hdf5'\n",
    "#model_checkpoint_callback = tf.keras.callbacks.ModelCheckpoint(filepath=checkpoint_filepath, save_weights_only=False, monitor='val_recall', mode='max',\n",
    "#save_best_only=True)\n",
    "\n",
    "# Model training. Model weights are saved at the end of every epoch, if it's the best seen so far\n",
    "with tf.device(\"/gpu:0\"):\n",
    "    tf.random.set_seed(10)\n",
    "    model_history = model.fit(x=train_fullTensor,\n",
    "                        validation_data=val_fullTensor,\n",
    "                        epochs=30, \n",
    "                        shuffle=True\n",
    "                        #callbacks=[model_checkpoint_callback]\n",
    "                        )"
   ]
  },
  {
   "cell_type": "markdown",
   "metadata": {},
   "source": [
    "### Visualize Training Results"
   ]
  },
  {
   "cell_type": "code",
   "execution_count": 19,
   "metadata": {},
   "outputs": [
    {
     "data": {
      "image/png": "[encoded data removed]",
      "text/plain": [
       "<Figure size 432x288 with 1 Axes>"
      ]
     },
     "metadata": {
      "needs_background": "light"
     },
     "output_type": "display_data"
    }
   ],
   "source": [
    "plt.plot(model_history.history['recall'], label='recall')\n",
    "plt.plot(model_history.history['val_recall'], label = 'val_recall')\n",
    "plt.xlabel('Epoch')\n",
    "plt.ylabel('recall')\n",
    "plt.ylim([0, 1])\n",
    "plt.legend(loc='lower right')\n",
    "plt.show()"
   ]
  },
  {
   "cell_type": "code",
   "execution_count": 22,
   "metadata": {},
   "outputs": [
    {
     "data": {
      "image/png": "[encoded data removed]",
      "text/plain": [
       "<Figure size 432x288 with 1 Axes>"
      ]
     },
     "metadata": {
      "needs_background": "light"
     },
     "output_type": "display_data"
    }
   ],
   "source": [
    "\n",
    "plt.plot(model_history.history['loss'], label='Training loss')\n",
    "plt.plot(model_history.history['val_loss'], label='validation loss')\n",
    "plt.title('Training and Validation loss')\n",
    "plt.xlabel('Epochs')\n",
    "plt.ylabel('Loss')\n",
    "plt.legend()\n",
    "plt.show()"
   ]
  },
  {
   "cell_type": "markdown",
   "metadata": {},
   "source": [
    "### Save the Model"
   ]
  },
  {
   "cell_type": "code",
   "execution_count": 24,
   "metadata": {},
   "outputs": [
    {
     "name": "stderr",
     "output_type": "stream",
     "text": [
      "WARNING:absl:Found untraced functions such as _jit_compiled_convolution_op, _jit_compiled_convolution_op, _jit_compiled_convolution_op, _jit_compiled_convolution_op, _jit_compiled_convolution_op while saving (showing 5 of 200). These functions will not be directly callable after loading.\n"
     ]
    },
    {
     "name": "stdout",
     "output_type": "stream",
     "text": [
      "INFO:tensorflow:Assets written to: /Users/josealbertodiazsalas/Documents/densenet201/assets\n"
     ]
    },
    {
     "name": "stderr",
     "output_type": "stream",
     "text": [
      "INFO:tensorflow:Assets written to: /Users/josealbertodiazsalas/Documents/densenet201/assets\n"
     ]
    }
   ],
   "source": [
    "model.save('/Users/josealbertodiazsalas/Documents/densenet201')\n",
    "#model.save('/Users/josealbertodiazsalas/Documents/densenet201.h5')"
   ]
  },
  {
   "cell_type": "markdown",
   "metadata": {},
   "source": [
    "-----\n",
    "### Model 2"
   ]
  },
  {
   "cell_type": "code",
   "execution_count": 17,
   "metadata": {},
   "outputs": [
    {
     "name": "stdout",
     "output_type": "stream",
     "text": [
      "Model: \"sequential\"\n",
      "_________________________________________________________________\n",
      " Layer (type)                Output Shape              Param #   \n",
      "=================================================================\n",
      " rescaling (Rescaling)       (None, 208, 176, 3)       0         \n",
      "                                                                 \n",
      " sequential (Sequential)     (None, 208, 176, 3)       0         \n",
      "                                                                 \n",
      " densenet201 (Functional)    (None, 6, 5, 1920)        18321984  \n",
      "                                                                 \n",
      " dropout (Dropout)           (None, 6, 5, 1920)        0         \n",
      "                                                                 \n",
      " flatten (Flatten)           (None, 57600)             0         \n",
      "                                                                 \n",
      " batch_normalization (BatchN  (None, 57600)            230400    \n",
      " ormalization)                                                   \n",
      "                                                                 \n",
      " dense (Dense)               (None, 1024)              58983424  \n",
      "                                                                 \n",
      " batch_normalization_1 (Batc  (None, 1024)             4096      \n",
      " hNormalization)                                                 \n",
      "                                                                 \n",
      " activation (Activation)     (None, 1024)              0         \n",
      "                                                                 \n",
      " dropout_1 (Dropout)         (None, 1024)              0         \n",
      "                                                                 \n",
      " dense_1 (Dense)             (None, 512)               524800    \n",
      "                                                                 \n",
      " batch_normalization_2 (Batc  (None, 512)              2048      \n",
      " hNormalization)                                                 \n",
      "                                                                 \n",
      " activation_1 (Activation)   (None, 512)               0         \n",
      "                                                                 \n",
      " dropout_2 (Dropout)         (None, 512)               0         \n",
      "                                                                 \n",
      " dense_2 (Dense)             (None, 3)                 1539      \n",
      "                                                                 \n",
      "=================================================================\n",
      "Total params: 78,068,291\n",
      "Trainable params: 59,628,035\n",
      "Non-trainable params: 18,440,256\n",
      "_________________________________________________________________\n"
     ]
    }
   ],
   "source": [
    "# Definition conv and classification layers\n",
    "model_2 = models.Sequential()\n",
    "model_2.add(layers.InputLayer(input_shape=(208, 176, 3)))\n",
    "model_2.add(layers.Rescaling(1.0/255))\n",
    "model_2.add(data_augmentation)\n",
    "model_2.add(b_model)\n",
    "model_2.add(layers.Dropout(0.5))\n",
    "model_2.add(layers.Flatten())\n",
    "model_2.add(layers.BatchNormalization())\n",
    "model_2.add(layers.Dense(1024,kernel_initializer='he_uniform'))\n",
    "model_2.add(layers.BatchNormalization())\n",
    "model_2.add(layers.Activation('relu'))\n",
    "model_2.add(layers.Dropout(0.5))\n",
    "model_2.add(layers.Dense(512,kernel_initializer='he_uniform'))\n",
    "model_2.add(layers.BatchNormalization())\n",
    "model_2.add(layers.Activation('relu'))\n",
    "model_2.add(layers.Dropout(0.5))\n",
    "model_2.add(layers.Dense(3,activation='softmax'))\n",
    "\n",
    "# Print only Conv and Pooling layer from model architecture\n",
    "model_2.build()\n",
    "model_2.summary()"
   ]
  },
  {
   "cell_type": "code",
   "execution_count": 18,
   "metadata": {},
   "outputs": [],
   "source": [
    "# Freeze the the behavior of that model. If any trainable value changes, compile() must be called again\n",
    "keras.backend.clear_session()\n",
    "model_2.compile(optimizer=optimizer,\n",
    "    loss=\"CategoricalCrossentropy\",\n",
    "    metrics=[metrics.Precision(), metrics.Recall()])"
   ]
  },
  {
   "cell_type": "code",
   "execution_count": 19,
   "metadata": {},
   "outputs": [
    {
     "name": "stdout",
     "output_type": "stream",
     "text": [
      "Epoch 1/30\n"
     ]
    },
    {
     "name": "stderr",
     "output_type": "stream",
     "text": [
      "2022-06-14 17:52:14.155063: I tensorflow/core/grappler/optimizers/custom_graph_optimizer_registry.cc:113] Plugin optimizer for device_type GPU is enabled.\n"
     ]
    },
    {
     "name": "stdout",
     "output_type": "stream",
     "text": [
      "    144/Unknown - 116s 747ms/step - loss: 1.2115 - precision: 0.5078 - recall: 0.4193"
     ]
    },
    {
     "name": "stderr",
     "output_type": "stream",
     "text": [
      "2022-06-14 17:54:06.223044: I tensorflow/core/grappler/optimizers/custom_graph_optimizer_registry.cc:113] Plugin optimizer for device_type GPU is enabled.\n"
     ]
    },
    {
     "name": "stdout",
     "output_type": "stream",
     "text": [
      "144/144 [==============================] - 157s 1s/step - loss: 1.2115 - precision: 0.5078 - recall: 0.4193 - val_loss: 0.7899 - val_precision: 0.6830 - val_recall: 0.4810\n",
      "Epoch 2/30\n",
      "144/144 [==============================] - 173s 1s/step - loss: 0.5844 - precision: 0.8022 - recall: 0.7036 - val_loss: 0.7607 - val_precision: 0.7210 - val_recall: 0.5145\n",
      "Epoch 3/30\n",
      "144/144 [==============================] - 200s 1s/step - loss: 0.3238 - precision: 0.9079 - recall: 0.8630 - val_loss: 0.7291 - val_precision: 0.7276 - val_recall: 0.5712\n",
      "Epoch 4/30\n",
      "144/144 [==============================] - 184s 1s/step - loss: 0.1921 - precision: 0.9471 - recall: 0.9292 - val_loss: 0.6925 - val_precision: 0.7363 - val_recall: 0.6111\n",
      "Epoch 5/30\n",
      "144/144 [==============================] - 172s 1s/step - loss: 0.1458 - precision: 0.9600 - recall: 0.9483 - val_loss: 0.6699 - val_precision: 0.7472 - val_recall: 0.6540\n",
      "Epoch 6/30\n",
      "144/144 [==============================] - 169s 1s/step - loss: 0.1203 - precision: 0.9652 - recall: 0.9564 - val_loss: 0.6740 - val_precision: 0.7360 - val_recall: 0.6624\n",
      "Epoch 7/30\n",
      "144/144 [==============================] - 171s 1s/step - loss: 0.0867 - precision: 0.9797 - recall: 0.9752 - val_loss: 0.6641 - val_precision: 0.7470 - val_recall: 0.6811\n",
      "Epoch 8/30\n",
      "144/144 [==============================] - 179s 1s/step - loss: 0.0773 - precision: 0.9771 - recall: 0.9748 - val_loss: 0.6603 - val_precision: 0.7414 - val_recall: 0.6796\n",
      "Epoch 9/30\n",
      "144/144 [==============================] - 176s 1s/step - loss: 0.0556 - precision: 0.9850 - recall: 0.9828 - val_loss: 0.6839 - val_precision: 0.7369 - val_recall: 0.6723\n",
      "Epoch 10/30\n",
      "144/144 [==============================] - 172s 1s/step - loss: 0.0421 - precision: 0.9900 - recall: 0.9878 - val_loss: 0.6818 - val_precision: 0.7346 - val_recall: 0.6752\n",
      "Epoch 11/30\n",
      "144/144 [==============================] - 174s 1s/step - loss: 0.0400 - precision: 0.9887 - recall: 0.9874 - val_loss: 0.6718 - val_precision: 0.7438 - val_recall: 0.6925\n",
      "Epoch 12/30\n",
      "144/144 [==============================] - 197s 1s/step - loss: 0.0342 - precision: 0.9917 - recall: 0.9913 - val_loss: 0.6891 - val_precision: 0.7331 - val_recall: 0.6821\n",
      "Epoch 13/30\n",
      "144/144 [==============================] - 181s 1s/step - loss: 0.0238 - precision: 0.9957 - recall: 0.9952 - val_loss: 0.6950 - val_precision: 0.7283 - val_recall: 0.6777\n",
      "Epoch 14/30\n",
      "144/144 [==============================] - 192s 1s/step - loss: 0.0156 - precision: 0.9961 - recall: 0.9959 - val_loss: 0.6702 - val_precision: 0.7431 - val_recall: 0.6885\n",
      "Epoch 15/30\n",
      "144/144 [==============================] - 228s 2s/step - loss: 0.0208 - precision: 0.9954 - recall: 0.9950 - val_loss: 0.6773 - val_precision: 0.7478 - val_recall: 0.7058\n",
      "Epoch 16/30\n",
      "144/144 [==============================] - 230s 2s/step - loss: 0.0164 - precision: 0.9965 - recall: 0.9957 - val_loss: 0.6561 - val_precision: 0.7552 - val_recall: 0.7102\n",
      "Epoch 17/30\n",
      "144/144 [==============================] - 194s 1s/step - loss: 0.0134 - precision: 0.9963 - recall: 0.9957 - val_loss: 0.6312 - val_precision: 0.7690 - val_recall: 0.7220\n",
      "Epoch 18/30\n",
      "144/144 [==============================] - 191s 1s/step - loss: 0.0176 - precision: 0.9954 - recall: 0.9948 - val_loss: 0.6697 - val_precision: 0.7531 - val_recall: 0.7127\n",
      "Epoch 19/30\n",
      "144/144 [==============================] - 174s 1s/step - loss: 0.0148 - precision: 0.9959 - recall: 0.9959 - val_loss: 0.6820 - val_precision: 0.7514 - val_recall: 0.7092\n",
      "Epoch 20/30\n",
      "144/144 [==============================] - 160s 1s/step - loss: 0.0110 - precision: 0.9978 - recall: 0.9974 - val_loss: 0.6660 - val_precision: 0.7628 - val_recall: 0.7196\n",
      "Epoch 21/30\n",
      "144/144 [==============================] - 155s 1s/step - loss: 0.0067 - precision: 0.9989 - recall: 0.9985 - val_loss: 0.6698 - val_precision: 0.7642 - val_recall: 0.7235\n",
      "Epoch 22/30\n",
      "144/144 [==============================] - 150s 1s/step - loss: 0.0142 - precision: 0.9967 - recall: 0.9963 - val_loss: 0.7131 - val_precision: 0.7478 - val_recall: 0.7087\n",
      "Epoch 23/30\n",
      "144/144 [==============================] - 150s 1s/step - loss: 0.0252 - precision: 0.9933 - recall: 0.9924 - val_loss: 0.7085 - val_precision: 0.7563 - val_recall: 0.7112\n",
      "Epoch 24/30\n",
      "144/144 [==============================] - 150s 1s/step - loss: 0.0421 - precision: 0.9891 - recall: 0.9887 - val_loss: 0.7116 - val_precision: 0.7422 - val_recall: 0.7038\n",
      "Epoch 25/30\n",
      "144/144 [==============================] - 146s 1s/step - loss: 0.0338 - precision: 0.9902 - recall: 0.9900 - val_loss: 0.6793 - val_precision: 0.7568 - val_recall: 0.7146\n",
      "Epoch 26/30\n",
      "144/144 [==============================] - 146s 1s/step - loss: 0.0265 - precision: 0.9922 - recall: 0.9904 - val_loss: 0.6903 - val_precision: 0.7557 - val_recall: 0.7072\n",
      "Epoch 27/30\n",
      "144/144 [==============================] - 147s 1s/step - loss: 0.0159 - precision: 0.9950 - recall: 0.9944 - val_loss: 0.6792 - val_precision: 0.7552 - val_recall: 0.7146\n",
      "Epoch 28/30\n",
      "144/144 [==============================] - 147s 1s/step - loss: 0.0169 - precision: 0.9957 - recall: 0.9954 - val_loss: 0.7060 - val_precision: 0.7473 - val_recall: 0.7097\n",
      "Epoch 29/30\n",
      "144/144 [==============================] - 146s 1s/step - loss: 0.0126 - precision: 0.9963 - recall: 0.9961 - val_loss: 0.7000 - val_precision: 0.7491 - val_recall: 0.7092\n",
      "Epoch 30/30\n",
      "144/144 [==============================] - 145s 1s/step - loss: 0.0049 - precision: 0.9991 - recall: 0.9991 - val_loss: 0.6925 - val_precision: 0.7505 - val_recall: 0.7117\n"
     ]
    }
   ],
   "source": [
    "# Model training. Model weights are saved at the end of every epoch, if it's the best seen so far\n",
    "with tf.device(\"/gpu:0\"):\n",
    "    tf.random.set_seed(10)\n",
    "    model_2_history = model_2.fit(x=train_fullTensor,\n",
    "                        validation_data=val_fullTensor,\n",
    "                        epochs=30, \n",
    "                        shuffle=True\n",
    "                        #callbacks=[model_checkpoint_callback]\n",
    "                        )"
   ]
  },
  {
   "cell_type": "code",
   "execution_count": 20,
   "metadata": {},
   "outputs": [
    {
     "data": {
      "image/png": "[encoded data removed]",
      "text/plain": [
       "<Figure size 432x288 with 1 Axes>"
      ]
     },
     "metadata": {
      "needs_background": "light"
     },
     "output_type": "display_data"
    }
   ],
   "source": [
    "plt.plot(model_2_history.history['recall'], label='recall')\n",
    "plt.plot(model_2_history.history['val_recall'], label = 'val_recall')\n",
    "plt.xlabel('Epoch')\n",
    "plt.ylabel('recall')\n",
    "plt.ylim([0, 1])\n",
    "plt.legend(loc='lower right')\n",
    "plt.show()"
   ]
  },
  {
   "cell_type": "code",
   "execution_count": 21,
   "metadata": {},
   "outputs": [
    {
     "data": {
      "image/png": "[encoded data removed]",
      "text/plain": [
       "<Figure size 432x288 with 1 Axes>"
      ]
     },
     "metadata": {
      "needs_background": "light"
     },
     "output_type": "display_data"
    }
   ],
   "source": [
    "plt.plot(model_2_history.history['loss'], label='Training loss')\n",
    "plt.plot(model_2_history.history['val_loss'], label='validation loss')\n",
    "plt.title('Training and Validation loss')\n",
    "plt.xlabel('Epochs')\n",
    "plt.ylabel('Loss')\n",
    "plt.legend()\n",
    "plt.show()"
   ]
  },
  {
   "cell_type": "markdown",
   "metadata": {},
   "source": [
    "______\n",
    "### Model 3"
   ]
  },
  {
   "cell_type": "code",
   "execution_count": 22,
   "metadata": {},
   "outputs": [
    {
     "name": "stdout",
     "output_type": "stream",
     "text": [
      "Model: \"sequential\"\n",
      "_________________________________________________________________\n",
      " Layer (type)                Output Shape              Param #   \n",
      "=================================================================\n",
      " rescaling (Rescaling)       (None, 208, 176, 3)       0         \n",
      "                                                                 \n",
      " sequential (Sequential)     (None, 208, 176, 3)       0         \n",
      "                                                                 \n",
      " densenet201 (Functional)    (None, 6, 5, 1920)        18321984  \n",
      "                                                                 \n",
      " flatten (Flatten)           (None, 57600)             0         \n",
      "                                                                 \n",
      " dense (Dense)               (None, 512)               29491712  \n",
      "                                                                 \n",
      " batch_normalization (BatchN  (None, 512)              2048      \n",
      " ormalization)                                                   \n",
      "                                                                 \n",
      " activation (Activation)     (None, 512)               0         \n",
      "                                                                 \n",
      " dropout (Dropout)           (None, 512)               0         \n",
      "                                                                 \n",
      " dense_1 (Dense)             (None, 256)               131328    \n",
      "                                                                 \n",
      " batch_normalization_1 (Batc  (None, 256)              1024      \n",
      " hNormalization)                                                 \n",
      "                                                                 \n",
      " activation_1 (Activation)   (None, 256)               0         \n",
      "                                                                 \n",
      " dense_2 (Dense)             (None, 128)               32896     \n",
      "                                                                 \n",
      " batch_normalization_2 (Batc  (None, 128)              512       \n",
      " hNormalization)                                                 \n",
      "                                                                 \n",
      " activation_2 (Activation)   (None, 128)               0         \n",
      "                                                                 \n",
      " dropout_1 (Dropout)         (None, 128)               0         \n",
      "                                                                 \n",
      " dense_3 (Dense)             (None, 3)                 387       \n",
      "                                                                 \n",
      "=================================================================\n",
      "Total params: 47,981,891\n",
      "Trainable params: 29,658,115\n",
      "Non-trainable params: 18,323,776\n",
      "_________________________________________________________________\n"
     ]
    }
   ],
   "source": [
    "# Definition conv and classification layers\n",
    "model_3 = models.Sequential()\n",
    "model_3.add(layers.InputLayer(input_shape=(208, 176, 3)))\n",
    "model_3.add(layers.Rescaling(1.0/255))\n",
    "model_3.add(data_augmentation)\n",
    "model_3.add(b_model)\n",
    "model_3.add(layers.Flatten())\n",
    "model_3.add(layers.Dense(512,kernel_initializer='he_uniform'))\n",
    "model_3.add(layers.BatchNormalization())\n",
    "model_3.add(layers.Activation('relu'))\n",
    "model_3.add(layers.Dropout(0.5))\n",
    "model_3.add(layers.Dense(256,kernel_initializer='he_uniform'))\n",
    "model_3.add(layers.BatchNormalization())\n",
    "model_3.add(layers.Activation('relu'))\n",
    "model_3.add(layers.Dense(128,kernel_initializer='he_uniform'))\n",
    "model_3.add(layers.BatchNormalization())\n",
    "model_3.add(layers.Activation('relu'))\n",
    "model_3.add(layers.Dropout(0.5))\n",
    "model_3.add(layers.Dense(3,activation='softmax'))\n",
    "\n",
    "# Print only Conv and Pooling layer from model architecture\n",
    "model_3.build()\n",
    "model_3.summary()"
   ]
  },
  {
   "cell_type": "code",
   "execution_count": 23,
   "metadata": {},
   "outputs": [],
   "source": [
    "# Freeze the the behavior of that model. If any trainable value changes, compile() must be called again\n",
    "keras.backend.clear_session()\n",
    "model_3.compile(optimizer=optimizer,\n",
    "    loss=\"CategoricalCrossentropy\",\n",
    "    metrics=[metrics.Precision(), metrics.Recall()])"
   ]
  },
  {
   "cell_type": "code",
   "execution_count": 24,
   "metadata": {},
   "outputs": [
    {
     "name": "stdout",
     "output_type": "stream",
     "text": [
      "Epoch 1/30\n"
     ]
    },
    {
     "name": "stderr",
     "output_type": "stream",
     "text": [
      "2022-06-14 19:18:14.694464: I tensorflow/core/grappler/optimizers/custom_graph_optimizer_registry.cc:113] Plugin optimizer for device_type GPU is enabled.\n"
     ]
    },
    {
     "name": "stdout",
     "output_type": "stream",
     "text": [
      "    144/Unknown - 109s 700ms/step - loss: 1.0054 - precision: 0.5894 - recall: 0.4869"
     ]
    },
    {
     "name": "stderr",
     "output_type": "stream",
     "text": [
      "2022-06-14 19:19:59.481477: I tensorflow/core/grappler/optimizers/custom_graph_optimizer_registry.cc:113] Plugin optimizer for device_type GPU is enabled.\n"
     ]
    },
    {
     "name": "stdout",
     "output_type": "stream",
     "text": [
      "144/144 [==============================] - 151s 988ms/step - loss: 1.0054 - precision: 0.5894 - recall: 0.4869 - val_loss: 0.8493 - val_precision: 0.6385 - val_recall: 0.5614\n",
      "Epoch 2/30\n",
      "144/144 [==============================] - 135s 942ms/step - loss: 0.4420 - precision: 0.8832 - recall: 0.7980 - val_loss: 0.6593 - val_precision: 0.7491 - val_recall: 0.6269\n",
      "Epoch 3/30\n",
      "144/144 [==============================] - 136s 942ms/step - loss: 0.2665 - precision: 0.9543 - recall: 0.9125 - val_loss: 0.6719 - val_precision: 0.7474 - val_recall: 0.6373\n",
      "Epoch 4/30\n",
      "144/144 [==============================] - 136s 943ms/step - loss: 0.1703 - precision: 0.9828 - recall: 0.9655 - val_loss: 0.5989 - val_precision: 0.7841 - val_recall: 0.6910\n",
      "Epoch 5/30\n",
      "144/144 [==============================] - 135s 937ms/step - loss: 0.1124 - precision: 0.9945 - recall: 0.9874 - val_loss: 0.5725 - val_precision: 0.7991 - val_recall: 0.7077\n",
      "Epoch 6/30\n",
      "144/144 [==============================] - 135s 936ms/step - loss: 0.0781 - precision: 0.9972 - recall: 0.9950 - val_loss: 0.5404 - val_precision: 0.8106 - val_recall: 0.7383\n",
      "Epoch 7/30\n",
      "144/144 [==============================] - 135s 939ms/step - loss: 0.0586 - precision: 0.9983 - recall: 0.9972 - val_loss: 0.5215 - val_precision: 0.8081 - val_recall: 0.7575\n",
      "Epoch 8/30\n",
      "144/144 [==============================] - 135s 941ms/step - loss: 0.0434 - precision: 0.9996 - recall: 0.9987 - val_loss: 0.5242 - val_precision: 0.8013 - val_recall: 0.7570\n",
      "Epoch 9/30\n",
      "144/144 [==============================] - 135s 938ms/step - loss: 0.0338 - precision: 0.9998 - recall: 0.9996 - val_loss: 0.4905 - val_precision: 0.8208 - val_recall: 0.7743\n",
      "Epoch 10/30\n",
      "144/144 [==============================] - 135s 936ms/step - loss: 0.0265 - precision: 1.0000 - recall: 1.0000 - val_loss: 0.4865 - val_precision: 0.8262 - val_recall: 0.7753\n",
      "Epoch 11/30\n",
      "144/144 [==============================] - 135s 940ms/step - loss: 0.0216 - precision: 0.9998 - recall: 0.9998 - val_loss: 0.5153 - val_precision: 0.8039 - val_recall: 0.7718\n",
      "Epoch 12/30\n",
      "144/144 [==============================] - 135s 938ms/step - loss: 0.0188 - precision: 0.9998 - recall: 0.9998 - val_loss: 0.4735 - val_precision: 0.8243 - val_recall: 0.7910\n",
      "Epoch 13/30\n",
      "144/144 [==============================] - 135s 937ms/step - loss: 0.0145 - precision: 1.0000 - recall: 1.0000 - val_loss: 0.4828 - val_precision: 0.8194 - val_recall: 0.7871\n",
      "Epoch 14/30\n",
      "144/144 [==============================] - 135s 939ms/step - loss: 0.0124 - precision: 1.0000 - recall: 1.0000 - val_loss: 0.4737 - val_precision: 0.8206 - val_recall: 0.7915\n",
      "Epoch 15/30\n",
      "144/144 [==============================] - 135s 939ms/step - loss: 0.0104 - precision: 1.0000 - recall: 1.0000 - val_loss: 0.4809 - val_precision: 0.8223 - val_recall: 0.7984\n",
      "Epoch 16/30\n",
      "144/144 [==============================] - 135s 940ms/step - loss: 0.0088 - precision: 1.0000 - recall: 1.0000 - val_loss: 0.4575 - val_precision: 0.8350 - val_recall: 0.8034\n",
      "Epoch 17/30\n",
      "144/144 [==============================] - 135s 935ms/step - loss: 0.0079 - precision: 1.0000 - recall: 1.0000 - val_loss: 0.4561 - val_precision: 0.8361 - val_recall: 0.8073\n",
      "Epoch 18/30\n",
      "144/144 [==============================] - 135s 936ms/step - loss: 0.0068 - precision: 1.0000 - recall: 1.0000 - val_loss: 0.4517 - val_precision: 0.8360 - val_recall: 0.8112\n",
      "Epoch 19/30\n",
      "144/144 [==============================] - 135s 937ms/step - loss: 0.0059 - precision: 1.0000 - recall: 1.0000 - val_loss: 0.4498 - val_precision: 0.8381 - val_recall: 0.8167\n",
      "Epoch 20/30\n",
      "144/144 [==============================] - 134s 933ms/step - loss: 0.0054 - precision: 1.0000 - recall: 1.0000 - val_loss: 0.4565 - val_precision: 0.8392 - val_recall: 0.8206\n",
      "Epoch 21/30\n",
      "144/144 [==============================] - 135s 935ms/step - loss: 0.0048 - precision: 1.0000 - recall: 1.0000 - val_loss: 0.4417 - val_precision: 0.8445 - val_recall: 0.8216\n",
      "Epoch 22/30\n",
      "144/144 [==============================] - 134s 932ms/step - loss: 0.0042 - precision: 1.0000 - recall: 1.0000 - val_loss: 0.4647 - val_precision: 0.8336 - val_recall: 0.8073\n",
      "Epoch 23/30\n",
      "144/144 [==============================] - 134s 933ms/step - loss: 0.0038 - precision: 1.0000 - recall: 1.0000 - val_loss: 0.4627 - val_precision: 0.8341 - val_recall: 0.8103\n",
      "Epoch 24/30\n",
      "144/144 [==============================] - 134s 933ms/step - loss: 0.0036 - precision: 1.0000 - recall: 1.0000 - val_loss: 0.4641 - val_precision: 0.8347 - val_recall: 0.8112\n",
      "Epoch 25/30\n",
      "144/144 [==============================] - 134s 933ms/step - loss: 0.0032 - precision: 1.0000 - recall: 1.0000 - val_loss: 0.4413 - val_precision: 0.8477 - val_recall: 0.8314\n",
      "Epoch 26/30\n",
      "144/144 [==============================] - 134s 932ms/step - loss: 0.0028 - precision: 1.0000 - recall: 1.0000 - val_loss: 0.4496 - val_precision: 0.8444 - val_recall: 0.8236\n",
      "Epoch 27/30\n",
      "144/144 [==============================] - 134s 932ms/step - loss: 0.0025 - precision: 1.0000 - recall: 1.0000 - val_loss: 0.4312 - val_precision: 0.8530 - val_recall: 0.8379\n",
      "Epoch 28/30\n",
      "144/144 [==============================] - 134s 934ms/step - loss: 0.0024 - precision: 1.0000 - recall: 1.0000 - val_loss: 0.4258 - val_precision: 0.8570 - val_recall: 0.8388\n",
      "Epoch 29/30\n",
      "144/144 [==============================] - 134s 933ms/step - loss: 0.0021 - precision: 1.0000 - recall: 1.0000 - val_loss: 0.4329 - val_precision: 0.8514 - val_recall: 0.8383\n",
      "Epoch 30/30\n",
      "144/144 [==============================] - 134s 932ms/step - loss: 0.0020 - precision: 1.0000 - recall: 1.0000 - val_loss: 0.4386 - val_precision: 0.8477 - val_recall: 0.8339\n"
     ]
    }
   ],
   "source": [
    "# Model training. Model weights are saved at the end of every epoch, if it's the best seen so far\n",
    "with tf.device(\"/gpu:0\"):\n",
    "    tf.random.set_seed(10)\n",
    "    model_3_history = model_3.fit(x=train_fullTensor,\n",
    "                        validation_data=val_fullTensor,\n",
    "                        epochs=30, \n",
    "                        shuffle=True\n",
    "                        #callbacks=[model_checkpoint_callback]\n",
    "                        )"
   ]
  },
  {
   "cell_type": "code",
   "execution_count": 25,
   "metadata": {},
   "outputs": [
    {
     "data": {
      "image/png": "[encoded data removed]",
      "text/plain": [
       "<Figure size 432x288 with 1 Axes>"
      ]
     },
     "metadata": {
      "needs_background": "light"
     },
     "output_type": "display_data"
    }
   ],
   "source": [
    "plt.plot(model_3_history.history['recall'], label='recall')\n",
    "plt.plot(model_3_history.history['val_recall'], label = 'val_recall')\n",
    "plt.xlabel('Epoch')\n",
    "plt.ylabel('recall')\n",
    "plt.ylim([0, 1])\n",
    "plt.legend(loc='lower right')\n",
    "plt.show()"
   ]
  },
  {
   "cell_type": "code",
   "execution_count": 26,
   "metadata": {},
   "outputs": [
    {
     "data": {
      "image/png": "[encoded data removed]",
      "text/plain": [
       "<Figure size 432x288 with 1 Axes>"
      ]
     },
     "metadata": {
      "needs_background": "light"
     },
     "output_type": "display_data"
    }
   ],
   "source": [
    "plt.plot(model_3_history.history['loss'], label='Training loss')\n",
    "plt.plot(model_3_history.history['val_loss'], label='validation loss')\n",
    "plt.title('Training and Validation loss')\n",
    "plt.xlabel('Epochs')\n",
    "plt.ylabel('Loss')\n",
    "plt.legend()\n",
    "plt.show()"
   ]
  },
  {
   "cell_type": "markdown",
   "metadata": {},
   "source": [
    "______\n",
    "### Model 4"
   ]
  },
  {
   "cell_type": "code",
   "execution_count": 15,
   "metadata": {},
   "outputs": [],
   "source": [
    "# Defining both base and final model architecture\n",
    "b_model = base_model(MODEL='DenseNet201', freeze_layers=True)"
   ]
  },
  {
   "cell_type": "code",
   "execution_count": 16,
   "metadata": {},
   "outputs": [
    {
     "name": "stdout",
     "output_type": "stream",
     "text": [
      "Model: \"sequential_1\"\n",
      "_________________________________________________________________\n",
      " Layer (type)                Output Shape              Param #   \n",
      "=================================================================\n",
      " rescaling (Rescaling)       (None, 208, 176, 3)       0         \n",
      "                                                                 \n",
      " sequential (Sequential)     (None, 208, 176, 3)       0         \n",
      "                                                                 \n",
      " densenet201 (Functional)    (None, 6, 5, 1920)        18321984  \n",
      "                                                                 \n",
      " flatten (Flatten)           (None, 57600)             0         \n",
      "                                                                 \n",
      " dense (Dense)               (None, 512)               29491712  \n",
      "                                                                 \n",
      " batch_normalization (BatchN  (None, 512)              2048      \n",
      " ormalization)                                                   \n",
      "                                                                 \n",
      " activation (Activation)     (None, 512)               0         \n",
      "                                                                 \n",
      " dropout (Dropout)           (None, 512)               0         \n",
      "                                                                 \n",
      " dense_1 (Dense)             (None, 256)               131328    \n",
      "                                                                 \n",
      " batch_normalization_1 (Batc  (None, 256)              1024      \n",
      " hNormalization)                                                 \n",
      "                                                                 \n",
      " activation_1 (Activation)   (None, 256)               0         \n",
      "                                                                 \n",
      " dropout_1 (Dropout)         (None, 256)               0         \n",
      "                                                                 \n",
      " dense_2 (Dense)             (None, 3)                 771       \n",
      "                                                                 \n",
      "=================================================================\n",
      "Total params: 47,948,867\n",
      "Trainable params: 29,625,347\n",
      "Non-trainable params: 18,323,520\n",
      "_________________________________________________________________\n"
     ]
    }
   ],
   "source": [
    "# Definition conv and classification layers\n",
    "model_4 = models.Sequential()\n",
    "model_4.add(layers.InputLayer(input_shape=(208, 176, 3)))\n",
    "model_4.add(layers.Rescaling(1.0/255))\n",
    "model_4.add(data_augmentation)\n",
    "model_4.add(b_model)\n",
    "model_4.add(layers.Flatten())\n",
    "model_4.add(layers.Dense(512,kernel_initializer='he_uniform'))\n",
    "model_4.add(layers.BatchNormalization())\n",
    "model_4.add(layers.Activation('relu'))\n",
    "model_4.add(layers.Dropout(0.2))\n",
    "model_4.add(layers.Dense(256,kernel_initializer='he_uniform'))\n",
    "model_4.add(layers.BatchNormalization())\n",
    "model_4.add(layers.Activation('relu'))\n",
    "model_4.add(layers.Dropout(0.2))\n",
    "model_4.add(layers.Dense(3,activation='softmax'))\n",
    "\n",
    "# Print only Conv and Pooling layer from model architecture\n",
    "model_4.build()\n",
    "model_4.summary()"
   ]
  },
  {
   "cell_type": "code",
   "execution_count": 19,
   "metadata": {},
   "outputs": [],
   "source": [
    "# Freeze the the behavior of that model. If any trainable value changes, compile() must be called again\n",
    "keras.backend.clear_session()\n",
    "model_4.compile(optimizer=optimizer,\n",
    "    loss=\"CategoricalCrossentropy\",\n",
    "    metrics=[metrics.Precision(), metrics.Recall()])"
   ]
  },
  {
   "cell_type": "code",
   "execution_count": 20,
   "metadata": {},
   "outputs": [
    {
     "name": "stdout",
     "output_type": "stream",
     "text": [
      "Epoch 1/50\n"
     ]
    },
    {
     "name": "stderr",
     "output_type": "stream",
     "text": [
      "2022-06-15 10:08:16.226338: I tensorflow/core/grappler/optimizers/custom_graph_optimizer_registry.cc:113] Plugin optimizer for device_type GPU is enabled.\n"
     ]
    },
    {
     "name": "stdout",
     "output_type": "stream",
     "text": [
      "    144/Unknown - 150s 981ms/step - loss: 0.7677 - precision: 0.7265 - recall: 0.6269"
     ]
    },
    {
     "name": "stderr",
     "output_type": "stream",
     "text": [
      "2022-06-15 10:10:44.032071: I tensorflow/core/grappler/optimizers/custom_graph_optimizer_registry.cc:113] Plugin optimizer for device_type GPU is enabled.\n"
     ]
    },
    {
     "name": "stdout",
     "output_type": "stream",
     "text": [
      "144/144 [==============================] - 192s 1s/step - loss: 0.7677 - precision: 0.7265 - recall: 0.6269 - val_loss: 0.8655 - val_precision: 0.6670 - val_recall: 0.6309\n",
      "Epoch 2/50\n",
      "144/144 [==============================] - 213s 1s/step - loss: 0.2899 - precision: 0.9289 - recall: 0.8908 - val_loss: 0.5877 - val_precision: 0.7598 - val_recall: 0.7279\n",
      "Epoch 3/50\n",
      "144/144 [==============================] - 193s 1s/step - loss: 0.1371 - precision: 0.9778 - recall: 0.9661 - val_loss: 0.4916 - val_precision: 0.8225 - val_recall: 0.7698\n",
      "Epoch 4/50\n",
      "144/144 [==============================] - 163s 1s/step - loss: 0.0799 - precision: 0.9898 - recall: 0.9863 - val_loss: 0.4876 - val_precision: 0.8139 - val_recall: 0.7738\n",
      "Epoch 5/50\n",
      "144/144 [==============================] - 166s 1s/step - loss: 0.0469 - precision: 0.9974 - recall: 0.9961 - val_loss: 0.3977 - val_precision: 0.8601 - val_recall: 0.8275\n",
      "Epoch 6/50\n",
      "144/144 [==============================] - 155s 1s/step - loss: 0.0356 - precision: 0.9978 - recall: 0.9967 - val_loss: 0.4830 - val_precision: 0.8295 - val_recall: 0.8009\n",
      "Epoch 7/50\n",
      "144/144 [==============================] - 154s 1s/step - loss: 0.0239 - precision: 0.9989 - recall: 0.9985 - val_loss: 0.3540 - val_precision: 0.8714 - val_recall: 0.8586\n",
      "Epoch 8/50\n",
      "144/144 [==============================] - 184s 1s/step - loss: 0.0168 - precision: 0.9996 - recall: 0.9996 - val_loss: 0.4274 - val_precision: 0.8512 - val_recall: 0.8344\n",
      "Epoch 9/50\n",
      "144/144 [==============================] - 169s 1s/step - loss: 0.0122 - precision: 1.0000 - recall: 0.9998 - val_loss: 0.4342 - val_precision: 0.8511 - val_recall: 0.8280\n",
      "Epoch 10/50\n",
      "144/144 [==============================] - 149s 1s/step - loss: 0.0102 - precision: 1.0000 - recall: 1.0000 - val_loss: 0.3477 - val_precision: 0.8768 - val_recall: 0.8556\n",
      "Epoch 11/50\n",
      "144/144 [==============================] - 153s 1s/step - loss: 0.0096 - precision: 0.9998 - recall: 0.9998 - val_loss: 0.3416 - val_precision: 0.8838 - val_recall: 0.8659\n",
      "Epoch 12/50\n",
      "144/144 [==============================] - 150s 1s/step - loss: 0.0075 - precision: 1.0000 - recall: 1.0000 - val_loss: 0.3144 - val_precision: 0.8929 - val_recall: 0.8748\n",
      "Epoch 13/50\n",
      "144/144 [==============================] - 150s 1s/step - loss: 0.0066 - precision: 0.9998 - recall: 0.9998 - val_loss: 0.4395 - val_precision: 0.8486 - val_recall: 0.8369\n",
      "Epoch 14/50\n",
      "144/144 [==============================] - 158s 1s/step - loss: 0.0050 - precision: 1.0000 - recall: 1.0000 - val_loss: 0.2772 - val_precision: 0.9103 - val_recall: 0.9000\n",
      "Epoch 15/50\n",
      "144/144 [==============================] - 214s 1s/step - loss: 0.0038 - precision: 1.0000 - recall: 1.0000 - val_loss: 0.2934 - val_precision: 0.9058 - val_recall: 0.8911\n",
      "Epoch 16/50\n",
      "144/144 [==============================] - 167s 1s/step - loss: 0.0034 - precision: 1.0000 - recall: 1.0000 - val_loss: 0.2975 - val_precision: 0.9015 - val_recall: 0.8886\n",
      "Epoch 17/50\n",
      "144/144 [==============================] - 167s 1s/step - loss: 0.0026 - precision: 1.0000 - recall: 1.0000 - val_loss: 0.3056 - val_precision: 0.8991 - val_recall: 0.8871\n",
      "Epoch 18/50\n",
      "144/144 [==============================] - 153s 1s/step - loss: 0.0027 - precision: 1.0000 - recall: 1.0000 - val_loss: 0.2937 - val_precision: 0.9034 - val_recall: 0.8940\n",
      "Epoch 19/50\n",
      "144/144 [==============================] - 167s 1s/step - loss: 0.0023 - precision: 1.0000 - recall: 1.0000 - val_loss: 0.2948 - val_precision: 0.8987 - val_recall: 0.8876\n",
      "Epoch 20/50\n",
      "144/144 [==============================] - 171s 1s/step - loss: 0.0058 - precision: 0.9996 - recall: 0.9996 - val_loss: 0.3691 - val_precision: 0.8766 - val_recall: 0.8615\n",
      "Epoch 21/50\n",
      "144/144 [==============================] - 175s 1s/step - loss: 0.0614 - precision: 0.9811 - recall: 0.9792 - val_loss: 0.8962 - val_precision: 0.7404 - val_recall: 0.7255\n",
      "Epoch 22/50\n",
      "144/144 [==============================] - 174s 1s/step - loss: 0.0842 - precision: 0.9790 - recall: 0.9731 - val_loss: 0.6782 - val_precision: 0.7814 - val_recall: 0.7610\n",
      "Epoch 23/50\n",
      "144/144 [==============================] - 158s 1s/step - loss: 0.0328 - precision: 0.9933 - recall: 0.9924 - val_loss: 0.7377 - val_precision: 0.7766 - val_recall: 0.7624\n",
      "Epoch 24/50\n",
      "144/144 [==============================] - 154s 1s/step - loss: 0.0160 - precision: 0.9987 - recall: 0.9983 - val_loss: 0.3715 - val_precision: 0.8775 - val_recall: 0.8684\n",
      "Epoch 25/50\n",
      "144/144 [==============================] - 172s 1s/step - loss: 0.0076 - precision: 0.9996 - recall: 0.9996 - val_loss: 0.3797 - val_precision: 0.8719 - val_recall: 0.8625\n",
      "Epoch 26/50\n",
      "144/144 [==============================] - 175s 1s/step - loss: 0.0063 - precision: 0.9998 - recall: 0.9996 - val_loss: 0.3387 - val_precision: 0.8879 - val_recall: 0.8788\n",
      "Epoch 27/50\n",
      "144/144 [==============================] - 174s 1s/step - loss: 0.0043 - precision: 0.9998 - recall: 0.9998 - val_loss: 0.3826 - val_precision: 0.8729 - val_recall: 0.8630\n",
      "Epoch 28/50\n",
      "144/144 [==============================] - 205s 1s/step - loss: 0.0030 - precision: 1.0000 - recall: 1.0000 - val_loss: 0.3064 - val_precision: 0.8990 - val_recall: 0.8901\n",
      "Epoch 29/50\n",
      "144/144 [==============================] - 216s 2s/step - loss: 0.0023 - precision: 1.0000 - recall: 1.0000 - val_loss: 0.3484 - val_precision: 0.8896 - val_recall: 0.8817\n",
      "Epoch 30/50\n",
      "144/144 [==============================] - 190s 1s/step - loss: 0.0031 - precision: 0.9998 - recall: 0.9998 - val_loss: 0.3138 - val_precision: 0.9012 - val_recall: 0.8950\n",
      "Epoch 31/50\n",
      "144/144 [==============================] - 190s 1s/step - loss: 0.0021 - precision: 1.0000 - recall: 1.0000 - val_loss: 0.3211 - val_precision: 0.9026 - val_recall: 0.8906\n",
      "Epoch 32/50\n",
      "144/144 [==============================] - 280s 2s/step - loss: 0.0015 - precision: 1.0000 - recall: 1.0000 - val_loss: 0.3254 - val_precision: 0.9014 - val_recall: 0.8921\n",
      "Epoch 33/50\n",
      "144/144 [==============================] - 333s 2s/step - loss: 0.0025 - precision: 0.9998 - recall: 0.9996 - val_loss: 0.3657 - val_precision: 0.8839 - val_recall: 0.8778\n",
      "Epoch 34/50\n",
      "144/144 [==============================] - 271s 2s/step - loss: 0.0023 - precision: 1.0000 - recall: 1.0000 - val_loss: 0.3478 - val_precision: 0.8893 - val_recall: 0.8832\n",
      "Epoch 35/50\n",
      "144/144 [==============================] - 164s 1s/step - loss: 0.0015 - precision: 1.0000 - recall: 1.0000 - val_loss: 0.3126 - val_precision: 0.9010 - val_recall: 0.8926\n",
      "Epoch 36/50\n",
      "144/144 [==============================] - 141s 981ms/step - loss: 0.0011 - precision: 1.0000 - recall: 1.0000 - val_loss: 0.3049 - val_precision: 0.9041 - val_recall: 0.8970\n",
      "Epoch 37/50\n",
      "144/144 [==============================] - 152s 1s/step - loss: 0.0050 - precision: 0.9991 - recall: 0.9991 - val_loss: 0.4629 - val_precision: 0.8556 - val_recall: 0.8408\n",
      "Epoch 38/50\n",
      "144/144 [==============================] - 162s 1s/step - loss: 0.0037 - precision: 0.9998 - recall: 0.9998 - val_loss: 0.3809 - val_precision: 0.8811 - val_recall: 0.8728\n",
      "Epoch 39/50\n",
      "144/144 [==============================] - 156s 1s/step - loss: 0.0021 - precision: 1.0000 - recall: 1.0000 - val_loss: 0.3318 - val_precision: 0.8993 - val_recall: 0.8931\n",
      "Epoch 40/50\n",
      "144/144 [==============================] - 133s 928ms/step - loss: 0.0013 - precision: 1.0000 - recall: 1.0000 - val_loss: 0.3178 - val_precision: 0.9052 - val_recall: 0.8990\n",
      "Epoch 41/50\n",
      "144/144 [==============================] - 169s 1s/step - loss: 0.0012 - precision: 1.0000 - recall: 1.0000 - val_loss: 0.3358 - val_precision: 0.9050 - val_recall: 0.9014\n",
      "Epoch 42/50\n",
      "144/144 [==============================] - 165s 1s/step - loss: 9.1071e-04 - precision: 1.0000 - recall: 1.0000 - val_loss: 0.3016 - val_precision: 0.9113 - val_recall: 0.9059\n",
      "Epoch 43/50\n",
      "144/144 [==============================] - 220s 2s/step - loss: 6.0931e-04 - precision: 1.0000 - recall: 1.0000 - val_loss: 0.3062 - val_precision: 0.9058 - val_recall: 0.9004\n",
      "Epoch 44/50\n",
      " 32/144 [=====>........................] - ETA: 3:38 - loss: 5.6569e-04 - precision: 1.0000 - recall: 1.0000"
     ]
    }
   ],
   "source": [
    "# Model training. Model weights are saved at the end of every epoch, if it's the best seen so far\n",
    "with tf.device(\"/gpu:0\"):\n",
    "    tf.random.set_seed(10)\n",
    "    model_4_history = model_4.fit(x=train_fullTensor,\n",
    "                        validation_data=val_fullTensor,\n",
    "                        epochs=50, \n",
    "                        shuffle=True\n",
    "                        #callbacks=[model_checkpoint_callback]\n",
    "                        )"
   ]
  },
  {
   "cell_type": "code",
   "execution_count": 79,
   "metadata": {},
   "outputs": [
    {
     "data": {
      "image/png": "[encoded data removed]",
      "text/plain": [
       "<Figure size 432x288 with 1 Axes>"
      ]
     },
     "metadata": {
      "needs_background": "light"
     },
     "output_type": "display_data"
    }
   ],
   "source": [
    "plt.plot(model_4_history.history['recall'], label='recall')\n",
    "plt.plot(model_4_history.history['val_recall'], label = 'val_recall')\n",
    "plt.xlabel('Epoch')\n",
    "plt.ylabel('recall')\n",
    "plt.ylim([0, 1])\n",
    "plt.legend(loc='lower right')\n",
    "plt.show()"
   ]
  },
  {
   "cell_type": "code",
   "execution_count": 80,
   "metadata": {},
   "outputs": [
    {
     "data": {
      "image/png": "[encoded data removed]",
      "text/plain": [
       "<Figure size 432x288 with 1 Axes>"
      ]
     },
     "metadata": {
      "needs_background": "light"
     },
     "output_type": "display_data"
    }
   ],
   "source": [
    "plt.plot(model_4_history.history['loss'], label='Training loss')\n",
    "plt.plot(model_4_history.history['val_loss'], label='validation loss')\n",
    "plt.title('Training and Validation loss')\n",
    "plt.xlabel('Epochs')\n",
    "plt.ylabel('Loss')\n",
    "plt.legend()\n",
    "plt.show()"
   ]
  },
  {
   "cell_type": "code",
   "execution_count": 83,
   "metadata": {},
   "outputs": [
    {
     "name": "stderr",
     "output_type": "stream",
     "text": [
      "WARNING:absl:Found untraced functions such as _jit_compiled_convolution_op, _jit_compiled_convolution_op, _jit_compiled_convolution_op, _jit_compiled_convolution_op, _jit_compiled_convolution_op while saving (showing 5 of 200). These functions will not be directly callable after loading.\n"
     ]
    },
    {
     "name": "stdout",
     "output_type": "stream",
     "text": [
      "INFO:tensorflow:Assets written to: /Users/josealbertodiazsalas/Documents/densenet201/assets\n"
     ]
    },
    {
     "name": "stderr",
     "output_type": "stream",
     "text": [
      "INFO:tensorflow:Assets written to: /Users/josealbertodiazsalas/Documents/densenet201/assets\n"
     ]
    }
   ],
   "source": [
    "#model_4.save('/Users/josealbertodiazsalas/Documents/densenet201')\n",
    "model_4.save('/Users/josealbertodiazsalas/Documents/densenet201.h5')"
   ]
  },
  {
   "cell_type": "markdown",
   "metadata": {},
   "source": [
    "------\n",
    "### MOdel 5"
   ]
  },
  {
   "cell_type": "code",
   "execution_count": 39,
   "metadata": {},
   "outputs": [],
   "source": [
    "# Defining both base and final model architecture\n",
    "b_model = base_model(MODEL='DenseNet201', freeze_layers=False)"
   ]
  },
  {
   "cell_type": "code",
   "execution_count": 40,
   "metadata": {},
   "outputs": [
    {
     "name": "stdout",
     "output_type": "stream",
     "text": [
      "Model: \"sequential\"\n",
      "_________________________________________________________________\n",
      " Layer (type)                Output Shape              Param #   \n",
      "=================================================================\n",
      " rescaling (Rescaling)       (None, 208, 176, 3)       0         \n",
      "                                                                 \n",
      " sequential (Sequential)     (None, 208, 176, 3)       0         \n",
      "                                                                 \n",
      " densenet201 (Functional)    (None, 6, 5, 1920)        18321984  \n",
      "                                                                 \n",
      " dropout (Dropout)           (None, 6, 5, 1920)        0         \n",
      "                                                                 \n",
      " flatten (Flatten)           (None, 57600)             0         \n",
      "                                                                 \n",
      " batch_normalization (BatchN  (None, 57600)            230400    \n",
      " ormalization)                                                   \n",
      "                                                                 \n",
      " dense (Dense)               (None, 512)               29491712  \n",
      "                                                                 \n",
      " batch_normalization_1 (Batc  (None, 512)              2048      \n",
      " hNormalization)                                                 \n",
      "                                                                 \n",
      " activation (Activation)     (None, 512)               0         \n",
      "                                                                 \n",
      " dropout_1 (Dropout)         (None, 512)               0         \n",
      "                                                                 \n",
      " dense_1 (Dense)             (None, 256)               131328    \n",
      "                                                                 \n",
      " batch_normalization_2 (Batc  (None, 256)              1024      \n",
      " hNormalization)                                                 \n",
      "                                                                 \n",
      " activation_1 (Activation)   (None, 256)               0         \n",
      "                                                                 \n",
      " dropout_2 (Dropout)         (None, 256)               0         \n",
      "                                                                 \n",
      " dense_2 (Dense)             (None, 3)                 771       \n",
      "                                                                 \n",
      "=================================================================\n",
      "Total params: 48,179,267\n",
      "Trainable params: 47,833,475\n",
      "Non-trainable params: 345,792\n",
      "_________________________________________________________________\n"
     ]
    }
   ],
   "source": [
    "# Definition conv and classification layers\n",
    "model_5 = models.Sequential()\n",
    "model_5.add(layers.InputLayer(input_shape=(208, 176, 3)))\n",
    "model_5.add(layers.Rescaling(1.0/255))\n",
    "model_5.add(data_augmentation)\n",
    "model_5.add(b_model)\n",
    "model_5.add(layers.Dropout(0.5))\n",
    "model_5.add(layers.Flatten())\n",
    "model_5.add(layers.BatchNormalization())\n",
    "model_5.add(layers.Dense(512,kernel_initializer='he_uniform'))\n",
    "model_5.add(layers.BatchNormalization())\n",
    "model_5.add(layers.Activation('relu'))\n",
    "model_5.add(layers.Dropout(0.5))\n",
    "model_5.add(layers.Dense(256,kernel_initializer='he_uniform'))\n",
    "model_5.add(layers.BatchNormalization())\n",
    "model_5.add(layers.Activation('relu'))\n",
    "model_5.add(layers.Dropout(0.5))\n",
    "model_5.add(layers.Dense(3,activation='softmax'))\n",
    "\n",
    "# Print only Conv and Pooling layer from model architecture\n",
    "model_5.build()\n",
    "model_5.summary()"
   ]
  },
  {
   "cell_type": "code",
   "execution_count": 41,
   "metadata": {},
   "outputs": [],
   "source": [
    "# Freeze the the behavior of that model. If any trainable value changes, compile() must be called again\n",
    "keras.backend.clear_session()\n",
    "model_5.compile(optimizer=optimizer,\n",
    "    loss=\"CategoricalCrossentropy\",\n",
    "    metrics=[metrics.Precision(), metrics.Recall()])"
   ]
  },
  {
   "cell_type": "code",
   "execution_count": 42,
   "metadata": {},
   "outputs": [
    {
     "name": "stdout",
     "output_type": "stream",
     "text": [
      "Epoch 1/30\n"
     ]
    },
    {
     "name": "stderr",
     "output_type": "stream",
     "text": [
      "2022-06-14 23:21:19.058352: I tensorflow/core/grappler/optimizers/custom_graph_optimizer_registry.cc:113] Plugin optimizer for device_type GPU is enabled.\n"
     ]
    },
    {
     "name": "stdout",
     "output_type": "stream",
     "text": [
      "    144/Unknown - 780s 5s/step - loss: 1.0502 - precision: 0.5693 - recall: 0.4671"
     ]
    },
    {
     "name": "stderr",
     "output_type": "stream",
     "text": [
      "2022-06-14 23:34:10.938128: I tensorflow/core/grappler/optimizers/custom_graph_optimizer_registry.cc:113] Plugin optimizer for device_type GPU is enabled.\n"
     ]
    },
    {
     "name": "stdout",
     "output_type": "stream",
     "text": [
      "144/144 [==============================] - 825s 5s/step - loss: 1.0502 - precision: 0.5693 - recall: 0.4671 - val_loss: 1.0383 - val_precision: 0.5774 - val_recall: 0.5185\n",
      "Epoch 2/30\n",
      "144/144 [==============================] - 717s 5s/step - loss: 0.5429 - precision: 0.8018 - recall: 0.7275 - val_loss: 0.8651 - val_precision: 0.6443 - val_recall: 0.5525\n",
      "Epoch 3/30\n",
      "144/144 [==============================] - 674s 5s/step - loss: 0.2928 - precision: 0.9041 - recall: 0.8762 - val_loss: 0.5961 - val_precision: 0.7931 - val_recall: 0.6875\n",
      "Epoch 4/30\n",
      "144/144 [==============================] - 743s 5s/step - loss: 0.1490 - precision: 0.9577 - recall: 0.9481 - val_loss: 0.5775 - val_precision: 0.7824 - val_recall: 0.7018\n",
      "Epoch 5/30\n",
      "144/144 [==============================] - 695s 5s/step - loss: 0.0881 - precision: 0.9791 - recall: 0.9750 - val_loss: 0.3884 - val_precision: 0.8678 - val_recall: 0.8280\n",
      "Epoch 6/30\n",
      "144/144 [==============================] - 748s 5s/step - loss: 0.0559 - precision: 0.9870 - recall: 0.9855 - val_loss: 0.3879 - val_precision: 0.8625 - val_recall: 0.8314\n",
      "Epoch 7/30\n",
      "144/144 [==============================] - 742s 5s/step - loss: 0.0327 - precision: 0.9920 - recall: 0.9909 - val_loss: 0.4680 - val_precision: 0.8225 - val_recall: 0.7787\n",
      "Epoch 8/30\n",
      "144/144 [==============================] - 705s 5s/step - loss: 0.0198 - precision: 0.9970 - recall: 0.9967 - val_loss: 0.2776 - val_precision: 0.9097 - val_recall: 0.8842\n",
      "Epoch 9/30\n",
      "144/144 [==============================] - 704s 5s/step - loss: 0.0165 - precision: 0.9970 - recall: 0.9965 - val_loss: 0.3950 - val_precision: 0.8598 - val_recall: 0.8221\n",
      "Epoch 10/30\n",
      "144/144 [==============================] - 689s 5s/step - loss: 0.0158 - precision: 0.9972 - recall: 0.9967 - val_loss: 0.3441 - val_precision: 0.8921 - val_recall: 0.8517\n",
      "Epoch 11/30\n",
      "144/144 [==============================] - 678s 5s/step - loss: 0.0153 - precision: 0.9967 - recall: 0.9963 - val_loss: 0.4158 - val_precision: 0.8411 - val_recall: 0.8142\n",
      "Epoch 12/30\n",
      "144/144 [==============================] - 689s 5s/step - loss: 0.0210 - precision: 0.9952 - recall: 0.9948 - val_loss: 0.3196 - val_precision: 0.8863 - val_recall: 0.8679\n",
      "Epoch 13/30\n",
      "144/144 [==============================] - 713s 5s/step - loss: 0.0150 - precision: 0.9974 - recall: 0.9970 - val_loss: 0.2634 - val_precision: 0.9101 - val_recall: 0.8985\n",
      "Epoch 14/30\n",
      "144/144 [==============================] - 750s 5s/step - loss: 0.0074 - precision: 0.9991 - recall: 0.9991 - val_loss: 0.2489 - val_precision: 0.9134 - val_recall: 0.8995\n",
      "Epoch 15/30\n",
      "144/144 [==============================] - 714s 5s/step - loss: 0.0087 - precision: 0.9989 - recall: 0.9989 - val_loss: 0.2778 - val_precision: 0.9026 - val_recall: 0.8911\n",
      "Epoch 16/30\n",
      "144/144 [==============================] - 691s 5s/step - loss: 0.0074 - precision: 0.9983 - recall: 0.9983 - val_loss: 0.2869 - val_precision: 0.8961 - val_recall: 0.8881\n",
      "Epoch 17/30\n",
      "144/144 [==============================] - 732s 5s/step - loss: 0.0067 - precision: 0.9991 - recall: 0.9991 - val_loss: 0.2885 - val_precision: 0.9051 - val_recall: 0.8832\n",
      "Epoch 18/30\n",
      "144/144 [==============================] - 726s 5s/step - loss: 0.0066 - precision: 0.9987 - recall: 0.9985 - val_loss: 0.3406 - val_precision: 0.8896 - val_recall: 0.8615\n",
      "Epoch 19/30\n",
      "144/144 [==============================] - 717s 5s/step - loss: 0.0376 - precision: 0.9876 - recall: 0.9870 - val_loss: 0.7444 - val_precision: 0.7446 - val_recall: 0.7373\n",
      "Epoch 20/30\n",
      "144/144 [==============================] - 711s 5s/step - loss: 0.0487 - precision: 0.9839 - recall: 0.9833 - val_loss: 0.4515 - val_precision: 0.8438 - val_recall: 0.8305\n",
      "Epoch 21/30\n",
      "144/144 [==============================] - 709s 5s/step - loss: 0.0299 - precision: 0.9915 - recall: 0.9911 - val_loss: 0.2911 - val_precision: 0.9055 - val_recall: 0.8832\n",
      "Epoch 22/30\n",
      "144/144 [==============================] - 712s 5s/step - loss: 0.0178 - precision: 0.9948 - recall: 0.9944 - val_loss: 0.2896 - val_precision: 0.9004 - val_recall: 0.8862\n",
      "Epoch 23/30\n",
      "144/144 [==============================] - 749s 5s/step - loss: 0.0096 - precision: 0.9978 - recall: 0.9978 - val_loss: 0.4046 - val_precision: 0.8521 - val_recall: 0.8206\n",
      "Epoch 24/30\n",
      "144/144 [==============================] - 740s 5s/step - loss: 0.0060 - precision: 0.9993 - recall: 0.9993 - val_loss: 0.2878 - val_precision: 0.8960 - val_recall: 0.8832\n",
      "Epoch 25/30\n",
      "144/144 [==============================] - 736s 5s/step - loss: 0.0055 - precision: 0.9989 - recall: 0.9989 - val_loss: 0.2708 - val_precision: 0.9029 - val_recall: 0.8842\n",
      "Epoch 26/30\n",
      "144/144 [==============================] - 756s 5s/step - loss: 0.0072 - precision: 0.9980 - recall: 0.9978 - val_loss: 0.2308 - val_precision: 0.9192 - val_recall: 0.9078\n",
      "Epoch 27/30\n",
      "144/144 [==============================] - 705s 5s/step - loss: 0.0078 - precision: 0.9978 - recall: 0.9978 - val_loss: 0.2486 - val_precision: 0.9188 - val_recall: 0.8980\n",
      "Epoch 28/30\n",
      "144/144 [==============================] - 739s 5s/step - loss: 0.0120 - precision: 0.9967 - recall: 0.9967 - val_loss: 0.2592 - val_precision: 0.9110 - val_recall: 0.8975\n",
      "Epoch 29/30\n",
      "144/144 [==============================] - 694s 5s/step - loss: 0.0059 - precision: 0.9985 - recall: 0.9980 - val_loss: 0.3868 - val_precision: 0.8701 - val_recall: 0.8418\n",
      "Epoch 30/30\n",
      "144/144 [==============================] - 724s 5s/step - loss: 0.0082 - precision: 0.9980 - recall: 0.9980 - val_loss: 0.4232 - val_precision: 0.8490 - val_recall: 0.8314\n"
     ]
    }
   ],
   "source": [
    "\n",
    "# Model training. Model weights are saved at the end of every epoch, if it's the best seen so far\n",
    "with tf.device(\"/gpu:0\"):\n",
    "    tf.random.set_seed(10)\n",
    "    model_5_history = model_5.fit(x=train_fullTensor,\n",
    "                        validation_data=val_fullTensor,\n",
    "                        epochs=30, \n",
    "                        shuffle=True\n",
    "                        #callbacks=[model_checkpoint_callback]\n",
    "                        )"
   ]
  },
  {
   "cell_type": "code",
   "execution_count": 43,
   "metadata": {},
   "outputs": [
    {
     "data": {
      "image/png": "[encoded data removed]",
      "text/plain": [
       "<Figure size 432x288 with 1 Axes>"
      ]
     },
     "metadata": {
      "needs_background": "light"
     },
     "output_type": "display_data"
    }
   ],
   "source": [
    "plt.plot(model_5_history.history['recall'], label='recall')\n",
    "plt.plot(model_5_history.history['val_recall'], label = 'val_recall')\n",
    "plt.xlabel('Epoch')\n",
    "plt.ylabel('recall')\n",
    "plt.ylim([0, 1])\n",
    "plt.legend(loc='lower right')\n",
    "plt.show()"
   ]
  },
  {
   "cell_type": "code",
   "execution_count": 44,
   "metadata": {},
   "outputs": [
    {
     "data": {
      "image/png": "[encoded data removed]",
      "text/plain": [
       "<Figure size 432x288 with 1 Axes>"
      ]
     },
     "metadata": {
      "needs_background": "light"
     },
     "output_type": "display_data"
    }
   ],
   "source": [
    "plt.plot(model_5_history.history['loss'], label='Training loss')\n",
    "plt.plot(model_5_history.history['val_loss'], label='validation loss')\n",
    "plt.title('Training and Validation loss')\n",
    "plt.xlabel('Epochs')\n",
    "plt.ylabel('Loss')\n",
    "plt.legend()\n",
    "plt.show()"
   ]
  },
  {
   "cell_type": "markdown",
   "metadata": {},
   "source": [
    "------\n",
    "### Model 6"
   ]
  },
  {
   "cell_type": "code",
   "execution_count": 63,
   "metadata": {},
   "outputs": [],
   "source": [
    "# Defining both base and final model architecture\n",
    "b_model = base_model(MODEL='DenseNet201', freeze_layers=False)"
   ]
  },
  {
   "cell_type": "code",
   "execution_count": 72,
   "metadata": {},
   "outputs": [
    {
     "name": "stdout",
     "output_type": "stream",
     "text": [
      "Model: \"sequential_21\"\n",
      "_________________________________________________________________\n",
      " Layer (type)                Output Shape              Param #   \n",
      "=================================================================\n",
      " rescaling_21 (Rescaling)    (None, 208, 176, 3)       0         \n",
      "                                                                 \n",
      " sequential (Sequential)     (None, 208, 176, 3)       0         \n",
      "                                                                 \n",
      " densenet201 (Functional)    (None, 6, 5, 1920)        18321984  \n",
      "                                                                 \n",
      " flatten_17 (Flatten)        (None, 57600)             0         \n",
      "                                                                 \n",
      " dense_56 (Dense)            (None, 256)               14745856  \n",
      "                                                                 \n",
      " batch_normalization_38 (Bat  (None, 256)              1024      \n",
      " chNormalization)                                                \n",
      "                                                                 \n",
      " activation_35 (Activation)  (None, 256)               0         \n",
      "                                                                 \n",
      " dropout_36 (Dropout)        (None, 256)               0         \n",
      "                                                                 \n",
      " dense_57 (Dense)            (None, 256)               65792     \n",
      "                                                                 \n",
      " batch_normalization_39 (Bat  (None, 256)              1024      \n",
      " chNormalization)                                                \n",
      "                                                                 \n",
      " activation_36 (Activation)  (None, 256)               0         \n",
      "                                                                 \n",
      " dropout_37 (Dropout)        (None, 256)               0         \n",
      "                                                                 \n",
      " dense_58 (Dense)            (None, 3)                 771       \n",
      "                                                                 \n",
      "=================================================================\n",
      "Total params: 33,136,451\n",
      "Trainable params: 32,906,371\n",
      "Non-trainable params: 230,080\n",
      "_________________________________________________________________\n"
     ]
    }
   ],
   "source": [
    "# Definition conv and classification layers\n",
    "model_6 = models.Sequential()\n",
    "model_6.add(layers.InputLayer(input_shape=(208, 176, 3)))\n",
    "model_6.add(layers.Rescaling(1.0/255))\n",
    "model_6.add(data_augmentation)\n",
    "model_6.add(b_model)\n",
    "model_6.add(layers.Flatten())\n",
    "model_6.add(layers.Dense(256,kernel_initializer='he_uniform'))\n",
    "model_6.add(layers.BatchNormalization())\n",
    "model_6.add(layers.Activation('relu'))\n",
    "model_6.add(layers.Dropout(0.2))\n",
    "model_6.add(layers.Dense(256,kernel_initializer='he_uniform'))\n",
    "model_6.add(layers.BatchNormalization())\n",
    "model_6.add(layers.Activation('relu'))\n",
    "model_6.add(layers.Dropout(0.2))\n",
    "model_6.add(layers.Dense(3,activation='softmax'))\n",
    "\n",
    "# Print only Conv and Pooling layer from model architecture\n",
    "model_6.build()\n",
    "model_6.summary()"
   ]
  },
  {
   "cell_type": "code",
   "execution_count": 73,
   "metadata": {},
   "outputs": [],
   "source": [
    "# Freeze the the behavior of that model. If any trainable value changes, compile() must be called again\n",
    "keras.backend.clear_session()\n",
    "model_6.compile(optimizer=optimizer,\n",
    "    loss=\"CategoricalCrossentropy\",\n",
    "    metrics=[metrics.Precision(), metrics.Recall()])"
   ]
  },
  {
   "cell_type": "code",
   "execution_count": null,
   "metadata": {},
   "outputs": [],
   "source": [
    "\n",
    "# Model training. Model weights are saved at the end of every epoch, if it's the best seen so far\n",
    "with tf.device(\"/gpu:0\"):\n",
    "    tf.random.set_seed(10)\n",
    "    model_6_history = model_6.fit(x=train_fullTensor,\n",
    "                        validation_data=val_fullTensor,\n",
    "                        epochs=30, \n",
    "                        shuffle=True\n",
    "                        #callbacks=[model_checkpoint_callback]\n",
    "                        )"
   ]
  },
  {
   "cell_type": "code",
   "execution_count": null,
   "metadata": {},
   "outputs": [],
   "source": [
    "plt.plot(model_history.history['val_recall'], label = 'model_1')\n",
    "plt.plot(model_2_history.history['val_recall'], label = 'model_2')\n",
    "plt.plot(model_3_history.history['val_recall'], label = 'model_3')\n",
    "plt.plot(model_4_history.history['val_recall'], label = 'model_4')\n",
    "plt.plot(model_5_history.history['val_recall'], label = 'model_5')\n",
    "plt.title('Validation recall')\n",
    "plt.xlabel('Epochs')\n",
    "plt.ylabel('Loss')\n",
    "plt.legend()\n",
    "plt.show()\n"
   ]
  },
  {
   "cell_type": "markdown",
   "metadata": {},
   "source": [
    "### Load a Testset"
   ]
  },
  {
   "cell_type": "code",
   "execution_count": null,
   "metadata": {},
   "outputs": [
    {
     "name": "stdout",
     "output_type": "stream",
     "text": [
      "\n",
      "\n",
      "Image Array Shape: (231, 208, 176, 3) \n",
      "\n",
      "Image Count: 231 \n",
      "\n",
      "labels: [0. 1. 2. 3.] \n",
      "\n",
      "Class Counts:\n",
      "      ID\n",
      "CDR     \n",
      "0.0  131\n",
      "1.0   70\n",
      "2.0   28\n",
      "3.0    2\n"
     ]
    }
   ],
   "source": [
    "oasis_img_temp, oasis_label_temp = load_oasis_set_win()"
   ]
  },
  {
   "cell_type": "markdown",
   "metadata": {},
   "source": [
    "### Get only classes 0, 1 and 2 of the Testset"
   ]
  },
  {
   "cell_type": "code",
   "execution_count": null,
   "metadata": {},
   "outputs": [],
   "source": [
    "oasis_images = []\n",
    "oasis_labels = []\n",
    "for image,label in zip(oasis_img_temp,oasis_label_temp):\n",
    "    if int(label) == 3:\n",
    "        continue\n",
    "    if int(label) == 0:\n",
    "        #image = image/255\n",
    "        oasis_images.append(cv2.flip(image,0))\n",
    "        oasis_labels.append([1,0,0])\n",
    "    if int(label) == 1:\n",
    "        #image = image/255\n",
    "        oasis_images.append(cv2.flip(image,0))\n",
    "        oasis_labels.append([0,1,0])\n",
    "    if int(label) == 2:\n",
    "        #image = image/255\n",
    "        oasis_images.append(cv2.flip(image,0))\n",
    "        oasis_labels.append([0,0,1])\n",
    "\n",
    "oasis_images = np.array(oasis_images)\n",
    "oasis_labels = np.array(oasis_labels)\n",
    "        "
   ]
  },
  {
   "cell_type": "code",
   "execution_count": null,
   "metadata": {},
   "outputs": [
    {
     "name": "stderr",
     "output_type": "stream",
     "text": [
      "Clipping input data to the valid range for imshow with RGB data ([0..1] for floats or [0..255] for integers).\n"
     ]
    },
    {
     "data": {
      "text/plain": [
       "<matplotlib.image.AxesImage at 0x24712869af0>"
      ]
     },
     "execution_count": 67,
     "metadata": {},
     "output_type": "execute_result"
    },
    {
     "data": {
      "image/png": "[encoded data removed]",
      "text/plain": [
       "<Figure size 432x288 with 1 Axes>"
      ]
     },
     "metadata": {
      "needs_background": "light"
     },
     "output_type": "display_data"
    }
   ],
   "source": [
    "plt.imshow(oasis_images[0].astype(\"uint8\"))"
   ]
  },
  {
   "cell_type": "markdown",
   "metadata": {},
   "source": [
    "### Perform a Prediction on the Testset and Visualize the Results"
   ]
  },
  {
   "cell_type": "code",
   "execution_count": null,
   "metadata": {},
   "outputs": [
    {
     "name": "stdout",
     "output_type": "stream",
     "text": [
      "229/229 [==============================] - 1s 4ms/step\n"
     ]
    }
   ],
   "source": [
    "oasis_pred = model.predict(oasis_images, batch_size=1)"
   ]
  },
  {
   "cell_type": "code",
   "execution_count": null,
   "metadata": {},
   "outputs": [
    {
     "data": {
      "image/png": "[encoded data removed]",
      "text/plain": [
       "<Figure size 864x576 with 1 Axes>"
      ]
     },
     "metadata": {
      "needs_background": "light"
     },
     "output_type": "display_data"
    },
    {
     "name": "stdout",
     "output_type": "stream",
     "text": [
      "-----Recalls-----\n",
      "healthy Recall: 0.9770992366412213\n",
      "veryMildAD Recall: 0.9285714285714286\n",
      "mildAD Recall: 0.8928571428571429\n",
      "-------#####-------\n",
      "\n",
      "\n",
      "-----Precisions-----\n",
      "healthy Precision: 0.9552238805970149\n",
      "veryMildAD Precision: 0.9420289855072463\n",
      "mildAD Precision: 0.9615384615384616\n",
      "-------#####-------\n",
      "\n",
      "\n",
      "-----Macro Recall and Precisions-----\n",
      "Macro recall: 0.9328426026899309\n",
      "Macro recall: 0.9529304425475743\n",
      "-------#####-------\n"
     ]
    }
   ],
   "source": [
    "precision_recall_multiclass(oasis_pred,oasis_labels,[\"healthy\",\"veryMildAD\",\"mildAD\"])"
   ]
  }
 ],
 "metadata": {
  "kernelspec": {
   "display_name": "Python 3.9.8 ('.venv': venv)",
   "language": "python",
   "name": "python3"
  },
  "language_info": {
   "codemirror_mode": {
    "name": "ipython",
    "version": 3
   },
   "file_extension": ".py",
   "mimetype": "text/x-python",
   "name": "python",
   "nbconvert_exporter": "python",
   "pygments_lexer": "ipython3",
   "version": "3.9.8"
  },
  "orig_nbformat": 4,
  "vscode": {
   "interpreter": {
    "hash": "f4bbe81aeeb531c126008c724994955906b0f990de7c9493984586aab713c420"
   }
  }
 },
 "nbformat": 4,
 "nbformat_minor": 2
}
