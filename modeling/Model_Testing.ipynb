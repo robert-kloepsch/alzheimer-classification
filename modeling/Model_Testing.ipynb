{
 "cells": [
  {
   "cell_type": "code",
   "execution_count": null,
   "metadata": {},
   "outputs": [],
   "source": [
    "#load all packages\n",
    "\n",
    "# base packages\n",
    "import numpy as np\n",
    "import matplotlib.pyplot as plt\n",
    "\n",
    "# tensorflow and keras\n",
    "import tensorflow as tf\n",
    "\n",
    "# sklearn\n",
    "from sklearn.utils import shuffle\n"
   ]
  },
  {
   "cell_type": "markdown",
   "metadata": {},
   "source": [
    "### Load a Testset"
   ]
  },
  {
   "cell_type": "code",
   "execution_count": null,
   "metadata": {},
   "outputs": [],
   "source": [
    "# load validation dataset from drive\n",
    "# set for training\n",
    "#PATH = \"/Users/josealbertodiazsalas/Documents/Alzheimer_s Dataset/train\"\n",
    "PATH = \"F:\\\\MRI_class\\\\data\\\\realTest3\"\n",
    "IMAGE_SIZE = (208, 176)\n",
    "test_ds = image_dataset_from_directory(\n",
    "                                        PATH, \n",
    "                                        seed=10, \n",
    "                                        shuffle=True, \n",
    "                                        image_size=IMAGE_SIZE, \n",
    "                                        batch_size=32\n",
    "                                        )\n",
    "\n",
    "# one hot encode the labels to fit into the cnn layers\n",
    "test_fullTensor = test_ds.map(lambda x, y: (x, tf.one_hot(y, depth=3)))"
   ]
  },
  {
   "cell_type": "code",
   "execution_count": null,
   "metadata": {},
   "outputs": [],
   "source": [
    "test_images = []\n",
    "test_labels = []\n",
    "for image,label in test_fullTensor.unbatch():\n",
    "    \n",
    "    test_images.append(image.numpy())\n",
    "    test_labels.append(label.numpy())\n",
    "\n",
    "test_images = np.array(test_images)\n",
    "test_labels = np.array(test_labels)"
   ]
  },
  {
   "cell_type": "markdown",
   "metadata": {},
   "source": [
    "### Check Images"
   ]
  },
  {
   "cell_type": "code",
   "execution_count": null,
   "metadata": {},
   "outputs": [],
   "source": [
    "for image, label in test_fullTensor.unbatch().take(1):\n",
    "    plt.imshow(image.numpy().astype(\"uint8\"))"
   ]
  },
  {
   "cell_type": "markdown",
   "metadata": {},
   "source": [
    "### Load a Model"
   ]
  },
  {
   "cell_type": "code",
   "execution_count": null,
   "metadata": {},
   "outputs": [],
   "source": [
    "model_path = \"\"\n",
    "\n",
    "model = tf.keras.models.load_model(path_to_model)"
   ]
  },
  {
   "cell_type": "markdown",
   "metadata": {},
   "source": [
    "### Perform Prediction and Evaluate"
   ]
  },
  {
   "cell_type": "code",
   "execution_count": null,
   "metadata": {},
   "outputs": [],
   "source": [
    "y_pred = model.predict(test_fullTensor, batch_size=1)"
   ]
  },
  {
   "cell_type": "code",
   "execution_count": null,
   "metadata": {},
   "outputs": [],
   "source": [
    "precision_recall_multiclass(y_pred,test_labels,[\"healthy\",\"veryMildAD\",\"mildAD\"])"
   ]
  },
  {
   "cell_type": "markdown",
   "metadata": {},
   "source": [
    "### --------------------------------------------------------------------------------------------------------------------------------------------"
   ]
  },
  {
   "cell_type": "code",
   "execution_count": null,
   "metadata": {},
   "outputs": [],
   "source": [
    "# load validation dataset from drive\n",
    "# set for training\n",
    "#PATH = \"/Users/josealbertodiazsalas/Documents/Alzheimer_s Dataset/train\"\n",
    "PATH = \"F:\\\\MRI_class\\\\data\\\\realTest3\"\n",
    "IMAGE_SIZE = (208, 176)\n",
    "test_ds = image_dataset_from_directory(\n",
    "                                        PATH, \n",
    "                                        seed=10, \n",
    "                                        shuffle=False, \n",
    "                                        image_size=IMAGE_SIZE, \n",
    "                                        batch_size=32\n",
    "                                        )\n",
    "\n",
    "# one hot encode the labels to fit into the cnn layers\n",
    "test_fullTensor = test_ds.map(lambda x, y: (x, tf.one_hot(y, depth=3)))"
   ]
  },
  {
   "cell_type": "code",
   "execution_count": null,
   "metadata": {},
   "outputs": [],
   "source": [
    "test_images = []\n",
    "test_labels = []\n",
    "for image,label in test_fullTensor.unbatch():\n",
    "    \n",
    "    test_images.append(image.numpy())\n",
    "    test_labels.append(label.numpy())\n",
    "\n",
    "test_images = np.array(test_images)\n",
    "test_labels = np.array(test_labels)\n",
    "\n",
    "test_images, test_labels = shuffle(test_images, test_labels, random_state=10)"
   ]
  },
  {
   "cell_type": "code",
   "execution_count": null,
   "metadata": {},
   "outputs": [],
   "source": []
  }
 ],
 "metadata": {
  "language_info": {
   "name": "python"
  },
  "orig_nbformat": 4
 },
 "nbformat": 4,
 "nbformat_minor": 2
}
